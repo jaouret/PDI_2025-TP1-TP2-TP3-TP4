{
 "cells": [
  {
   "cell_type": "markdown",
   "id": "6b9a680b-d18b-4416-8c4b-48a608e26a22",
   "metadata": {},
   "source": [
    "# Websockets"
   ]
  },
  {
   "cell_type": "markdown",
   "id": "924f45bf-1276-4077-9a52-3f0ce07f410a",
   "metadata": {},
   "source": [
    "- WebSocket es un protocolo de comunicación que proporciona un canal full-duplex (bidireccional simultáneo) persistente sobre una única conexión TCP.   \n",
    "- Permite la comunicación en tiempo real entre cliente (por ejemplo, un navegador web) y servidor con baja sobrecarga de la red, evitando la necesidad de realizar múltiples solicitudes HTTP o HTTPS.\n",
    "- HTTP tradicional es un modelo de request-response → el cliente siempre inicia la comunicación.\n",
    "   - Para aplicaciones en tiempo real (chats, juegos online, trading), puede usar técnicas como:\n",
    "     - Polling: puede enviar peticiones periódicas, pero es ineficiente.\n",
    "     - Long Polling: puede mantener la conexión abierta hasta que el servidor responda, costoso en recursos.\n",
    "- WebSocket (RFC 6455 - 2011) soluciona estos problemas proporcionando una conexión persistente eficiente."
   ]
  },
  {
   "cell_type": "markdown",
   "id": "d2763994-ffaf-4bf3-8e86-8a943db6b6fa",
   "metadata": {},
   "source": [
    "### Características de Websockets\n",
    "Nota: donde dice HTTP puede ser también HTTPS."
   ]
  },
  {
   "cell_type": "markdown",
   "id": "1dbc5e5a-9f67-45b6-a173-207eb89ce420",
   "metadata": {},
   "source": [
    "- Permite una comunicación full-duplex\n",
    "   - Cliente y servidor pueden enviar mensajes en cualquier momento sin necesidad de iniciar una nueva conexión.\n",
    "- Tiene un bajo consumo de recursos\n",
    "   - Realiza un handshake inicial usando HTTP.\n",
    "     - Reduce el overhead de cabeceras.\n",
    "- Latencia baja\n",
    "   - Permite aplicaciones en tiempo real.\n",
    "- Compatibilidad\n",
    "   - Puede consideranrse una limitación leve\n",
    "     - Requiere soporte tanto del navegador como del servidor."
   ]
  },
  {
   "cell_type": "markdown",
   "id": "ccf61115-9f5a-4645-a295-a833b5f543bb",
   "metadata": {},
   "source": [
    "### Cómo funciona"
   ]
  },
  {
   "cell_type": "markdown",
   "id": "70844d40-2b9c-426f-a371-99939f197998",
   "metadata": {},
   "source": [
    "- Handshake\n",
    "   - Cliente abre conexión HTTP tradicional al servidor (puerto 80 o 443).\n",
    "   - Cliente envía una cabecera especial:"
   ]
  },
  {
   "cell_type": "raw",
   "id": "76d565e0-0bcd-4809-b74f-38b48fbb5e41",
   "metadata": {},
   "source": [
    "GET /chat HTTP/1.1\n",
    "Host: server.example.com\n",
    "Upgrade: websocket\n",
    "Connection: Upgrade\n",
    "Sec-WebSocket-Key: x3JJHMbDL1EzLkh9GBhXDw==\n",
    "Sec-WebSocket-Version: 13"
   ]
  },
  {
   "cell_type": "markdown",
   "id": "7b5e2c09-1abd-469d-928b-9c6393aa6982",
   "metadata": {},
   "source": [
    "- Si el servidor acepta, responde que se cambia del protocolo HTTP al WebSocket sobre la misma conexión TCP."
   ]
  },
  {
   "cell_type": "raw",
   "id": "8d14056e-26a7-4bdf-bed0-3483a73c4464",
   "metadata": {},
   "source": [
    "HTTP/1.1 101 Switching Protocols\n",
    "Upgrade: websocket\n",
    "Connection: Upgrade\n",
    "Sec-WebSocket-Accept: HSmrc0sMlYUkAGmm5OPpG2HaGWk="
   ]
  },
  {
   "cell_type": "markdown",
   "id": "3b7f5cae-d919-4436-b4e5-48fa7470875d",
   "metadata": {},
   "source": [
    "- Comunicación\n",
    "  - WebSocket establecido.\n",
    "  - Intercambio de mensajes binario o texto,\n",
    "  - Usa tramas compactas.\n",
    "  - No se requier handshake hasta que la conexión se cierre."
   ]
  },
  {
   "cell_type": "markdown",
   "id": "9bdedd54-f28b-4b65-bf63-37e41dcbee8e",
   "metadata": {},
   "source": [
    "### Arquitectura"
   ]
  },
  {
   "cell_type": "markdown",
   "id": "97c09aa3-9c32-409a-863b-16daaee93968",
   "metadata": {},
   "source": [
    "- Cliente\n",
    "   - Navegador web\n",
    "   - Usa JavaScript para crear y gestionar la conexión."
   ]
  },
  {
   "cell_type": "raw",
   "id": "1463b4b4-14cd-4b24-bb57-b570adfd0f7c",
   "metadata": {},
   "source": [
    "const socket = new WebSocket('ws://sitio.com/socket');\n",
    "\n",
    "socket.onopen = () => { console.log('Conexión abierta'); };\n",
    "socket.onmessage = (event) => { console.log('Mensaje recibido:', event.data); };\n",
    "socket.onclose = () => { console.log('Conexión cerrada'); };\n",
    "socket.onerror = (error) => { console.error('Error:', error); };\n",
    "\n",
    "socket.send('Hola servidor');\n"
   ]
  },
  {
   "cell_type": "markdown",
   "id": "5e219f96-5a24-4e04-94ff-95c84b0712f6",
   "metadata": {},
   "source": [
    "- Servidor\n",
    "   - Múltiples opciones\n",
    "     - Node.js\n",
    "     - Python (con websockets, Flask-SocketIO), \n",
    "     - Java, etc.\n",
    "   - Interacción\n",
    "     - Puede enviar datos al cliente sin que éste lo solicite explícitamente (*push*)."
   ]
  },
  {
   "cell_type": "markdown",
   "id": "95ac9433-a842-455d-b19a-cf3e268c137b",
   "metadata": {},
   "source": [
    "### Seguridad"
   ]
  },
  {
   "cell_type": "markdown",
   "id": "a038e084-5a2e-4f4b-b7aa-95fd920210d7",
   "metadata": {},
   "source": [
    "- WSS (WebSocket Secure)\n",
    "  - Equivalente a HTTPS.\n",
    "  - Encripta la conexión usando TLS.\n",
    "- Problemas usuales\n",
    "  - Cross-Site WebSocket Hijacking (CSWSH).\n",
    "  - Falta de autenticación en el canal WebSocket.\n",
    "- Reconendaciones\n",
    "  - Utilizar WSS siempre que sea posible.\n",
    "  - Implementar mecanismos de autenticación adicionales.\n",
    "  - Controlar el origen de las conexiones (Origin header)."
   ]
  },
  {
   "cell_type": "markdown",
   "id": "3c09faec-9628-49be-917d-8511f132e731",
   "metadata": {},
   "source": [
    "### Casos de Uso de WebSockets\n",
    "\n",
    "- Chats en tiempo real (WhatsApp Web, Slack)\n",
    "- Juegos online multijugador\n",
    "- Trading de alta frecuencia (actualización de precios)\n",
    "- Control remoto de dispositivos\n",
    "- Colaboración en tiempo real (editores de texto, pizarras colaborativas)"
   ]
  },
  {
   "cell_type": "markdown",
   "id": "3ae9df2a-892a-433d-9f5c-06c2a9be0877",
   "metadata": {},
   "source": [
    "### Comparación con otros protocolos"
   ]
  },
  {
   "cell_type": "markdown",
   "id": "1d6f8f86-2059-4bc4-ba05-a29467655d2f",
   "metadata": {},
   "source": [
    "| Protocolo| Tipo de Comunicación | Overhead | Persistencia | Latencia |\n",
    "|:-------------|:---------------:|:-------------:|:-------------:|:-------------:|\n",
    "HTTP | Unidireccional | Alto | No | Alta\n",
    "HTTP Long Polling | Semidúplex | Medio | Parcial | Media\n",
    "WebSocket | Full-duplex | Bajo | Sí | Baja\n",
    "Server-Sent Events (SSE) | Solo servidor → cliente | Bajo | Sí | Baja"
   ]
  },
  {
   "cell_type": "markdown",
   "id": "54d0b0b6-e560-40a8-851e-64fc7bc8a68f",
   "metadata": {},
   "source": [
    "### Limitaciones "
   ]
  },
  {
   "cell_type": "markdown",
   "id": "5c4036a9-dada-4d75-a1f3-4cf522f34e76",
   "metadata": {},
   "source": [
    "- No todos los proxies/firewalls manejan bien conexiones WebSocket.\n",
    "- Mantenimiento de conexiones persistentes es costoso en servidores de gran escala.\n",
    "  - Clusters o balanceo de carga WebSocket-aware puede reducir costos.\n",
    "- Clientes móviles las conexiones persistentes pueden impactar en el uso de batería."
   ]
  },
  {
   "cell_type": "markdown",
   "id": "c2b87fc1-9209-47a4-8220-35dc323d98d5",
   "metadata": {},
   "source": [
    "## Como interactua websockets a bajo nivel en su relacion son socket(), y el stack de TCP/IP"
   ]
  },
  {
   "cell_type": "markdown",
   "id": "f6d01eb1-9294-4ad5-acbe-c3ce5ae69f00",
   "metadata": {},
   "source": [
    "- Recordemos que socket() es una llamada al sistema (system call) que permite crear un descriptor de comunicación para transmitir datos entre procesos (locales o remotos).\n",
    "- socket() NO es un \"WebSocket\".\n",
    "- socket() es una abstracción de nivel de transporte o inferior."
   ]
  },
  {
   "cell_type": "markdown",
   "id": "b410ef8b-4c01-49cd-8092-0406b8868a30",
   "metadata": {},
   "source": [
    "### ¿Qué ocurre a bajo nivel cuando usamos WebSocket?"
   ]
  },
  {
   "cell_type": "markdown",
   "id": "9fa86a76-a387-4c38-83fd-18e66ca0b3a4",
   "metadata": {},
   "source": [
    "- Conexión inicial\n",
    "  - Cliente (navegador) usa socket() internamente para abrir una conexión TCP al servidor.\n",
    "  - Por tuplas de IP y puerto 80 ó 443.\n",
    "  - Hace un handshake HTTP solicitando un \"cambio de protocolo\" a websocket:\n",
    "  - **Esto todavía es HTTP normal sobre TCP/IP**\n",
    "  - El Servidor (también usando un socket()) recibe esta solicitud y responde con 101 **\"Switching Protocols\"**.\n",
    "  - Ahora ambos extremos \"acuerdan\" que, sobre esa misma conexión TCP, ya no usarán HTTP, sino el protocolo WebSocket.   \n",
    "- Comunicación de datos\n",
    "  - WebSocket define su propio encapsulado.\n",
    "  - Cada mensaje WebSocket se encapsula en tramos (estructuras binarias) que se transmiten como payloads TCP.\n",
    "  - TCP se encarga de que estos datos lleguen ordenados y sin pérdidas.\n",
    "  - El socket TCP que fue abierto sigue activo hasta que se cierra explícitamente.\n",
    "  - WebSocket NO reemplaza a TCP, sino que se monta encima de TCP usando un framing propio.\n",
    "  - Desde el punto de vista del sistema operativo, sigue siendo una conexión TCP.\n",
    "  - Los paquetes TCP que se envían llevan en su contenido las tramas WebSocket."
   ]
  },
  {
   "cell_type": "markdown",
   "id": "bfb6909b-2ace-4713-a965-e0dbbc8ab396",
   "metadata": {},
   "source": [
    "Elemento | Función |\n",
    "|:-------------|:---------------:|\n",
    "socket() | Crea descriptor de comunicación TCP.\n",
    "TCP/IP stack | Garantiza entrega, orden y conexión.\n",
    "WebSocket API | Encapsula datos, maneja protocolo a nivel aplicación."
   ]
  },
  {
   "cell_type": "markdown",
   "id": "a28f7e25-2c13-4257-b361-913be6392f65",
   "metadata": {},
   "source": [
    "- Cuando se envía un mensaje\n",
    "  - Se empaqueta según la especificación WebSocket\n",
    "  - 2 bytes de encabezado mínimo.\n",
    "  - Máscara de 4 bytes (si es cliente → servidor).\n",
    "  - Payload de datos"
   ]
  },
  {
   "cell_type": "markdown",
   "id": "43d155e6-03b4-40c3-9bd4-919277fcd254",
   "metadata": {},
   "source": [
    "| Campo | Contenido |\n",
    "|:-------------|:---------------:|\n",
    "FIN (1 bit) | 1 (última trama)\n",
    "Opcode (4 bits) | 0x1 (texto)\n",
    "Máscara (1 bit) | 1 (cliente → servidor)\n",
    "Longitud Payload | 4 (por ejemplo, \"Hola\")\n",
    "Máscara (4 bytes) | e.g., 0x37fa213d\n",
    "Payload | Datos enmascarados (\"Hola\" encriptado con la máscara)"
   ]
  },
  {
   "cell_type": "markdown",
   "id": "e0d51e05-a0f6-4cb2-bbfe-43b2da3166ab",
   "metadata": {},
   "source": [
    "**Esta trama se escribe directamente en el socket TCP**."
   ]
  },
  {
   "cell_type": "markdown",
   "id": "c7c3bf41-5c75-4507-9fec-b17cd0efec5b",
   "metadata": {},
   "source": [
    "- WebSocket requiere TCP\n",
    "  - Necesita garantía de entrega.\n",
    "  - Necesita orden (los mensajes llegan como se enviaron).\n",
    "  - Necesita conexión persistente (estado entre cliente y servidor).\n",
    "  - Con UDP implicaría pérdida y reordenación, lo cual rompería las garantías que WebSocket necesita."
   ]
  },
  {
   "cell_type": "markdown",
   "id": "b4373c33-b6ab-4b6e-bb3e-59c58debfc45",
   "metadata": {},
   "source": [
    "### ¿ Cómo sabe tcp que se trata de un paquete websocket ?"
   ]
  },
  {
   "cell_type": "code",
   "execution_count": null,
   "id": "cc679e99-f54b-4370-82c0-9bdb8c60958a",
   "metadata": {},
   "outputs": [],
   "source": [
    "- TCP no lo sabe.\n",
    "- TCP es agnóstico (no entiende) del contenido que transporta.\n",
    "- TCP no sabe si transporta: HTTP, WebSocket, FTP, SSH, TLS."
   ]
  },
  {
   "cell_type": "markdown",
   "id": "5145151c-8c32-4b04-918d-92a037e7d0d3",
   "metadata": {},
   "source": [
    "### ¿Quién interpreta que es WebSocket?\n",
    "- La aplicación que recibe los datos (por ejemplo, el servidor WebSocket).\n",
    "- Sabe que en esa conexión se hizo un handshake de upgrade HTTP → WebSocket.\n",
    "- Sabe que, desde ese momento, los datos que llegan están en formato de tramas WebSocket.\n",
    "- Decodifica esas tramas siguiendo la RFC 6455 (norma de WebSocket).\n",
    "- El acuerdo que vimos antes lo hacen las aplicaciones, no TCP.\n",
    "- TCP sigue ciego, simplemente transporta los bytes.\n",
    "- La capa de aplicación (navegador y servidor) saben interpretar esos bytes como tramas WebSocket.\n",
    "- TCP no agrega ningún identificador que indique que el contenido es WebSocket.\n",
    "\n",
    "### Entonces, ¿cómo se sabe que es WebSocket?\n",
    "- Por convención de puertos.\n",
    "  - WebSocket comúnmente se inicia sobre:\n",
    "  - Puerto 80 (sin TLS)\n",
    "  - Puerto 443 (con TLS/WSS)\n",
    "- Por el contenido de los datos en la conexión.\n",
    "  - El handshake HTTP inicial que solicita cambio de protocolo\n",
    "  - Websocket es lo que define que en adelante se hablará WebSocket sobre TCP.\n",
    "- Luego de ese acuerdo a nivel de aplicación, los datos se interpretan como frames WebSocket."
   ]
  },
  {
   "cell_type": "markdown",
   "id": "2445886c-57a6-4e33-ae4a-76e8439e4d67",
   "metadata": {},
   "source": [
    "### ¿Y si alguien se conecta al puerto 80 o 443 sin usar WebSocket?\n",
    "- Se puede.\n",
    "- El servidor debe interpretar el contenido.\n",
    "- Si el handshake correcto no ocurre, no se cambia el protocolo a WebSocket y la conexión puede ser rechazada o seguir como HTTP.\n",
    "- El puerto es solo una convención, pero el contenido define la comunicación.\n",
    "- Ejemplo: Puerto 80 (HTTP)\n",
    "  - Puerto 80 es convencionalmente usado para HTTP.\n",
    "  - Cuando se inicia una conexión a puerto 80, normalmente se espera hablar HTTP.\n",
    "  - WebSocket (ws://) comienza como HTTP → envía un GET con Upgrade: websocket.\n",
    "  - Si el servidor acepta el cambio, a partir de ahí hablan WebSocket en la misma conexión TCP.\n",
    "- Entonces: **Puerto 80 = HTTP o WebSocket, según el contenido.**\n",
    "- Ejemplo: Puerto 443 (HTTPS)\n",
    "  - Puerto 443 es convencionalmente usado para HTTPS.\n",
    "  - HTTPS significa HTTP sobre TLS/SSL (encriptado).\n",
    "  - Cuando se inicia conexión al puerto 443, primero hay un handshake TLS (negociación de encriptado).\n",
    "  - Después, dentro del túnel TLS, se usa HTTP normal o WebSocket seguro (wss://).\n",
    "- Entonces: **Puerto 443 = HTTPS o WSS, otra vez depende del contenido después del TLS.**"
   ]
  },
  {
   "cell_type": "markdown",
   "id": "f7fbad99-0b53-4852-ad1d-82cd91baf8f9",
   "metadata": {},
   "source": [
    "## Servidores que soportan websockets"
   ]
  },
  {
   "cell_type": "markdown",
   "id": "ed234fad-6705-4e28-b540-03aafe9e0f8a",
   "metadata": {},
   "source": [
    "| Servidor Web | ¿Soporta WebSocket? | Notas | \n",
    "|:-------------|:---------------:|:---------------:|\n",
    "Nginx | Sí (como proxy) | Desde la versión 1.3.x permite proxy WebSocket. Nginx no termina WebSockets, solo los pasa a la app backend.\n",
    "Apache HTTP Server | Sí (con módulo) | Requiere módulos como mod_proxy_wstunnel para hacer de proxy WebSocket.\n",
    "Caddy | Sí (nativo) | Soporte de WebSocket directo, pensado para HTTPS automático y WebSocket moderno.\n",
    "Node.js (con Express, Koa, etc.) | Sí (nativo) | Node.js + librerías como ws, socket.io manejan WebSocket directo, sin necesidad de proxy.\n",
    "HAProxy | Sí (como proxy) | Desde HAProxy 1.5, soporte explícito para WebSockets pasando correctamente Upgrade y Connection.\n",
    "Tomcat (Java) | Sí (nativo) | Desde Tomcat 7, soporte para WebSocket según la especificación JSR 356.\n",
    "Jetty (Java) | Sí (nativo) | Soporte completo de WebSockets. Usado mucho en aplicaciones Java.\n",
    "Microsoft IIS | Sí (con WebSocket Protocol Module) | Desde IIS 8.0 en Windows Server 2012, WebSocket está disponible, pero requiere habilitarlo manualmente.\n",
    "Traefik | Sí (nativo) | Balanceador moderno que soporta WebSocket automáticamente. Ideal para microservicios y Docker."
   ]
  },
  {
   "cell_type": "markdown",
   "id": "1144cc6c-0a22-4267-b390-f100d6c98de6",
   "metadata": {},
   "source": [
    "- Nginx\n",
    "  - Funciona como proxy que reenvía WebSocket a un backend (como Node.js, Flask, etc.).\n",
    "  - Asegurar de incluir los encabezados Upgrade y Connection.\n",
    "- Apache HTTPD:\n",
    "  - Usar mod_proxy + mod_proxy_wstunnel.\n",
    "  - Similar a Nginx, solo pasa WebSockets al backend.\n",
    "- Node.js:\n",
    "  - Maneja WebSockets directamente en la aplicación.\n",
    "  - Librerías más usuales:\n",
    "    - ws (bajo nivel)\n",
    "    - socket.io (nivel alto, eventos)\n"
   ]
  },
  {
   "cell_type": "markdown",
   "id": "efd96d98-d2a8-41ba-83e0-0371fc913041",
   "metadata": {},
   "source": [
    "### ¿Qué pasa si el servidor no soporta WebSocket?\n",
    "- No puede manejar Upgrade -> conexión WebSocket fallará.\n",
    "- El cliente recibe un error de conexión.\n",
    "- Se puede solucionar con un proxy (como Nginx o HAProxy) que pase la conexión a un backend que sí lo entienda."
   ]
  },
  {
   "cell_type": "markdown",
   "id": "7b02e2f8-b0f6-4d12-8520-e2ea32b7ed6b",
   "metadata": {},
   "source": [
    "## Ejemplo de cliente servidor usando websockets (un chat) usando node.js en servidor y flask en cliente"
   ]
  },
  {
   "cell_type": "markdown",
   "id": "2df60a10-7bfa-4c89-b91c-a2dffc9bbed4",
   "metadata": {},
   "source": [
    "### Instalar node.js"
   ]
  },
  {
   "cell_type": "raw",
   "id": "af8e7c32-3f58-4833-b59b-0c9b634a6f49",
   "metadata": {},
   "source": [
    "NVM Node Version Manager   \n",
    "Instalar Node.js con NVM"
   ]
  },
  {
   "cell_type": "raw",
   "id": "ae5f5217-e448-4888-b251-f62894296c05",
   "metadata": {},
   "source": [
    "curl -o- https://raw.githubusercontent.com/nvm-sh/nvm/v0.39.7/install.sh | bash\n",
    "source ~/.bashrc\n",
    "nvm --version\n",
    "nvm install --lts\n",
    "node -v\n",
    "npm -v\n",
    "npm install -g wscat\n",
    "wscat -c ws://localhost:8080"
   ]
  },
  {
   "cell_type": "markdown",
   "id": "413f3c8c-1874-4eda-9d7f-61cd413e9da2",
   "metadata": {},
   "source": [
    "### Instalar la librería ws en Node.js:"
   ]
  },
  {
   "cell_type": "raw",
   "id": "a47f4702-9eb7-4086-92d3-91beb1c35d36",
   "metadata": {},
   "source": [
    "npm install ws"
   ]
  },
  {
   "cell_type": "markdown",
   "id": "98efd309-3a15-4551-85c5-a184db0c3bfe",
   "metadata": {},
   "source": [
    "Servidor WebSocket en Node.js (server.js):"
   ]
  },
  {
   "cell_type": "code",
   "execution_count": 1,
   "id": "66357377-c82b-4a3c-93cd-16fa366e08c6",
   "metadata": {},
   "outputs": [
    {
     "name": "stdout",
     "output_type": "stream",
     "text": [
      "Writing server.js\n"
     ]
    }
   ],
   "source": [
    "%%writefile server.js\n",
    "const WebSocket = require('ws');\n",
    "\n",
    "// Creamos un servidor WebSocket en el puerto 8080\n",
    "const wss = new WebSocket.Server({ port: 8080 });\n",
    "\n",
    "wss.on('connection', function connection(ws) {\n",
    "  console.log('Cliente conectado.');\n",
    "\n",
    "  // Cuando recibe un mensaje de un cliente\n",
    "  ws.on('message', function incoming(message) {\n",
    "    console.log('Recibido: %s', message);\n",
    "\n",
    "    // Responder al cliente\n",
    "    ws.send(`Servidor recibió: ${message}`);\n",
    "  });\n",
    "\n",
    "  // Enviar un mensaje al cliente apenas conecta\n",
    "  ws.send('Bienvenido al chat WebSocket!');\n",
    "});\n"
   ]
  },
  {
   "cell_type": "markdown",
   "id": "7c597a78-cf89-4127-b982-987e86613881",
   "metadata": {},
   "source": [
    "### Ejecutar el servidor desde terminal"
   ]
  },
  {
   "cell_type": "raw",
   "id": "275e905e-e935-4195-b033-2baa0b0bb0d5",
   "metadata": {},
   "source": [
    "node server.js\n"
   ]
  },
  {
   "cell_type": "markdown",
   "id": "1284c322-5551-4a25-b1f2-f0aab38bce68",
   "metadata": {},
   "source": [
    "### Para probar conexión ws"
   ]
  },
  {
   "cell_type": "raw",
   "id": "01109b10-8bf5-42f9-82be-1035af6bac1f",
   "metadata": {},
   "source": [
    "npm install -g wscat\n",
    "wscat -c ws://localhost:8080"
   ]
  },
  {
   "cell_type": "markdown",
   "id": "e345e1e3-d304-42e7-8a45-b326e6189cad",
   "metadata": {},
   "source": [
    "### Cliente Flask (Cliente WebSocket)"
   ]
  },
  {
   "cell_type": "markdown",
   "id": "7151be11-0cb3-4913-9bf7-b0c0388462c1",
   "metadata": {},
   "source": [
    "Instalar la librería de WebSocket para Python:"
   ]
  },
  {
   "cell_type": "markdown",
   "id": "7839fce0-13fd-4944-be95-a61194b789d9",
   "metadata": {},
   "source": [
    "pip install websocket-client flask"
   ]
  },
  {
   "cell_type": "markdown",
   "id": "c00dcd2e-01cc-4aac-914a-54d4175b8ab5",
   "metadata": {},
   "source": [
    "Creamos el cliente Flask (client.py):"
   ]
  },
  {
   "cell_type": "code",
   "execution_count": 3,
   "id": "87c7d6de-ff84-42d4-a9ed-adb161033c80",
   "metadata": {},
   "outputs": [
    {
     "name": "stdout",
     "output_type": "stream",
     "text": [
      "Overwriting client.py\n"
     ]
    }
   ],
   "source": [
    "%%writefile client.py\n",
    "from flask import Flask, render_template, request\n",
    "from websocket import WebSocketApp\n",
    "import threading\n",
    "import time\n",
    "\n",
    "# Crear aplicación Flask\n",
    "app = Flask(__name__)\n",
    "\n",
    "# WebSocket global\n",
    "ws = None\n",
    "ws_url = \"ws://localhost:8080\"  # URL del servidor WebSocket\n",
    "\n",
    "# -------- FUNCIONES PARA MANEJAR EVENTOS WEBSOCKET -------- #\n",
    "\n",
    "def on_message(ws, message):\n",
    "    print(f\"[Mensaje del servidor] {message}\")\n",
    "\n",
    "def on_error(ws, error):\n",
    "    print(f\"[Error de WebSocket] {error}\")\n",
    "\n",
    "def on_close(ws, close_status_code, close_msg):\n",
    "    print(\"[WebSocket cerrado]\")\n",
    "\n",
    "def on_open(ws):\n",
    "    print(\"[WebSocket abierto]\")\n",
    "    ws.send(\"Hola desde Flask WebSocket Client\")\n",
    "\n",
    "# -------- FUNCIONES PARA INICIAR WEBSOCKET -------- #\n",
    "\n",
    "def start_websocket():\n",
    "    global ws\n",
    "    ws = WebSocketApp(\n",
    "        ws_url,\n",
    "        on_message=on_message,\n",
    "        on_error=on_error,\n",
    "        on_close=on_close,\n",
    "        on_open=on_open\n",
    "    )\n",
    "    # Este método bloquea, por eso lo ponemos en un hilo\n",
    "    ws.run_forever(ping_interval=20, ping_timeout=10)\n",
    "\n",
    "# -------- RUTAS FLASK -------- #\n",
    "\n",
    "@app.route('/')\n",
    "def index():\n",
    "    return '''\n",
    "        <h1>Enviar mensaje al servidor WebSocket</h1>\n",
    "        <form action=\"/send\" method=\"post\">\n",
    "            <input type=\"text\" name=\"message\" placeholder=\"Escribe tu mensaje\">\n",
    "            <input type=\"submit\" value=\"Enviar\">\n",
    "        </form>\n",
    "    '''\n",
    "\n",
    "@app.route('/send', methods=['POST'])\n",
    "def send():\n",
    "    message = request.form['message']\n",
    "    if ws and ws.sock and ws.sock.connected:\n",
    "        ws.send(message)\n",
    "        return f\"Mensaje enviado: {message}<br><a href='/'>Enviar otro</a>\"\n",
    "    else:\n",
    "        return \"Error: WebSocket no está conectado.<br><a href='/'>Reintentar</a>\"\n",
    "\n",
    "# -------- MAIN -------- #\n",
    "\n",
    "if __name__ == '__main__':\n",
    "    # Lanzar WebSocket en hilo aparte\n",
    "    websocket_thread = threading.Thread(target=start_websocket)\n",
    "    websocket_thread.daemon = True\n",
    "    websocket_thread.start()\n",
    "\n",
    "    # Lanzar Flask\n",
    "    app.run(port=5000)\n"
   ]
  },
  {
   "cell_type": "markdown",
   "id": "5cc00a30-c25f-4a03-a0da-434b9d8cfbb4",
   "metadata": {},
   "source": [
    "Ejecutar desde terminal "
   ]
  },
  {
   "cell_type": "markdown",
   "id": "4cff27b5-cd67-437c-90f0-ca9d3b5fba96",
   "metadata": {},
   "source": [
    "python client.py"
   ]
  },
  {
   "cell_type": "markdown",
   "id": "754f2d34-c879-4b94-83a5-f7950793b1bd",
   "metadata": {},
   "source": [
    "- El servidor Node.js escucha conexiones WebSocket.\n",
    "- El cliente Flask se conecta como cliente WebSocket, usando websocket-client.\n",
    "  - Escribir mensajes desde la web de Flask (http://localhost:5000).\n",
    "  - Los mensajes se envían al servidor Node.js.\n",
    "  - El servidor responde y el cliente Flask imprime la respuesta en la terminal."
   ]
  },
  {
   "cell_type": "code",
   "execution_count": null,
   "id": "9101fc38-ba1c-44be-ad14-2e5678b1a506",
   "metadata": {},
   "outputs": [],
   "source": []
  }
 ],
 "metadata": {
  "kernelspec": {
   "display_name": "Python 3 (ipykernel)",
   "language": "python",
   "name": "python3"
  },
  "language_info": {
   "codemirror_mode": {
    "name": "ipython",
    "version": 3
   },
   "file_extension": ".py",
   "mimetype": "text/x-python",
   "name": "python",
   "nbconvert_exporter": "python",
   "pygments_lexer": "ipython3",
   "version": "3.10.12"
  }
 },
 "nbformat": 4,
 "nbformat_minor": 5
}
