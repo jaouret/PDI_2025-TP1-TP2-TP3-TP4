{
 "cells": [
  {
   "cell_type": "markdown",
   "id": "6e94bc68-df1b-4fdd-8d9d-628fd9c00028",
   "metadata": {},
   "source": [
    "# Trabajo Práctico Nro. 1B \n",
    "### Ing. Javier Ouret - 2025 - UCA - Facultad de Ingeniería\n",
    "## Ejemplos de Raw Sockets usando bash kernel para su compilación."
   ]
  },
  {
   "cell_type": "markdown",
   "id": "18e04459-eea3-48e1-85d0-0c53ec4e7fad",
   "metadata": {},
   "source": [
    "### ¿Qué es un Raw Socket?\n",
    "\n",
    "Es un tipo especial de socket que permite enviar y recibir paquetes sin procesar a nivel de red, saltándose las abstracciones del sistema operativo.   \n",
    "Se pueden crear paquetes IP, TCP, UDP o ICMP personalizados.   \n",
    "Para qué se usan:\n",
    "- Construcción de herramientas de red (ping, traceroute, nmap).\n",
    "- Implementación de protocolos personalizados.\n",
    "- Monitoreo y análisis de tráfico.\n",
    "- Pruebas de seguridad (ethical hacking)."
   ]
  },
  {
   "cell_type": "markdown",
   "id": "392738b9-a79a-4fbc-89d4-c63ebfdab213",
   "metadata": {},
   "source": [
    "| Característica         | Detalle                                                  |\n",
    "| ---------------------- | -------------------------------------------------------- |\n",
    "| Nivel de operación     | Capa de red (OSI capa 3) o superior (capa 4).            |\n",
    "| Permisos necesarios    | Root (por razones de seguridad).                         |\n",
    "| Encabezado | IP, TCP, UDP, ICMP. |\n",
    "| OS          | Linux y BSD (limitado en Windows).                       |\n"
   ]
  },
  {
   "cell_type": "markdown",
   "id": "803861b1-d597-494e-b507-14ed56c36e85",
   "metadata": {},
   "source": [
    "#### Creación de Raw Sockets en C"
   ]
  },
  {
   "cell_type": "raw",
   "id": "1f247c35-3337-46ee-93d3-37fbc21f1ab2",
   "metadata": {},
   "source": [
    "int sockfd = socket(AF_INET, SOCK_RAW, IPPROTO_ICMP);"
   ]
  },
  {
   "cell_type": "raw",
   "id": "068579ee-db19-48a7-a578-01332b636616",
   "metadata": {},
   "source": [
    "AF_INET: Familia de direcciones IPv4.\n",
    "\n",
    "SOCK_RAW: Tipo de socket.\n",
    "\n",
    "IPPROTO_ICMP: Protocolo, IPPROTO_TCP, IPPROTO_UDP, etc."
   ]
  },
  {
   "cell_type": "markdown",
   "id": "aec018d7-e508-45e1-a714-e7e078b1e754",
   "metadata": {},
   "source": [
    "Para poder ver protocolo IP sin procesar ETH_P_IP = 0x0800, uprotocolo para paquetes IP (IPv4)."
   ]
  },
  {
   "cell_type": "raw",
   "id": "40280314-2881-4884-b739-a101edc72c5c",
   "metadata": {},
   "source": [
    "int sockfd = socket(AF_PACKET, SOCK_RAW, htons(ETH_P_IP));"
   ]
  },
  {
   "cell_type": "markdown",
   "id": "61783155-4c12-4615-86f9-718ce32e369e",
   "metadata": {},
   "source": [
    "**IMPORTANTE: para usar raw sockets se necesitan privilegios de superusuario (root), ya que puede\n",
    "generar tráfico malicioso.**\n",
    "Raw sockets permiten falsificación de IP, sniffing, y otros ataques. \n",
    "- Algunos sistemas limitan su uso.\n",
    "- Usarlos sólo en entornos controlados y con fines educativos o de prueba."
   ]
  },
  {
   "cell_type": "markdown",
   "id": "dd36a2b0-15cb-4eb5-bf01-74680ee67fc4",
   "metadata": {},
   "source": [
    "#### Control del Encabezado IP"
   ]
  },
  {
   "cell_type": "raw",
   "id": "47c674e9-fabb-4849-ab57-aa5b6f3b72b2",
   "metadata": {},
   "source": [
    "// Para crear un paquete IP personalizado, se debe activar la opción IP_HDRINCL\n",
    "int one = 1;\n",
    "setsockopt(sockfd, IPPROTO_IP, IP_HDRINCL, &one, sizeof(one));\n",
    "// Esto le dice al sistema que no agregue automáticamente la cabecera IP: se construye manualmente."
   ]
  },
  {
   "cell_type": "markdown",
   "id": "0ce646d5-f269-4272-b99b-6a8ea0fabbcd",
   "metadata": {},
   "source": [
    "#### Estructura de un Paquete IP Personalizado"
   ]
  },
  {
   "cell_type": "raw",
   "id": "69d561a4-91b4-4ffa-9c19-4da6d41d72b2",
   "metadata": {},
   "source": [
    "struct iphdr {\n",
    "    // version, ihl, tos, tot_len, id, frag_off, ttl, protocol, check, saddr, daddr\n",
    "};\n",
    "\n",
    "struct icmphdr {\n",
    "    // type, code, checksum, etc.\n",
    "};\n",
    "// Los headers deben construirse manualmente, y la suma de verificación (checksum) debe calcularse correctamente."
   ]
  },
  {
   "cell_type": "markdown",
   "id": "48eac192-fcfe-404d-b01f-2d79bb889cde",
   "metadata": {},
   "source": [
    "### A) Ping Básico. Usa ICMP Echo Request."
   ]
  },
  {
   "cell_type": "markdown",
   "id": "691b4957-ab51-464f-af11-bff4e4c83d02",
   "metadata": {},
   "source": [
    "#### Estructura del paquete ICMP (Echo Request)"
   ]
  },
  {
   "cell_type": "raw",
   "id": "9a965b43-dd5e-40b2-994e-c7908f631765",
   "metadata": {},
   "source": [
    "[ IP HEADER (20 bytes) ] + [ ICMP HEADER (8 bytes) ]"
   ]
  },
  {
   "cell_type": "markdown",
   "id": "cc63ae9c-6d2a-4ac4-b24c-d0efea5fef59",
   "metadata": {},
   "source": [
    "#### Estructura del header IP:"
   ]
  },
  {
   "cell_type": "raw",
   "id": "c7ccd83a-fa9e-41ed-8431-03783d763a6c",
   "metadata": {},
   "source": [
    "struct iphdr {\n",
    "    unsigned int ihl:4;\n",
    "    unsigned int version:4;\n",
    "    uint8_t tos;\n",
    "    uint16_t tot_len;\n",
    "    uint16_t id;\n",
    "    uint16_t frag_off;\n",
    "    uint8_t ttl;\n",
    "    uint8_t protocol;\n",
    "    uint16_t check;\n",
    "    uint32_t saddr;\n",
    "    uint32_t daddr;\n",
    "};"
   ]
  },
  {
   "cell_type": "markdown",
   "id": "cf1e6ffb-2f74-4467-989d-da42b19a52e7",
   "metadata": {},
   "source": [
    "#### Estructura del header ICMP:"
   ]
  },
  {
   "cell_type": "raw",
   "id": "cfb96f2a-2828-4aa8-b9e6-04277daeb0b5",
   "metadata": {},
   "source": [
    "struct icmphdr {\n",
    "    uint8_t type;\n",
    "    uint8_t code;\n",
    "    uint16_t checksum;\n",
    "    uint16_t id;\n",
    "    uint16_t sequence;\n",
    "};"
   ]
  },
  {
   "cell_type": "markdown",
   "id": "3ac5e4d5-fd9b-4af1-8a6f-7770155b5681",
   "metadata": {},
   "source": [
    "#### Cálculo del checksum en Python (igual que en C)"
   ]
  },
  {
   "cell_type": "raw",
   "id": "74fee749-8266-49a8-8383-d2d4c26de267",
   "metadata": {},
   "source": [
    "def checksum(data):\n",
    "    if len(data) % 2 == 1:\n",
    "        data += b'\\x00'\n",
    "    s = sum(int.from_bytes(data[i:i+2], 'big') for i in range(0, len(data), 2))\n",
    "    s = (s >> 16) + (s & 0xffff)\n",
    "    s += s >> 16\n",
    "    return ~s & 0xffff\n",
    "\n",
    "# Ejemplo de uso\n",
    "import struct\n",
    "\n",
    "icmp_header = struct.pack('!BBHHH', 8, 0, 0, 1234, 1)  # ICMP Echo Request, ID=1234, seq=1\n",
    "cs = checksum(icmp_header)\n",
    "print(f\"Checksum: {hex(cs)}\")"
   ]
  },
  {
   "cell_type": "markdown",
   "id": "c6cf5932-6901-446c-8b9e-ec3faeacef84",
   "metadata": {},
   "source": [
    "#### Código en C para enviar un paquete ICMP"
   ]
  },
  {
   "cell_type": "code",
   "execution_count": 1,
   "id": "9d08ecc8-909a-4da9-9fb8-9f00a8864ad4",
   "metadata": {},
   "outputs": [],
   "source": [
    "echo '#include <stdio.h>\n",
    "#include <string.h>\n",
    "#include <stdlib.h>\n",
    "#include <sys/socket.h>\n",
    "#include <arpa/inet.h>\n",
    "#include <netinet/ip.h>\n",
    "#include <netinet/ip_icmp.h>\n",
    "#include <unistd.h>\n",
    "#include <errno.h>\n",
    "#include <sys/time.h>\n",
    "\n",
    "#define PACKET_SIZE 4096\n",
    "#define DEST_IP \"127.0.0.1\"\n",
    "#define MAX_PINGS 5\n",
    "\n",
    "unsigned short checksum(void *b, int len) {\n",
    "    unsigned short *buf = b;\n",
    "    unsigned int sum = 0;\n",
    "    for (; len > 1; len -= 2)\n",
    "        sum += *buf++;\n",
    "    if (len == 1)\n",
    "        sum += *(unsigned char*)buf;\n",
    "    sum = (sum >> 16) + (sum & 0xFFFF);\n",
    "    sum += (sum >> 16);\n",
    "    return ~sum;\n",
    "}\n",
    "\n",
    "int main() {\n",
    "    char packet[PACKET_SIZE];\n",
    "    struct sockaddr_in dest;\n",
    "    int sockfd, one = 1;\n",
    "    struct timeval timeout = {1, 0};  // 1 segundo de timeout\n",
    "\n",
    "    sockfd = socket(AF_INET, SOCK_RAW, IPPROTO_ICMP);\n",
    "    if (sockfd < 0) {\n",
    "        perror(\"socket\");\n",
    "        return 1;\n",
    "    }\n",
    "\n",
    "    // Permite incluir cabecera IP\n",
    "    setsockopt(sockfd, IPPROTO_IP, IP_HDRINCL, &one, sizeof(one));\n",
    "    // Configura timeout de recepción\n",
    "    setsockopt(sockfd, SOL_SOCKET, SO_RCVTIMEO, &timeout, sizeof(timeout));\n",
    "\n",
    "    dest.sin_family = AF_INET;\n",
    "    dest.sin_addr.s_addr = inet_addr(DEST_IP);\n",
    "\n",
    "    for (int seq = 1; seq <= MAX_PINGS; seq++) {\n",
    "        memset(packet, 0, PACKET_SIZE);\n",
    "\n",
    "        struct iphdr *ip = (struct iphdr *) packet;\n",
    "        struct icmphdr *icmp = (struct icmphdr *) (packet + sizeof(struct iphdr));\n",
    "\n",
    "        // IP Header\n",
    "        ip->ihl = 5;\n",
    "        ip->version = 4;\n",
    "        ip->tos = 0;\n",
    "        ip->tot_len = htons(sizeof(struct iphdr) + sizeof(struct icmphdr));\n",
    "        ip->id = htons(1234 + seq);\n",
    "        ip->frag_off = 0;\n",
    "        ip->ttl = 64;\n",
    "        ip->protocol = IPPROTO_ICMP;\n",
    "        ip->saddr = inet_addr(\"127.0.0.1\");  // IP local para pruebas\n",
    "        ip->daddr = dest.sin_addr.s_addr;\n",
    "        ip->check = checksum((unsigned short *)ip, sizeof(struct iphdr));\n",
    "\n",
    "        // ICMP Header\n",
    "        icmp->type = ICMP_ECHO;\n",
    "        icmp->code = 0;\n",
    "        icmp->un.echo.id = htons(1234);\n",
    "        icmp->un.echo.sequence = htons(seq);\n",
    "        icmp->checksum = checksum((unsigned short *)icmp, sizeof(struct icmphdr));\n",
    "\n",
    "        if (sendto(sockfd, packet, ntohs(ip->tot_len), 0,\n",
    "                   (struct sockaddr *)&dest, sizeof(dest)) < 0) {\n",
    "            perror(\"sendto\");\n",
    "        } else {\n",
    "            printf(\"Ping #%d enviado a %s...\\n\", seq, DEST_IP);\n",
    "        }\n",
    "\n",
    "        // Recibir respuesta\n",
    "        char recv_buffer[PACKET_SIZE];\n",
    "        struct sockaddr_in recv_addr;\n",
    "        socklen_t addr_len = sizeof(recv_addr);\n",
    "\n",
    "        ssize_t bytes = recvfrom(sockfd, recv_buffer, sizeof(recv_buffer), 0,\n",
    "                                 (struct sockaddr *)&recv_addr, &addr_len);\n",
    "\n",
    "        if (bytes < 0) {\n",
    "            if (errno == EAGAIN || errno == EWOULDBLOCK)\n",
    "                printf(\"Timeout esperando respuesta ICMP #%d\\n\", seq);\n",
    "            else\n",
    "                perror(\"recvfrom\");\n",
    "        } else {\n",
    "            struct iphdr *recv_ip = (struct iphdr *)recv_buffer;\n",
    "            struct icmphdr *recv_icmp = (struct icmphdr *)(recv_buffer + (recv_ip->ihl * 4));\n",
    "\n",
    "            if (recv_icmp->type == ICMP_ECHOREPLY) {\n",
    "                printf(\"Respuesta ICMP #%d recibida desde %s\\n\\n\",\n",
    "                       ntohs(recv_icmp->un.echo.sequence),\n",
    "                       inet_ntoa(recv_addr.sin_addr));\n",
    "            } else {\n",
    "                printf(\"Recibido otro tipo de paquete ICMP: tipo %d\\n\", recv_icmp->type);\n",
    "            }\n",
    "        }\n",
    "\n",
    "        sleep(1);  // esperar 1 segundo antes del próximo ping\n",
    "    }\n",
    "\n",
    "    close(sockfd);\n",
    "    return 0;\n",
    "}' > raw_sockets_ping.c"
   ]
  },
  {
   "cell_type": "markdown",
   "id": "42052f00-5b36-49d3-9d03-6bf0ff072666",
   "metadata": {},
   "source": [
    "**NOTA: Cerrar las ventanas de las Terminales al finalizar su uso**"
   ]
  },
  {
   "cell_type": "markdown",
   "id": "05358e73-8a30-451f-90ed-36da8a9bf61a",
   "metadata": {},
   "source": [
    "Compilo el código usando Bash C:"
   ]
  },
  {
   "cell_type": "code",
   "execution_count": 4,
   "id": "9d0c91cf-6f6f-45af-8121-00630ad676b4",
   "metadata": {
    "scrolled": true
   },
   "outputs": [
    {
     "name": "stdout",
     "output_type": "stream",
     "text": [
      "gcc (Ubuntu 11.4.0-1ubuntu1~22.04) 11.4.0\n",
      "Copyright (C) 2021 Free Software Foundation, Inc.\n",
      "This is free software; see the source for copying conditions.  There is NO\n",
      "warranty; not even for MERCHANTABILITY or FITNESS FOR A PARTICULAR PURPOSE.\n",
      "\n"
     ]
    }
   ],
   "source": [
    "gcc --version"
   ]
  },
  {
   "cell_type": "code",
   "execution_count": 2,
   "id": "b84d0468-5d37-4758-9c80-1e135501ea7f",
   "metadata": {},
   "outputs": [],
   "source": [
    "gcc raw_sockets_ping.c -o raw_sockets_ping"
   ]
  },
  {
   "cell_type": "markdown",
   "id": "3c6982ba-c6ec-461a-9f6a-0184a53e809d",
   "metadata": {},
   "source": [
    "Verifico que el ejecutable esté disponible:"
   ]
  },
  {
   "cell_type": "code",
   "execution_count": 6,
   "id": "8386ccf4-f52d-4879-9237-c469c4d18cb6",
   "metadata": {},
   "outputs": [
    {
     "name": "stdout",
     "output_type": "stream",
     "text": [
      "\u001b[0m\u001b[01;34m'020111417FN-Espacio para entregas TP1 - 2025-1862142'\u001b[0m\n",
      "\u001b[01;31m'020111417FN-Espacio para entregas TP1 - 2025-1862142.zip'\u001b[0m\n",
      " 16\n",
      " \u001b[01;32mcliente\u001b[0m\n",
      " cliente.c\n",
      " \u001b[01;32mcliente_no_bloqueante2\u001b[0m\n",
      " cliente_no_bloqueante2.c\n",
      " \u001b[01;32mcliente_no_bloqueante_iterativo_TCP\u001b[0m\n",
      " cliente_no_bloqueante_iterativo_TCP.c\n",
      " \u001b[01;32mcliente_no_bloqueante_iterativo_UDP\u001b[0m\n",
      " cliente_no_bloqueante_iterativo_UDP.c\n",
      " Cliente_Servidor_No_Bloqueante_C_R1.ipynb\n",
      "'Cliente Servidor TCP con bash.ipynb'\n",
      " \u001b[01;32mcliente_tcp_bash\u001b[0m\n",
      " cliente_tcp_bash.c\n",
      " cliente_tcp_c.ipynb\n",
      " \u001b[01;32mcrear_estructura_udp_web.sh\u001b[0m\n",
      " icmp_packet.bin\n",
      " Ping_raw_sockets.c\n",
      " \u001b[01;32mProceso_01_Serial.py\u001b[0m\n",
      " \u001b[01;32mProceso_02_Concurrente.py\u001b[0m\n",
      " \u001b[01;34mproyecto_udp_web\u001b[0m\n",
      "'prueba de C con bash.ipynb'\n",
      " \u001b[01;32mraw_sockets_ping\u001b[0m\n",
      " raw_sockets_ping.c\n",
      " \u001b[01;32mraw_sockets_sniffer\u001b[0m\n",
      " raw_sockets_sniffer.c\n",
      " raw_sockets_tcp.c\n",
      " \u001b[01;32mservidor\u001b[0m\n",
      " servidor.c\n",
      " \u001b[01;32mservidor_no_bloqueante2\u001b[0m\n",
      " servidor_no_bloqueante2.c\n",
      " \u001b[01;32mservidor_no_bloqueante_iterativo_TCP\u001b[0m\n",
      " servidor_no_bloqueante_iterativo_TCP.c\n",
      " \u001b[01;32mservidor_no_bloqueante_iterativo_UDP\u001b[0m\n",
      " servidor_no_bloqueante_iterativo_UDP.c\n",
      " \u001b[01;32mservidor_tcp_bash\u001b[0m\n",
      " servidor_tcp_bash.c\n",
      " servidor_tcp_c.ipynb\n",
      " \u001b[01;32mservidor_tcp_concurrente_bash\u001b[0m\n",
      " servidor_tcp_concurrente_bash.c\n",
      " \u001b[01;32mSocket_Cliente_01.py\u001b[0m\n",
      " \u001b[01;32mSocket_Cliente_02.py\u001b[0m\n",
      " \u001b[01;32mSocket_Cliente_03.py\u001b[0m\n",
      " \u001b[01;32mSocket_Cliente_Eco.py\u001b[0m\n",
      " \u001b[01;32mSocket_Cliente_Select_Lento.py\u001b[0m\n",
      " \u001b[01;32mSocket_Cliente_Select.py\u001b[0m\n",
      " \u001b[01;32mSocket_con_Select.rar\u001b[0m\n",
      " \u001b[01;32mSocket_Python.rar\u001b[0m\n",
      " \u001b[01;32mSocket_Servidor_01B.py\u001b[0m\n",
      " \u001b[01;32mSocket_Servidor_01.py\u001b[0m\n",
      " \u001b[01;32mSocket_Servidor_Concurrente_01.py\u001b[0m\n",
      " \u001b[01;32mSocket_Servidor_Eco.py\u001b[0m\n",
      " \u001b[01;32mSocket_Servidor_NB.py\u001b[0m\n",
      " \u001b[01;32mSocket_Servidor_Select.py\u001b[0m\n",
      " TP1B_Raw_Sockets_R1.ipynb\n",
      " TP1_Calzetta.ipynb\n",
      " TP1_Cliente_Servidor_R1.ipynb\n"
     ]
    }
   ],
   "source": [
    "ls"
   ]
  },
  {
   "cell_type": "markdown",
   "id": "64c06cc5-b68a-4b09-a412-155cce995320",
   "metadata": {},
   "source": [
    "La terminal de Jupyter puede funcionar mal. Para ejecutarlo correctamente abro ventana por afuera del Jupyter Notebook:"
   ]
  },
  {
   "cell_type": "code",
   "execution_count": 11,
   "id": "39ebcc5c-346c-4c0f-851e-89f7f85771a0",
   "metadata": {},
   "outputs": [],
   "source": [
    "gnome-terminal -- bash -c \"sudo ./raw_sockets_ping\""
   ]
  },
  {
   "cell_type": "markdown",
   "id": "aad201b3-d464-4f58-ab6a-691e02ee557c",
   "metadata": {},
   "source": [
    "Capturarlo con tcpdump en la interfaz lo"
   ]
  },
  {
   "cell_type": "code",
   "execution_count": null,
   "id": "40d47cc3-9e19-4060-a832-029ff506984e",
   "metadata": {},
   "outputs": [],
   "source": [
    "gnome-terminal -- bash -c \"sudo tcpdump -i lo -nv icmp\""
   ]
  },
  {
   "cell_type": "markdown",
   "id": "b193280b-ad96-468c-a229-fdebfe6719ce",
   "metadata": {},
   "source": [
    "#### Visualizar el paquete en Python"
   ]
  },
  {
   "cell_type": "code",
   "execution_count": null,
   "id": "2a67c697-2397-4e47-80b4-a7986904bf7f",
   "metadata": {},
   "outputs": [],
   "source": [
    "import binascii\n",
    "\n",
    "# Supongamos que el paquete ya fue capturado en formato binario\n",
    "packet = b'\\x45\\x00\\x00\\x1c\\x30\\x39\\x00\\x00\\x40\\x01\\xa6\\xec\\xc0\\xa8\\x00\\x64\\x08\\x08\\x08\\x08\\x08\\x00\\xf7\\xff\\x04\\xd2\\x00\\x01'\n",
    "\n",
    "# Mostrar byte a byte\n",
    "print(\"Paquete (hex):\")\n",
    "for i in range(0, len(packet), 2):\n",
    "    print(binascii.hexlify(packet[i:i+2]), end=' ')\n"
   ]
  },
  {
   "cell_type": "markdown",
   "id": "d18569e2-9727-433b-958d-12c44eeb1fb5",
   "metadata": {},
   "source": [
    "### B) Sniffer ICMP."
   ]
  },
  {
   "cell_type": "markdown",
   "id": "c92e4271-622e-43d8-ac2c-bdf218b5a400",
   "metadata": {},
   "source": [
    "Este programa crea un socket RAW para recibir todos los paquetes IP y filtra los ICMP. \n",
    "- Se guarda el contenido del paquete en un archivo binario para luego analizarlo con Python."
   ]
  },
  {
   "cell_type": "code",
   "execution_count": 7,
   "id": "ebede494-4cd7-469c-bf78-c86550318473",
   "metadata": {},
   "outputs": [],
   "source": [
    "echo '#include <stdio.h>\n",
    "#include <stdlib.h>\n",
    "#include <string.h>\n",
    "#include <unistd.h>\n",
    "#include <sys/socket.h>\n",
    "#include <arpa/inet.h>\n",
    "#include <netinet/ip.h>\n",
    "#include <netinet/ip_icmp.h>\n",
    "\n",
    "int main() {\n",
    "    int sockfd;\n",
    "    char buffer[65536];\n",
    "    struct sockaddr saddr;\n",
    "    socklen_t saddr_len = sizeof(saddr);\n",
    "\n",
    "    // Crear raw socket\n",
    "    sockfd = socket(AF_INET, SOCK_RAW, IPPROTO_ICMP);\n",
    "    if (sockfd < 0) {\n",
    "        perror(\"Socket error\");\n",
    "        return 1;\n",
    "    }\n",
    "\n",
    "    printf(\"Sniffer ICMP iniciado... (Ctrl+C para detener)\\n\");\n",
    "\n",
    "    while (1) {\n",
    "        ssize_t packet_size = recvfrom(sockfd, buffer, sizeof(buffer), 0, &saddr, &saddr_len);\n",
    "        if (packet_size < 0) {\n",
    "            perror(\"recvfrom error\");\n",
    "            continue;\n",
    "        }\n",
    "\n",
    "        struct iphdr *ip = (struct iphdr*) buffer;\n",
    "        if (ip->protocol == IPPROTO_ICMP) {\n",
    "            struct icmphdr *icmp = (struct icmphdr*)(buffer + ip->ihl * 4);\n",
    "            printf(\"ICMP capturado: Tipo=%d Código=%d ID=%d Secuencia=%d\\n\",\n",
    "                icmp->type,\n",
    "                icmp->code,\n",
    "                ntohs(icmp->un.echo.id),\n",
    "                ntohs(icmp->un.echo.sequence)\n",
    "            );\n",
    "\n",
    "            // Guardar en archivo para analizar con Python\n",
    "            FILE *f = fopen(\"icmp_packet.bin\", \"wb\");\n",
    "            if (f) {\n",
    "                fwrite(buffer, 1, packet_size, f);\n",
    "                fclose(f);\n",
    "                printf(\"Paquete guardado en icmp_packet.bin\\n\");\n",
    "                break; // solo capturamos uno para el ejemplo\n",
    "            }\n",
    "        }\n",
    "    }\n",
    "\n",
    "    close(sockfd);\n",
    "    return 0;\n",
    "}' > raw_sockets_sniffer.c"
   ]
  },
  {
   "cell_type": "markdown",
   "id": "86906daf-09f4-45d3-879d-b558692b44dc",
   "metadata": {},
   "source": [
    "Compilo el código usando Bash C:"
   ]
  },
  {
   "cell_type": "code",
   "execution_count": 8,
   "id": "2c2cf6b6-18c5-4f80-b70a-b781e0ee7c3f",
   "metadata": {},
   "outputs": [],
   "source": [
    "gcc raw_sockets_sniffer.c -o raw_sockets_sniffer"
   ]
  },
  {
   "cell_type": "code",
   "execution_count": null,
   "id": "4071e1fb-9d41-4ac4-b59c-741e2c92234c",
   "metadata": {},
   "outputs": [],
   "source": [
    "gnome-terminal -- bash -c \"sudo ./raw_sockets_sniffer\""
   ]
  },
  {
   "cell_type": "markdown",
   "id": "870a2659-63d1-4b52-b365-f83865948291",
   "metadata": {},
   "source": [
    "#### Ejecutar ping 127.0.0.1 o la IP local o remota desde otra terminal para generar tráfico ICMP."
   ]
  },
  {
   "cell_type": "markdown",
   "id": "27043069-91de-4b66-a7be-d1710c7b3a02",
   "metadata": {},
   "source": [
    "#### Leer y visualizar el paquete en Python"
   ]
  },
  {
   "cell_type": "code",
   "execution_count": 1,
   "id": "f14da48e-c71c-46f6-8d9a-d35ace4abd29",
   "metadata": {},
   "outputs": [
    {
     "name": "stdout",
     "output_type": "stream",
     "text": [
      "Paquete capturado:\n",
      "b'45 00 00 1c 04 d3 00 00 40 01 78 0c 7f 00 00 01 7f 00 00 01 08 00 f3 2c 04 d2 00 01'\n",
      "\n",
      " IP Header:\n",
      "Version: 4\n",
      "IHL: 5 (20 bytes)\n",
      "Total Length: 28\n",
      "Protocol: 1 (should be 1 for ICMP)\n",
      "Source IP: 127.0.0.1\n",
      "Destination IP: 127.0.0.1\n",
      "\n",
      "ICMP Header:\n",
      "Type: 8\n",
      "Code: 0\n",
      "Checksum: 0xf32c\n",
      "ID: 1234\n",
      "Sequence: 1\n"
     ]
    }
   ],
   "source": [
    "import struct\n",
    "import binascii\n",
    "\n",
    "with open(\"icmp_packet.bin\", \"rb\") as f:\n",
    "    data = f.read()\n",
    "\n",
    "print(\"Paquete capturado:\")\n",
    "print(binascii.hexlify(data, sep=' '))\n",
    "\n",
    "# Extraer y mostrar cabeceras IP e ICMP\n",
    "ip_header = data[:20]\n",
    "ip_fields = struct.unpack(\"!BBHHHBBH4s4s\", ip_header)\n",
    "\n",
    "print(\"\\n IP Header:\")\n",
    "print(f\"Version: {ip_fields[0] >> 4}\")\n",
    "print(f\"IHL: {ip_fields[0] & 0xF} ({(ip_fields[0] & 0xF)*4} bytes)\")\n",
    "print(f\"Total Length: {ip_fields[2]}\")\n",
    "print(f\"Protocol: {ip_fields[6]} (should be 1 for ICMP)\")\n",
    "print(f\"Source IP: {'.'.join(map(str, ip_fields[8]))}\")\n",
    "print(f\"Destination IP: {'.'.join(map(str, ip_fields[9]))}\")\n",
    "\n",
    "icmp_offset = (ip_fields[0] & 0xF) * 4\n",
    "icmp_header = data[icmp_offset:icmp_offset+8]\n",
    "icmp_fields = struct.unpack(\"!BBHHH\", icmp_header)\n",
    "\n",
    "print(\"\\nICMP Header:\")\n",
    "print(f\"Type: {icmp_fields[0]}\")\n",
    "print(f\"Code: {icmp_fields[1]}\")\n",
    "print(f\"Checksum: {hex(icmp_fields[2])}\")\n",
    "print(f\"ID: {icmp_fields[3]}\")\n",
    "print(f\"Sequence: {icmp_fields[4]}\")"
   ]
  },
  {
   "cell_type": "markdown",
   "id": "67dd3059-104f-4b8b-a28e-d0bac1abff4b",
   "metadata": {},
   "source": [
    "Ejemplo de captura:"
   ]
  },
  {
   "cell_type": "raw",
   "id": "cb2902e6-07e7-41ac-a495-8cb47d5db7f8",
   "metadata": {},
   "source": [
    "Paquete capturado:\n",
    "45 00 00 54  ... (datos hexadecimales del paquete)\n",
    "\n",
    "IP Header:\n",
    "Version: 4\n",
    "IHL: 5 (20 bytes)\n",
    "Total Length: 84\n",
    "Protocol: 1 (should be 1 for ICMP)\n",
    "Source IP: 192.168.0.101\n",
    "Destination IP: 8.8.8.8\n",
    "\n",
    "ICMP Header:\n",
    "Type: 0\n",
    "Code: 0\n",
    "Checksum: 0x9abc\n",
    "ID: 1234\n",
    "Sequence: 1\n"
   ]
  },
  {
   "cell_type": "markdown",
   "id": "08cf55e3-970d-406c-b247-a7eeae6c5472",
   "metadata": {},
   "source": [
    "Visualización gráfica del paquete binario con matplotlib.   \n",
    "Se muestra:\n",
    "- Los bytes como valores hexadecimales.\n",
    "- Un mapa de calor (heatmap) donde cada byte es un píxel codificado por color.\n",
    "\n",
    "\n",
    "**Instalar matplotlib**"
   ]
  },
  {
   "cell_type": "raw",
   "id": "cb6c5860-7334-420a-b437-c4926a2448e9",
   "metadata": {},
   "source": [
    "!pip install matplotlib numpy"
   ]
  },
  {
   "cell_type": "code",
   "execution_count": 2,
   "id": "df47d334-bbd8-4c1f-80d3-84e50f7943f9",
   "metadata": {},
   "outputs": [
    {
     "data": {
      "image/png": "[encoded data removed]",
      "text/plain": [
       "<Figure size 1200x500 with 2 Axes>"
      ]
     },
     "metadata": {},
     "output_type": "display_data"
    }
   ],
   "source": [
    "# visualizar_paquete.py\n",
    "import matplotlib.pyplot as plt\n",
    "import numpy as np\n",
    "\n",
    "# Leer el paquete\n",
    "with open(\"icmp_packet.bin\", \"rb\") as f:\n",
    "    packet = f.read()\n",
    "\n",
    "# Convertir a matriz de bytes\n",
    "bytes_list = list(packet)\n",
    "length = len(bytes_list)\n",
    "cols = 16\n",
    "rows = (length + cols - 1) // cols\n",
    "\n",
    "# Rellenar con ceros si no es múltiplo de 16\n",
    "padded = bytes_list + [0] * (rows * cols - length)\n",
    "matrix = np.array(padded).reshape((rows, cols))\n",
    "\n",
    "# Visualización\n",
    "plt.figure(figsize=(12, 5))\n",
    "plt.imshow(matrix, cmap='viridis', aspect='auto')\n",
    "plt.title(\"Mapa de bytes del paquete ICMP\")\n",
    "plt.colorbar(label=\"Valor del byte\")\n",
    "plt.xlabel(\"Byte en columna\")\n",
    "plt.ylabel(\"Fila del paquete\")\n",
    "\n",
    "# Mostrar valores hex en la matriz\n",
    "for i in range(rows):\n",
    "    for j in range(cols):\n",
    "        byte_val = matrix[i, j]\n",
    "        plt.text(j, i, f'{byte_val:02X}', ha='center', va='center', color='white', fontsize=8)\n",
    "\n",
    "plt.tight_layout()\n",
    "plt.show()\n"
   ]
  },
  {
   "cell_type": "markdown",
   "id": "0a8ac748-5554-4458-9f09-154535d67f6a",
   "metadata": {},
   "source": [
    "### Enviar paquete TCP SYN con Raw Socket en C"
   ]
  },
  {
   "cell_type": "code",
   "execution_count": 1,
   "id": "39d5c9da-f8d2-40c2-8ab2-31629b3bad20",
   "metadata": {},
   "outputs": [],
   "source": [
    "cat << 'EOF' > raw_sockets_tcp.c\n",
    "#include <stdio.h>\n",
    "#include <string.h>\n",
    "#include <stdlib.h>\n",
    "#include <unistd.h>\n",
    "#include <arpa/inet.h>\n",
    "#include <sys/socket.h>\n",
    "#include <netinet/ip.h>\n",
    "#include <netinet/tcp.h>\n",
    "\n",
    "// Calcula checksum para IP/TCP\n",
    "unsigned short checksum(unsigned short *ptr, int nbytes) {\n",
    "    long sum = 0;\n",
    "    unsigned short oddbyte;\n",
    "    unsigned short answer;\n",
    "\n",
    "    while(nbytes > 1) {\n",
    "        sum += *ptr++;\n",
    "        nbytes -= 2;\n",
    "    }\n",
    "\n",
    "    if(nbytes == 1) {\n",
    "        oddbyte = 0;\n",
    "        *((unsigned char*)&oddbyte) = *(unsigned char*)ptr;\n",
    "        sum += oddbyte;\n",
    "    }\n",
    "\n",
    "    sum = (sum >> 16) + (sum & 0xffff);\n",
    "    sum += (sum >> 16);\n",
    "    answer = ~sum;\n",
    "\n",
    "    return answer;\n",
    "}\n",
    "\n",
    "// Cabecera pseudo para el checksum TCP\n",
    "struct pseudo_header {\n",
    "    unsigned int source_address;\n",
    "    unsigned int dest_address;\n",
    "    unsigned char placeholder;\n",
    "    unsigned char protocol;\n",
    "    unsigned short tcp_length;\n",
    "};\n",
    "\n",
    "int main() {\n",
    "    // Crear socket raw\n",
    "    int sock = socket(AF_INET, SOCK_RAW, IPPROTO_TCP);\n",
    "    if(sock < 0) {\n",
    "        perror(\"socket error\");\n",
    "        return 1;\n",
    "    }\n",
    "\n",
    "    // Datos del paquete\n",
    "    char datagram[4096], *data, *pseudogram;\n",
    "    memset(datagram, 0, 4096);\n",
    "\n",
    "    // Cabeceras IP y TCP\n",
    "    struct iphdr *iph = (struct iphdr *)datagram;\n",
    "    struct tcphdr *tcph = (struct tcphdr *)(datagram + sizeof(struct iphdr));\n",
    "\n",
    "    struct sockaddr_in sin;\n",
    "    sin.sin_family = AF_INET;\n",
    "    sin.sin_port = htons(80);  // Puerto destino\n",
    "    sin.sin_addr.s_addr = inet_addr(\"127.0.0.1\");  // Cambiar por destino real\n",
    "\n",
    "    // Datos a enviar (puede ser vacío en SYN)\n",
    "    data = datagram + sizeof(struct iphdr) + sizeof(struct tcphdr);\n",
    "    strcpy(data, \"\");  // datos opcionales\n",
    "\n",
    "    // Rellenar cabecera IP\n",
    "    iph->ihl = 5;\n",
    "    iph->version = 4;\n",
    "    iph->tos = 0;\n",
    "    iph->tot_len = sizeof(struct iphdr) + sizeof(struct tcphdr);\n",
    "    iph->id = htons(54321);\n",
    "    iph->frag_off = 0;\n",
    "    iph->ttl = 64;\n",
    "    iph->protocol = IPPROTO_TCP;\n",
    "    iph->saddr = inet_addr(\"127.0.0.1\"); // Cambiar a IP local\n",
    "    iph->daddr = sin.sin_addr.s_addr;\n",
    "    iph->check = checksum((unsigned short *)datagram, iph->tot_len);\n",
    "\n",
    "    // Cabecera TCP\n",
    "    tcph->source = htons(1234);\n",
    "    tcph->dest = htons(80);\n",
    "    tcph->seq = htonl(0);\n",
    "    tcph->ack_seq = 0;\n",
    "    tcph->doff = 5;\n",
    "    tcph->syn = 1;\n",
    "    tcph->window = htons(5840);\n",
    "    tcph->check = 0;\n",
    "    tcph->urg_ptr = 0;\n",
    "\n",
    "    // Cabecera pseudo para checksum TCP\n",
    "    struct pseudo_header psh;\n",
    "    psh.source_address = iph->saddr;\n",
    "    psh.dest_address = iph->daddr;\n",
    "    psh.placeholder = 0;\n",
    "    psh.protocol = IPPROTO_TCP;\n",
    "    psh.tcp_length = htons(sizeof(struct tcphdr));\n",
    "\n",
    "    int psize = sizeof(struct pseudo_header) + sizeof(struct tcphdr);\n",
    "    pseudogram = malloc(psize);\n",
    "\n",
    "    memcpy(pseudogram, &psh, sizeof(struct pseudo_header));\n",
    "    memcpy(pseudogram + sizeof(struct pseudo_header), tcph, sizeof(struct tcphdr));\n",
    "\n",
    "    tcph->check = checksum((unsigned short *)pseudogram, psize);\n",
    "\n",
    "    // Permitir incluir cabecera IP\n",
    "    int one = 1;\n",
    "    if (setsockopt(sock, IPPROTO_IP, IP_HDRINCL, &one, sizeof(one)) < 0) {\n",
    "        perror(\"setsockopt error\");\n",
    "        return 1;\n",
    "    }\n",
    "\n",
    "    // Enviar paquete\n",
    "    if (sendto(sock, datagram, iph->tot_len, 0,\n",
    "               (struct sockaddr *)&sin, sizeof(sin)) < 0) {\n",
    "        perror(\"sendto failed\");\n",
    "    } else {\n",
    "        printf(\"Paquete TCP SYN enviado a %s\\n\", inet_ntoa(sin.sin_addr));\n",
    "    }\n",
    "\n",
    "    free(pseudogram);\n",
    "    close(sock);\n",
    "    return 0;\n",
    "}\n",
    "EOF"
   ]
  },
  {
   "cell_type": "markdown",
   "id": "328f5652-8421-4a4e-accd-69f325df518a",
   "metadata": {},
   "source": [
    "### Consigna del TP 1B\n",
    "**Ejercicios a realizar durante la clase. Incluir los códigos dentro de este mismo Notebook**"
   ]
  },
  {
   "cell_type": "markdown",
   "id": "d7c4e55d-7399-4b38-ad82-66e81ac50302",
   "metadata": {},
   "source": [
    "Con esta información es posible crear un simple \"sniffer\", que muestre todo el contenido de los paquetes TCP que se reciban. ( En este ejemplo se evitan los headers IP y TCP, y se imprime solamente el \"payload\" con encabezados IP y TCP contenidos en el paquete ).\n",
    "Usar también tcpdump que es una herramienta de línea de comandos en sistemas Unix/Linux que sirve para capturar y analizar tráfico de red. Funciona a nivel de capa de enlace (nivel 2 del modelo OSI) y utiliza libpcap para interceptar paquetes.\n",
    "\n",
    "- Utilizando el código \"sniffer\" que es un programa que muestra el contenido del tráfico que llega, modificarlo para explicar cada paso que va ejecutando en pantalla.\n",
    "- Modificar el sniffer para que vaya mostrando todo el tráfico que llega.\n",
    "- Enviar tráfico al \"sniffer\" desde el cliente escrito en la parte A del TP1\n",
    "- Enviar tráfico ICMP al \"sniffer\" y mostrar los resultados con un LOG con comentarios.\n",
    "- Explicar las estructuras del código de ICMP y del Sniffer, especialmente los campos de protocolo.\n",
    "- Estudiar el \"sniffer\" para que muestre IP, TCP y UDP.\n",
    "- Mostrar resultados.\n"
   ]
  },
  {
   "cell_type": "markdown",
   "id": "836d186b-f16f-48c5-9f2b-f8e35867f80a",
   "metadata": {},
   "source": [
    "#### Para raw_sockets_tcp.c\n",
    "- El programa anterior arma paquete IP + TCP.\n",
    "- Lo envía como un SYN (inicio de conexión TCP).\n",
    "- Calcula los checksums (IP y TCP).\n",
    "- Requiere IP de origen válida.\n",
    "- Probar con IPs distintas de localhost\n",
    "- Verlo con tcpdump\n",
    "- Mientras se ejecuta el programa, en otra terminal ejecutar tcpdump (reemplazar por interfaz correcta si es necesario)"
   ]
  },
  {
   "cell_type": "markdown",
   "id": "2a15ab88-15ec-4a47-9605-18cf602d5f30",
   "metadata": {},
   "source": [
    "sudo tcpdump -i lo or -i wlp1s0 tcp"
   ]
  }
 ],
 "metadata": {
  "kernelspec": {
   "display_name": "Bash",
   "language": "bash",
   "name": "bash"
  },
  "language_info": {
   "codemirror_mode": "shell",
   "file_extension": ".sh",
   "mimetype": "text/x-sh",
   "name": "bash"
  }
 },
 "nbformat": 4,
 "nbformat_minor": 5
}
