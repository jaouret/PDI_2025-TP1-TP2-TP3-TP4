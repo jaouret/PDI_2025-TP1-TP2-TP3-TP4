{
 "cells": [
  {
   "cell_type": "markdown",
   "id": "6e94bc68-df1b-4fdd-8d9d-628fd9c00028",
   "metadata": {},
   "source": [
    "# Trabajo Práctico Nro. 2A\n",
    "### Ing. Javier Ouret - 2025 - UCA - Facultad de Ingeniería\n",
    "## Monitoreo de dispositivos y software en redes cliente-servidor utilizando SNMP (Entrega 26/05/2025)"
   ]
  },
  {
   "cell_type": "markdown",
   "id": "e75af8ef-0fd5-499f-8904-c1d33b0ea26f",
   "metadata": {},
   "source": [
    "#### Activar y configurar SNMP en Ubuntu"
   ]
  },
  {
   "cell_type": "raw",
   "id": "f5bad7bb-5f86-44c2-b04a-bcd018bd9ad7",
   "metadata": {},
   "source": [
    "sudo apt update\n",
    "sudo apt install snmp snmpd -y"
   ]
  },
  {
   "cell_type": "markdown",
   "id": "43d401ba-cb6b-4fac-8c5a-8532d5a7210b",
   "metadata": {},
   "source": [
    "Configurar el archivo de SNMP"
   ]
  },
  {
   "cell_type": "raw",
   "id": "8fadc17e-c0c0-4c76-95e7-0cf664bd80fa",
   "metadata": {},
   "source": [
    "sudo nano /etc/snmp/snmpd.conf\n",
    "# Permitir consultas desde localhost (para pruebas):\n",
    "# Buscar y reemplazar esta línea:\n",
    "agentAddress  127.0.0.1,[::1]\n",
    "# Con ésta, si se desea escuchar en todas las interfaces:\n",
    "agentAddress udp:161,udp6:[::1]:161\n",
    "# Cambiar la comunidad por defecto (opcional pero recomendado):\n",
    "rocommunity public  default    -V systemonly\n",
    "# Cambiar o agregar una línea como esta para acceso de solo lectura desde localhost:\n",
    "rocommunity public  localhost\n",
    "# Si se quiere habilitar acceso desde otra IP:\n",
    "rocommunity public 192.168.1.0/24\n",
    "# Usar rwcommunity si se requiere permisos de escritura (usando snmpset), pero cuidado con la seguridad.\n",
    "# Reiniciar el servicio SNMP\n",
    "sudo systemctl restart snmpd\n",
    "sudo systemctl status snmpd\n",
    "# Probarlo con:\n",
    "snmpwalk -v2c -c public localhost\n",
    "# Si perefiero ver OID específico\n",
    "snmpget -v2c -c public localhost 1.3.6.1.2.1.1.1.0\n",
    "# Este último comando obtiene la descripción del sistema (sysDescr)."
   ]
  },
  {
   "cell_type": "markdown",
   "id": "411e96ac-7e74-44b8-8db1-678ab591929e",
   "metadata": {},
   "source": [
    "#### Completar la instalación de SNMP para python\n",
    "#### Consultar el equipo con ubuntu usando python y con algún gestor snmp gratuito con interfaz web"
   ]
  },
  {
   "cell_type": "markdown",
   "id": "cf20e7e8-7083-406e-aa3d-cbd7b64a1a8c",
   "metadata": {},
   "source": [
    "Si está snmpd activado en Ubuntu, usar pysnmp desde otro equipo (o el mismo) para consultarlo.   \n",
    "Instalar pysnmp\n",
    "**NOTA: Directorios indicados son sólo a modo de ejemplo**"
   ]
  },
  {
   "cell_type": "raw",
   "id": "ab45336d-7060-4d25-a49d-61e1a356ba23",
   "metadata": {},
   "source": [
    "# Instalar repositorio nuevo\n",
    "deactivate  # salir del entorno actual\n",
    "rm -rf snmp_env\n",
    "python3 -m venv snmp_env\n",
    "source snmp_env/bin/activate\n",
    "pip install --upgrade pip\n",
    "source /home/javier/Documents/GitRepo/UCA/PdI/Notebooks/proyecto_snmp/snmp_env/bin/activate\n",
    "# reintalar kernel, llamar a Jupyter lab o notebook desde el nuevo env y luego seleccionar Pythin (SNMP) como kernel\n",
    "pip install ipykernel\n",
    "python -m ipykernel install --user --name snmp_env --display-name \"Python (SNMP)\"\n",
    "# Para pysnmp 4.4.12 que es estable y ampliamente usada, la versión recomendada de pyasn1 es 0.4.8.\n",
    "pip install pysnmp==4.4.12 pyasn1==0.4.8 pysmi\n",
    "# Verificar\n",
    "pip list | grep -E 'pysnmp|pyasn1|pysmi'\n",
    "\n",
    "pysnmp    4.4.12\n",
    "pyasn1    0.4.8\n",
    "pysmi     X.Y.Z\n",
    "\n",
    "# Prueba en python\n",
    "pyhton\n",
    "from pysnmp.hlapi import getCmd, SnmpEngine\n",
    "print(getCmd, SnmpEngine)"
   ]
  },
  {
   "cell_type": "markdown",
   "id": "19720318-4cf3-4da0-aaa9-07003e6313a1",
   "metadata": {},
   "source": [
    "Script Python básico (GET):"
   ]
  },
  {
   "cell_type": "code",
   "execution_count": 1,
   "id": "6a1aef3d-19d9-4e65-8423-667f3143cacf",
   "metadata": {},
   "outputs": [
    {
     "name": "stdout",
     "output_type": "stream",
     "text": [
      "/home/javier/Documents/GitRepo/UCA/PdI/Notebooks/proyecto_snmp/snmp_env/bin/python\n",
      "/home/javier/Documents/GitRepo/UCA/PdI/Notebooks/proyecto_snmp/snmp_env/bin/python\n"
     ]
    }
   ],
   "source": [
    "!which python\n",
    "import sys\n",
    "print(sys.executable)"
   ]
  },
  {
   "cell_type": "code",
   "execution_count": 2,
   "id": "8ed3dc95-bd9f-4fd2-84d1-5d33b678a853",
   "metadata": {},
   "outputs": [
    {
     "name": "stdout",
     "output_type": "stream",
     "text": [
      "pysnmp funciona\n"
     ]
    }
   ],
   "source": [
    "import pysnmp.hlapi\n",
    "print(\"pysnmp funciona\")"
   ]
  },
  {
   "cell_type": "code",
   "execution_count": 3,
   "id": "b0534d0d-fcbe-4370-a6bb-9e79b6e30667",
   "metadata": {},
   "outputs": [
    {
     "name": "stdout",
     "output_type": "stream",
     "text": [
      "1.3.6.1.2.1.1.1.0 = Linux javier-Yoga-7-16ARP8 6.8.0-59-generic #61~22.04.1-Ubuntu SMP PREEMPT_DYNAMIC Tue Apr 15 17:03:15 UTC 2 x86_64\n"
     ]
    }
   ],
   "source": [
    "from pysnmp.entity.engine import SnmpEngine\n",
    "from pysnmp.hlapi import getCmd, CommunityData, UdpTransportTarget, ContextData, ObjectType, ObjectIdentity\n",
    "\n",
    "iterator = getCmd(\n",
    "    SnmpEngine(),\n",
    "    CommunityData('public'),\n",
    "    UdpTransportTarget(('127.0.0.1', 161)),\n",
    "    ContextData(),\n",
    "    ObjectType(ObjectIdentity('1.3.6.1.2.1.1.1.0'))  # sysDescr\n",
    ")\n",
    "\n",
    "errorIndication, errorStatus, errorIndex, varBinds = next(iterator)\n",
    "\n",
    "if errorIndication:\n",
    "    print(f\"Error: {errorIndication}\")\n",
    "elif errorStatus:\n",
    "    print(f\"Error: {errorStatus.prettyPrint()}\")\n",
    "else:\n",
    "    for varBind in varBinds:\n",
    "        print(f\"{varBind[0]} = {varBind[1]}\")\n"
   ]
  },
  {
   "cell_type": "markdown",
   "id": "6bf6264d-b241-4de2-bb8d-9f10c6ab91db",
   "metadata": {},
   "source": [
    "##### Instalar un gestor SNMP gratuitos con interfaz web"
   ]
  },
  {
   "cell_type": "markdown",
   "id": "5ac5026a-4a88-4b26-88f6-d1613b1e7725",
   "metadata": {},
   "source": [
    "- Cacti\n",
    "  - Enfocado en gráficas SNMP (CPU, memoria, interfaces).\n",
    "  - Más liviano que LibreNMS.\n",
    "- Instalación en Ubuntu:"
   ]
  },
  {
   "cell_type": "raw",
   "id": "6f86fc53-f2b6-4616-af62-e87318faa8ec",
   "metadata": {},
   "source": [
    "sudo apt install cacti -y"
   ]
  },
  {
   "cell_type": "markdown",
   "id": "2eb63251-5871-4d3f-90fc-a7e0cad2dc9d",
   "metadata": {},
   "source": [
    "Acceder a: http://localhost/cacti\n",
    "Tener snmpd activo en el servidor Ubuntu a monitorear."
   ]
  },
  {
   "cell_type": "markdown",
   "id": "7c8e765b-04ca-4144-838d-e939f5b4d043",
   "metadata": {},
   "source": [
    "#### Crear un dispositivo virtual SNMP en Python que permita simular el uso de GET, SET, PUT, etc.   \n",
    "Utilizar la librería pysnmp, que permite manejar la gestión de SNMP.   \n",
    "Crear un dispositivo virtual que pueda responder a solicitudes SNMP simuladas.   \n",
    "Ejemplo:"
   ]
  },
  {
   "cell_type": "raw",
   "id": "a56f748b-0d93-4f1c-92d4-3aeda53a393c",
   "metadata": {},
   "source": [
    "pip install pysnmp-mibs"
   ]
  },
  {
   "cell_type": "markdown",
   "id": "cd72b709-b964-4b65-b6c4-c2305e246c3a",
   "metadata": {},
   "source": [
    "Servidor SNMP virtual.\n",
    "Este script configura un servidor SNMP en el puerto 161 para escuchar las solicitudes de GET, SET, etc."
   ]
  },
  {
   "cell_type": "code",
   "execution_count": 12,
   "id": "f4f20ce1-2abd-49a7-acc3-b930d8157536",
   "metadata": {},
   "outputs": [
    {
     "name": "stdout",
     "output_type": "stream",
     "text": [
      "Iniciando prueba de SNMP\n",
      "Puerto 1161 abierto con éxito\n"
     ]
    }
   ],
   "source": [
    "from pysnmp.entity import engine, config\n",
    "from pysnmp.carrier.asyncore.dgram import udp\n",
    "\n",
    "print(\"Iniciando prueba de SNMP\")\n",
    "\n",
    "snmpEngine = engine.SnmpEngine()\n",
    "\n",
    "config.addV1System(snmpEngine, 'public-read', 'public')\n",
    "\n",
    "try:\n",
    "    config.addTransport(\n",
    "        snmpEngine,\n",
    "        udp.domainName,\n",
    "        udp.UdpTransport().openServerMode(('127.0.0.1', 1161))\n",
    "    )\n",
    "    print(\"Puerto 1161 abierto con éxito\")\n",
    "except Exception as e:\n",
    "    print(f\"Error abriendo puerto: {e}\")\n"
   ]
  },
  {
   "cell_type": "code",
   "execution_count": 1,
   "id": "6043d78b-53f9-4a1a-a5bf-e49b57e1f2d3",
   "metadata": {},
   "outputs": [
    {
     "name": "stdout",
     "output_type": "stream",
     "text": [
      "Overwriting snmp_server.py\n"
     ]
    }
   ],
   "source": [
    "%%writefile snmp_server.py\n",
    "from pysnmp.entity import engine, config\n",
    "from pysnmp.carrier.asyncore.dgram import udp\n",
    "from pysnmp.entity.rfc3413 import cmdrsp, context\n",
    "from pysnmp.smi import builder, instrum\n",
    "import asyncore\n",
    "import os\n",
    "from pysnmp.smi import builder as mibbuilder_module\n",
    "\n",
    "# Controlador con logging para mostrar operaciones GET y SET\n",
    "class LoggingMibInstrumController(instrum.MibInstrumController):\n",
    "    def readVars(self, varBinds, acInfo=(None, None)):\n",
    "        print(\"Recibiendo GET para:\")\n",
    "        for oid, val in varBinds:\n",
    "            print(f\"  OID: {oid.prettyPrint()}\")\n",
    "        return super().readVars(varBinds, acInfo)\n",
    "\n",
    "    def writeVars(self, varBinds, acInfo=(None, None)):\n",
    "        print(\"Recibiendo SET para:\")\n",
    "        for oid, val in varBinds:\n",
    "            print(f\"  OID: {oid.prettyPrint()} Valor nuevo: {val.prettyPrint()}\")\n",
    "        return super().writeVars(varBinds, acInfo)\n",
    "\n",
    "def main():\n",
    "    snmpEngine = engine.SnmpEngine()\n",
    "\n",
    "    # Configurar comunidad 'public' para lectura\n",
    "    config.addV1System(snmpEngine, 'public-read', 'public')\n",
    "\n",
    "    # Abrir puerto UDP 1161 en localhost\n",
    "    config.addTransport(\n",
    "        snmpEngine,\n",
    "        udp.domainName,\n",
    "        udp.UdpTransport().openServerMode(('0.0.0.0', 1161))\n",
    "\n",
    "    )\n",
    "\n",
    "    mibBuilder = snmpEngine.getMibBuilder()\n",
    "\n",
    "    # Añadir carpeta de MIBs instaladas con pysnmp-mibs\n",
    "    mib_path = os.path.join(os.path.dirname(mibbuilder_module.__file__), 'mibs')\n",
    "    mibBuilder.addMibSources(builder.DirMibSource(mib_path))\n",
    "\n",
    "    # Cargar MIB IF-MIB\n",
    "    mibBuilder.loadModules('IF-MIB')\n",
    "\n",
    "    # Crear controlador con logging\n",
    "    mibInstrum = LoggingMibInstrumController(mibBuilder)\n",
    "\n",
    "    # Crear contexto SNMP sin parámetros (crea contexto por defecto)\n",
    "    snmpContext = context.SnmpContext(snmpEngine)\n",
    "\n",
    "    # Reemplazar el controlador de instrumentación por defecto con el personalizado\n",
    "    snmpContext._mibInstrum = mibInstrum\n",
    "\n",
    "    # Registrar los command responders para manejar GET, SET, etc.\n",
    "    cmdrsp.GetCommandResponder(snmpEngine, snmpContext)\n",
    "    cmdrsp.SetCommandResponder(snmpEngine, snmpContext)\n",
    "    cmdrsp.NextCommandResponder(snmpEngine, snmpContext)\n",
    "    cmdrsp.BulkCommandResponder(snmpEngine, snmpContext)\n",
    "\n",
    "    print(\"SNMP agent corriendo en puerto 1161 (localhost)\")\n",
    "\n",
    "    try:\n",
    "        snmpEngine.transportDispatcher.jobStarted(1)  # Esto evita que el dispatcher se detenga\n",
    "        snmpEngine.transportDispatcher.runDispatcher()\n",
    "    except KeyboardInterrupt:\n",
    "        print(\"\\nSNMP Agent detenido\")\n",
    "        snmpEngine.transportDispatcher.closeDispatcher()\n",
    "\n",
    "if __name__ == '__main__':\n",
    "    main()\n"
   ]
  },
  {
   "cell_type": "raw",
   "id": "d9e7a5f9-d022-4df1-884d-2bd5b273ad76",
   "metadata": {},
   "source": [
    "snmpget -v2c -c public localhost:1161 1.3.6.1.2.1.1.1.0"
   ]
  },
  {
   "cell_type": "markdown",
   "id": "317093b0-da7f-4614-9523-1f316142c3a7",
   "metadata": {},
   "source": [
    "- MIB Simulada (SimpleMIB): Esta clase almacena los valores de los OIDs simulados. En este caso, hemos definido un solo OID, que es el estado de un dispositivo (con un valor de 1, indicando \"ON\").\n",
    "- Operaciones GET y SET: La función handle_get_request() simula una solicitud GET, y la función handle_set_request() simula una solicitud SET.\n",
    "- Servidor SNMP: El servidor SNMP virtual se configura para escuchar en el puerto 161 (el puerto estándar para SNMP). En este ejemplo, está diseñado para simular respuestas GET y SET."
   ]
  },
  {
   "cell_type": "markdown",
   "id": "66d6712d-1204-4214-917a-1415ecd97a88",
   "metadata": {},
   "source": [
    "##### Simular un Cliente SNMP"
   ]
  },
  {
   "cell_type": "markdown",
   "id": "4781a123-50d4-47af-8c01-e240208ec1ff",
   "metadata": {},
   "source": [
    "Usar un cliente SNMP para realizar solicitudes como GET, SET, PUT, etc. \n",
    "Este código consulta el servidor SNMP para obtener el valor del OID definido anteriormente."
   ]
  },
  {
   "cell_type": "code",
   "execution_count": 3,
   "id": "2bc1dd8d-42b4-45d3-b49a-69415ed63c5c",
   "metadata": {},
   "outputs": [
    {
     "name": "stdout",
     "output_type": "stream",
     "text": [
      "SNMP GET Error: No SNMP response received before timeout\n"
     ]
    }
   ],
   "source": [
    "from pysnmp.hlapi import *\n",
    "\n",
    "def snmp_get(oid):\n",
    "    iterator = getCmd(\n",
    "        SnmpEngine(),\n",
    "        CommunityData('public', mpModel=0),\n",
    "        UdpTransportTarget(('localhost', 1161)),\n",
    "        ContextData(),\n",
    "        ObjectType(ObjectIdentity(oid))\n",
    "    )\n",
    "\n",
    "    error_indication, error_status, error_index, var_binds = next(iterator)\n",
    "\n",
    "    if error_indication:\n",
    "        print(f\"SNMP GET Error: {error_indication}\")\n",
    "    elif error_status:\n",
    "        print(f\"SNMP GET Error Status: {error_status}\")\n",
    "    else:\n",
    "        for var_bind in var_binds:\n",
    "            print(f\"GET Response: {var_bind}\")\n",
    "\n",
    "# Realizar un GET\n",
    "snmp_get('1.3.6.1.2.1.2.2.1.7.2')\n"
   ]
  },
  {
   "cell_type": "markdown",
   "id": "7ae1b469-5bbb-4a56-b720-8b40567f002e",
   "metadata": {},
   "source": [
    "- Simulación de SET: Para realizar un SET, usar un código similar al de GET, pero utilizando la función setCmd en lugar de getCmd.\n",
    "\n",
    "- Simular dispositivos más complejos: agregar más OIDs a la clase SimpleMIB para simular dispositivos más complejos con múltiples variables."
   ]
  },
  {
   "cell_type": "markdown",
   "id": "9e7f7657-bb2a-4fc2-bb04-ecb52f1c48b2",
   "metadata": {},
   "source": [
    "##### Herramientas útiles para trabajar con MIBs\n",
    "- snmptranslate: para ver los OID en texto y número.\n",
    "- snmpwalk/snmpget: para consultar datos reales con SNMP.\n",
    "- Zabbix/Nagios/PRTG: para integrarlas a sistemas de monitoreo.\n",
    "- MIB Browsers: iReasoning o SNMP MIB Browser de ManageEngine."
   ]
  },
  {
   "cell_type": "markdown",
   "id": "23632f91-f8e9-4457-8bdc-f2cf251d8678",
   "metadata": {},
   "source": [
    "#### Descargar MIB Browser para Windows y para Linux"
   ]
  },
  {
   "cell_type": "markdown",
   "id": "b464f0e9-c287-466b-acb9-4d8bbda9785c",
   "metadata": {},
   "source": [
    "https://www.ireasoning.com/mibbrowser.shtml"
   ]
  },
  {
   "cell_type": "markdown",
   "id": "06da71fb-847a-4000-a6e4-c85eb9f849de",
   "metadata": {},
   "source": [
    "#### Ejercicio: Instalar un agente SNMP en Windows\n",
    "- En Windows instalar SNMP y activarlo con PowerShell como administrador"
   ]
  },
  {
   "cell_type": "raw",
   "id": "f53bc12d-185b-4fe1-b0fc-6e66b1081b1c",
   "metadata": {},
   "source": [
    "Get-WindowsCapability  -Online -Name SNMP*\n",
    "Get-WindowsCapability -name SNMP* -online | Add-WindowsCapability -Online"
   ]
  },
  {
   "cell_type": "markdown",
   "id": "322218dd-73aa-41e5-82eb-254040e290f0",
   "metadata": {},
   "source": [
    "Configuración básica:"
   ]
  },
  {
   "cell_type": "markdown",
   "id": "1671126d-df57-4029-88e2-1ce34d7babb8",
   "metadata": {},
   "source": [
    "Set-ItemProperty -Path \"HKLM:\\SYSTEM\\CurrentControlSet\\services\\SNMP\\Parameters\\RFC1156Agent\" -Name \"sysContact\" -Value \"Nombre\" -type String\n",
    "\n",
    "Set-ItemProperty -Path \"HKLM:\\SYSTEM\\CurrentControlSet\\services\\SNMP\\Parameters\\RFC1156Agent\" -Name \"sysLocation\" -Value \"UCA\" -type String\n",
    "\n",
    "Set-ItemProperty -Path \"HKLM:\\SYSTEM\\CurrentControlSet\\Services\\SNMP\\Parameters\\ValidCommunities\" -Name \"COMUNIDAD_PDI\" -Value 8 -type DWord\n",
    "\n",
    "Set-ItemProperty -Path \"HKLM:\\SYSTEM\\CurrentControlSet\\Services\\SNMP\\Parameters\\PermittedManagers\" -Name \"1\" -Value \"localhost\" -type String\n",
    "\n",
    "Set-ItemProperty -Path \"HKLM:\\SYSTEM\\CurrentControlSet\\Services\\SNMP\\Parameters\\PermittedManagers\" -Name \"2\" -Value \"192.168.1.78\" -type String\n",
    "\n",
    "Restart-Service -Name SNMP\n"
   ]
  },
  {
   "cell_type": "markdown",
   "id": "5e4cff6c-09a0-4e86-8ca5-b2ca72db4284",
   "metadata": {},
   "source": [
    "Mofidicar la configuración del MIB Browser\n",
    "\n",
    "En address agregar \"localhost\"\n",
    "\n",
    "![image](https://github.com/jaouret/PDI_2024-TP1-TP2-TP3-TP4/assets/111520053/ad5e4c2c-04a2-4dc2-830c-57262cdfb967)\n",
    "\n",
    "\n",
    "En advanced en los campos read community y write community agregar COMUNIDAD_PDI. Y la version 2\n",
    "![image](https://github.com/jaouret/PDI_2024-TP1-TP2-TP3-TP4/assets/111520053/36b36bb8-9f46-438b-87fd-944f64ab80c7)"
   ]
  },
  {
   "cell_type": "markdown",
   "id": "04471a98-f585-40d4-bd1b-7b770f5cb4a0",
   "metadata": {},
   "source": [
    "#### Ejercicio: Instalar un agente SNMP en Linux"
   ]
  },
  {
   "cell_type": "raw",
   "id": "5552e3e1-c728-4f0a-83d5-fa7bd8f9df34",
   "metadata": {},
   "source": [
    "sudo apt-get install snmpd.\n",
    "\n",
    "# Seguramente requiera net-tools previamente instalado\n",
    "\n",
    "sudo nano /etc/snmp/snmpd.conf\n",
    "\n",
    "# Configurar agentAddress para escuchar en IPv4 e IPv6: \n",
    "\n",
    "agentAddress udp:161,udp6:[::1]:161agentAddress udp:192.168.1.5:161\n",
    "rocommunity public\n",
    "sudo service snmpd restart\n",
    "sudo service snmpd status"
   ]
  },
  {
   "cell_type": "markdown",
   "id": "65150c40-3c74-4714-8b1a-52ced93579ad",
   "metadata": {},
   "source": [
    "Ejecutar el MIB Browser sobre Windows o Linux.   \n",
    "Describir lo que se observa en un informe."
   ]
  },
  {
   "cell_type": "markdown",
   "id": "30335631-bb23-4c3c-96a4-e35904824d9f",
   "metadata": {},
   "source": [
    "#### Pequeña aplicacion web flask para consultar parametros con snmp como sysuptime, etc.\n",
    "Permite consultar parámetros SNMP como sysUptime, sysDescr, etc., usando pysnmp."
   ]
  },
  {
   "cell_type": "raw",
   "id": "c4a880c7-f8eb-4b29-8b93-994f6fd28578",
   "metadata": {},
   "source": [
    "# Dependencias\n",
    "pip install flask pysnmp"
   ]
  },
  {
   "cell_type": "markdown",
   "id": "8a5333a3-3507-4756-93d6-8eae51d7ce07",
   "metadata": {},
   "source": [
    "Código de la app Flask (snmp_web.py)"
   ]
  },
  {
   "cell_type": "code",
   "execution_count": 4,
   "id": "0059fd54-fc36-483a-952a-481cfb654864",
   "metadata": {},
   "outputs": [
    {
     "ename": "ModuleNotFoundError",
     "evalue": "No module named 'flask'",
     "output_type": "error",
     "traceback": [
      "\u001b[0;31m---------------------------------------------------------------------------\u001b[0m",
      "\u001b[0;31mModuleNotFoundError\u001b[0m                       Traceback (most recent call last)",
      "Cell \u001b[0;32mIn[4], line 2\u001b[0m\n\u001b[1;32m      1\u001b[0m \u001b[38;5;66;03m# snmp_web.py\u001b[39;00m\n\u001b[0;32m----> 2\u001b[0m \u001b[38;5;28;01mfrom\u001b[39;00m\u001b[38;5;250m \u001b[39m\u001b[38;5;21;01mflask\u001b[39;00m\u001b[38;5;250m \u001b[39m\u001b[38;5;28;01mimport\u001b[39;00m Flask, render_template, request\n\u001b[1;32m      3\u001b[0m \u001b[38;5;28;01mfrom\u001b[39;00m\u001b[38;5;250m \u001b[39m\u001b[38;5;21;01mpysnmp\u001b[39;00m\u001b[38;5;21;01m.\u001b[39;00m\u001b[38;5;21;01mhlapi\u001b[39;00m\u001b[38;5;250m \u001b[39m\u001b[38;5;28;01mimport\u001b[39;00m \u001b[38;5;241m*\u001b[39m\n\u001b[1;32m      5\u001b[0m app \u001b[38;5;241m=\u001b[39m Flask(\u001b[38;5;18m__name__\u001b[39m)\n",
      "\u001b[0;31mModuleNotFoundError\u001b[0m: No module named 'flask'"
     ]
    }
   ],
   "source": [
    "# snmp_web.py\n",
    "from flask import Flask, render_template, request\n",
    "from pysnmp.hlapi import *\n",
    "\n",
    "app = Flask(__name__)\n",
    "\n",
    "# Diccionario de OIDs comunes\n",
    "OIDS = {\n",
    "    'sysDescr': '1.3.6.1.2.1.1.1.0',\n",
    "    'sysUptime': '1.3.6.1.2.1.1.3.0',\n",
    "    'sysName': '1.3.6.1.2.1.1.5.0',\n",
    "    'sysLocation': '1.3.6.1.2.1.1.6.0'\n",
    "}\n",
    "\n",
    "def snmp_get(ip, community, oid):\n",
    "    iterator = getCmd(\n",
    "        SnmpEngine(),\n",
    "        CommunityData(community, mpModel=0),\n",
    "        UdpTransportTarget((ip, 161)),\n",
    "        ContextData(),\n",
    "        ObjectType(ObjectIdentity(oid))\n",
    "    )\n",
    "\n",
    "    errorIndication, errorStatus, errorIndex, varBinds = next(iterator)\n",
    "\n",
    "    if errorIndication:\n",
    "        return f\"Error: {errorIndication}\"\n",
    "    elif errorStatus:\n",
    "        return f\"Error: {errorStatus.prettyPrint()}\"\n",
    "    else:\n",
    "        for varBind in varBinds:\n",
    "            return str(varBind[1])\n",
    "\n",
    "@app.route('/', methods=['GET', 'POST'])\n",
    "def index():\n",
    "    result = {}\n",
    "    if request.method == 'POST':\n",
    "        ip = request.form['ip']\n",
    "        community = request.form['community']\n",
    "        for name, oid in OIDS.items():\n",
    "            value = snmp_get(ip, community, oid)\n",
    "            result[name] = value\n",
    "    return render_template('index.html', result=result)\n",
    "\n",
    "if __name__ == '__main__':\n",
    "    app.run(debug=True)\n"
   ]
  },
  {
   "cell_type": "markdown",
   "id": "719c859a-1b25-4f52-82b0-62fc72868626",
   "metadata": {},
   "source": [
    "Plantilla HTML (templates/index.html)"
   ]
  },
  {
   "cell_type": "raw",
   "id": "0b3fb1ee-9ae7-4956-8ba6-92cb73eea466",
   "metadata": {},
   "source": [
    "<!DOCTYPE html>\n",
    "<html>\n",
    "<head>\n",
    "    <title>SNMP Web Monitor</title>\n",
    "</head>\n",
    "<body>\n",
    "    <h2>Consulta SNMP</h2>\n",
    "    <form method=\"post\">\n",
    "        <label>IP del dispositivo:</label>\n",
    "        <input type=\"text\" name=\"ip\" placeholder=\"127.0.0.1\" required><br>\n",
    "        <label>Comunidad:</label>\n",
    "        <input type=\"text\" name=\"community\" value=\"public\" required><br>\n",
    "        <button type=\"submit\">Consultar</button>\n",
    "    </form>\n",
    "\n",
    "    {% if result %}\n",
    "        <h3>Resultados:</h3>\n",
    "        <ul>\n",
    "        {% for key, value in result.items() %}\n",
    "            <li><strong>{{ key }}:</strong> {{ value }}</li>\n",
    "        {% endfor %}\n",
    "        </ul>\n",
    "    {% endif %}\n",
    "</body>\n",
    "</html>\n"
   ]
  },
  {
   "cell_type": "raw",
   "id": "3c4802ea-d9d7-452b-91ba-7459333e2cb7",
   "metadata": {},
   "source": [
    "# Ejecutar\n",
    "python snmp_web.py\n",
    "http://localhost:5000"
   ]
  },
  {
   "cell_type": "markdown",
   "id": "fb90aa8c-e760-41c8-b75c-518461a160fc",
   "metadata": {},
   "source": [
    "##### Ampliamos la app Flask para mostrar más parámetros SNMP comunes"
   ]
  },
  {
   "cell_type": "markdown",
   "id": "6b77413c-ade8-4333-96ea-7b7aea7a9311",
   "metadata": {},
   "source": [
    "| Nombre           | OID                   | Descripción                              |\n",
    "| ---------------- | --------------------- | ---------------------------------------- |\n",
    "| `sysDescr`       | 1.3.6.1.2.1.1.1.0     | Descripción del sistema                  |\n",
    "| `sysUptime`      | 1.3.6.1.2.1.1.3.0     | Tiempo en línea desde el último arranque |\n",
    "| `sysName`        | 1.3.6.1.2.1.1.5.0     | Nombre del sistema                       |\n",
    "| `sysLocation`    | 1.3.6.1.2.1.1.6.0     | Ubicación física                         |\n",
    "| `ifNumber`       | 1.3.6.1.2.1.2.1.0     | Número de interfaces                     |\n",
    "| `ifDescr.1`      | 1.3.6.1.2.1.2.2.1.2.1 | Nombre de la interfaz 1                  |\n",
    "| `ifOperStatus.1` | 1.3.6.1.2.1.2.2.1.8.1 | Estado operativo de la interfaz 1        |\n"
   ]
  },
  {
   "cell_type": "markdown",
   "id": "f8616ac3-2c88-4c64-8b97-a7eac3529219",
   "metadata": {},
   "source": [
    "Modifico el diccionario OIDS en snmp_web.py.\n",
    "Se pueden agregar más interfaces duplicando el patrón, cambiando 1 por 2, 3, etc."
   ]
  },
  {
   "cell_type": "code",
   "execution_count": null,
   "id": "c3552bee-4b36-4570-be1a-c3a8b7c35e79",
   "metadata": {},
   "outputs": [],
   "source": [
    "OIDS = {\n",
    "    'sysDescr': '1.3.6.1.2.1.1.1.0',\n",
    "    'sysUptime': '1.3.6.1.2.1.1.3.0',\n",
    "    'sysName': '1.3.6.1.2.1.1.5.0',\n",
    "    'sysLocation': '1.3.6.1.2.1.1.6.0',\n",
    "    'ifNumber': '1.3.6.1.2.1.2.1.0',\n",
    "    'ifDescr_1': '1.3.6.1.2.1.2.2.1.2.1',\n",
    "    'ifOperStatus_1': '1.3.6.1.2.1.2.2.1.8.1'\n",
    "}"
   ]
  },
  {
   "cell_type": "markdown",
   "id": "83b902a4-3ad2-4bc2-b890-b7c5b254ec35",
   "metadata": {},
   "source": [
    "- Convertir valores binarios como ifOperStatus\n",
    "- Traducir estados (por ejemplo 1 = up, 2 = down) en la función snmp_get()"
   ]
  },
  {
   "cell_type": "code",
   "execution_count": null,
   "id": "8914864b-bb42-45b8-8a46-57a29a96694c",
   "metadata": {},
   "outputs": [],
   "source": [
    "def snmp_get(ip, community, oid):\n",
    "    iterator = getCmd(\n",
    "        SnmpEngine(),\n",
    "        CommunityData(community, mpModel=0),\n",
    "        UdpTransportTarget((ip, 161)),\n",
    "        ContextData(),\n",
    "        ObjectType(ObjectIdentity(oid))\n",
    "    )\n",
    "\n",
    "    errorIndication, errorStatus, errorIndex, varBinds = next(iterator)\n",
    "\n",
    "    if errorIndication:\n",
    "        return f\"Error: {errorIndication}\"\n",
    "    elif errorStatus:\n",
    "        return f\"Error: {errorStatus.prettyPrint()}\"\n",
    "    else:\n",
    "        for varBind in varBinds:\n",
    "            val = str(varBind[1])\n",
    "            if '2.2.1.8' in oid:  # OperStatus\n",
    "                val = {'1': 'up', '2': 'down', '3': 'testing'}.get(val, val)\n",
    "            return val"
   ]
  },
  {
   "cell_type": "markdown",
   "id": "f648a072-77d0-410c-8760-c57542b77357",
   "metadata": {},
   "source": [
    "##### Se crea una nueva MIB para ejemplificar la estructura.\n",
    "Una MIB es un archivo de texto que define objetos SNMP estructurados jerárquicamente. Se puede crear un módulo OIDs propios, por ejemplo para simular sensores, dispositivos, etc.  \n",
    "Una MIB (Management Information Base) es un archivo que define objetos que pueden ser gestionados en un dispositivo mediante el protocolo SNMP (Simple Network Management Protocol). Las MIBs permiten a las herramientas de monitoreo (como Zabbix, Nagios, PRTG, etc.) entender qué datos puede consultar o controlar en un dispositivo de red (como un router, switch, servidor, etc.).   \n",
    "Es un archivo de texto escrito en un lenguaje formal basado en ASN.1 (Abstract Syntax Notation One). \n",
    "Este lenguaje define:\n",
    "- Objetos gestionables\n",
    "- Nombres simbólicos\n",
    "- Tipos de datos\n",
    "- Ubicaciones dentro de una jerarquía de objetos (OID)\n",
    "\n",
    "**Encabezado del módulo**   \n",
    "Define el nombre del módulo y sus dependencias.\n",
    "```json\n",
    "MY-MIB DEFINITIONS ::= BEGIN\n",
    "\n",
    "IMPORTS\n",
    "    MODULE-IDENTITY, OBJECT-TYPE, Integer32\n",
    "        FROM SNMPv2-SMI\n",
    "    TEXTUAL-CONVENTION\n",
    "        FROM SNMPv2-TC;\n",
    "```\n",
    "**Identidad del módulo (MODULE-IDENTITY)**\n",
    "Define quién creó la MIB y otra información administrativa.\n",
    "```json\n",
    "myMIB MODULE-IDENTITY\n",
    "    LAST-UPDATED \"202405190000Z\"\n",
    "    ORGANIZATION \"Mi Empresa\"\n",
    "    CONTACT-INFO \"soporte@miempresa.com\"\n",
    "    DESCRIPTION \"MIB personalizada para sensores de invernadero.\"\n",
    "    ::= { enterprises 99999 }\n",
    "```\n",
    "99999 es un OID asignado a la empresa por IANA, o un número privado en pruebas.\n",
    "\n",
    "**Definiciones de objetos (OBJECT-TYPE)**\n",
    "Cada objeto representa una métrica o configuración accesible por SNMP.\n",
    "```json\n",
    "temperaturaSensor OBJECT-TYPE\n",
    "    SYNTAX      Integer32\n",
    "    MAX-ACCESS  read-only\n",
    "    STATUS      current\n",
    "    DESCRIPTION \"Temperatura medida por el sensor en grados Celsius.\"\n",
    "    ::= { myMIB 1 }\n",
    "\n",
    "```\n",
    "- SYNTAX: tipo de dato (Integer32, OCTET STRING, etc.)\n",
    "- MAX-ACCESS: read-only, read-write, not-accessible\n",
    "- STATUS: current, deprecated, obsolete\n",
    "- ::= { myMIB 1 }: asigna un OID relativo al módulo\n",
    "\n",
    "**Jerarquía de OIDs (Object Identifiers)**\n",
    "Los OIDs son rutas jerárquicas, como direcciones, que identifican objetos.\n",
    "```text\n",
    "1.3.6.1.4.1.99999.1\n",
    "│ │ │ │ │ └──── Empresa privada (enterprise ID asignado por IANA)\n",
    "│ │ │ │ └────── Internet privado\n",
    "│ │ │ └──────── MIB-II\n",
    "│ │ └────────── ISO Identificado por SNMP\n",
    "│ └──────────── Organización internacional\n",
    "└────────────── ISO\n",
    "```\n",
    "  \n",
    "**Estructura mínima de una MIB**"
   ]
  },
  {
   "cell_type": "markdown",
   "id": "2031562d-0dec-4e8a-b014-b29b71bc5062",
   "metadata": {},
   "source": [
    "```json\n",
    "MY-DEMO-MIB DEFINITIONS ::= BEGIN\n",
    "\n",
    "IMPORTS\n",
    "    MODULE-IDENTITY, OBJECT-TYPE, enterprises FROM SNMPv2-SMI;\n",
    "\n",
    "myDemoMIB MODULE-IDENTITY\n",
    "    LAST-UPDATED \"202505120000Z\"\n",
    "    ORGANIZATION \"Nombre o Institución\"\n",
    "    CONTACT-INFO \"un.email@dominio.com\"\n",
    "    DESCRIPTION \"MIB de ejemplo.\"\n",
    "    ::= { enterprises 99999 }\n",
    "\n",
    "-- Definimos un nodo llamado demoText\n",
    "\n",
    "demoText OBJECT-TYPE\n",
    "    SYNTAX      OCTET STRING\n",
    "    MAX-ACCESS  read-write\n",
    "    STATUS      current\n",
    "    DESCRIPTION \"Texto de prueba\"\n",
    "    ::= { myDemoMIB 1 }\n",
    "\n",
    "END\n",
    "```"
   ]
  },
  {
   "cell_type": "markdown",
   "id": "1b365352-9f14-4f76-b045-49d2e92fae13",
   "metadata": {},
   "source": [
    "```json\n",
    "MY-SENSOR-MIB DEFINITIONS ::= BEGIN\n",
    "\n",
    "IMPORTS\n",
    "    MODULE-IDENTITY, OBJECT-TYPE, Integer32\n",
    "        FROM SNMPv2-SMI;\n",
    "\n",
    "mySensorMIB MODULE-IDENTITY\n",
    "    LAST-UPDATED \"202405190000Z\"\n",
    "    ORGANIZATION \"Mi Empresa\"\n",
    "    DESCRIPTION \"MIB personalizada para sensores de temperatura.\"\n",
    "    ::= { enterprises 99999 }\n",
    "\n",
    "temperatura OBJECT-TYPE\n",
    "    SYNTAX      Integer32\n",
    "    MAX-ACCESS  read-only\n",
    "    STATUS      current\n",
    "    DESCRIPTION \"Temperatura en grados Celsius.\"\n",
    "    ::= { mySensorMIB 1 }\n",
    "\n",
    "humedad OBJECT-TYPE\n",
    "    SYNTAX      Integer32\n",
    "    MAX-ACCESS  read-only\n",
    "    STATUS      current\n",
    "    DESCRIPTION \"Humedad relativa en porcentaje.\"\n",
    "    ::= { mySensorMIB 2 }\n",
    "\n",
    "END\n",
    "```"
   ]
  },
  {
   "cell_type": "raw",
   "id": "3c944183-1a7a-4f65-8a07-6bc45df21ebf",
   "metadata": {},
   "source": [
    "# Instalar herramientas necesarias\n",
    "\n",
    "sudo apt install snmp snmpd snmp-mibs-downloader\n",
    "\n",
    "# Copiar la MIB a la carpeta estándar\n",
    "\n",
    "sudo cp MY-DEMO-MIB.txt /usr/share/snmp/mibs/\n",
    "\n",
    "# habilitar su carga:\n",
    "\n",
    "sudo nano /etc/snmp/snmp.conf\n",
    "\n",
    "# Comentar la línea:\n",
    "\n",
    "mibs :\n",
    "\n",
    "# Esto hará que SNMP lea todas las MIBs disponibles.\n",
    "\n",
    "# Simular la MIB usando snmpsimd (opcional pero muy útil)\n",
    "\n",
    "pip install snmpsim\n",
    "\n",
    "#Crear un archivo de simulación con la OID:\n",
    "\n",
    "snmpsim-mib2dev --mib-module=MY-DEMO-MIB\n",
    "snmpsim-command-responder --data-dir=./data\n",
    "\n",
    "# Consultar la MIB\n",
    "\n",
    "snmpget -v2c -c public localhost MY-DEMO-MIB::demoText\n",
    "\n",
    "# o usando Python y pysnmp con el nuevo OID:\n",
    "\n",
    "ObjectType(ObjectIdentity('MY-DEMO-MIB', 'demoText'))\n",
    "\n"
   ]
  },
  {
   "cell_type": "markdown",
   "id": "9f42ace3-72ab-40b0-bcfa-9972e6c36a8e",
   "metadata": {},
   "source": [
    "#### MIB para un sistema IoT simulado, con sensores de temperatura, humedad y un relé de riego,  con soporte de lectura y escritura para pruebas con SNMP."
   ]
  },
  {
   "cell_type": "markdown",
   "id": "8d8e738e-a439-44c8-91e1-a35289f19b67",
   "metadata": {},
   "source": [
    "MIB: IOT-DEMO-MIB.txt   \n",
    "Guardar este archivo:"
   ]
  },
  {
   "cell_type": "markdown",
   "id": "eb45e324-e1fa-4227-886c-e3a877998978",
   "metadata": {},
   "source": [
    "```json\n",
    "IOT-DEMO-MIB DEFINITIONS ::= BEGIN\n",
    "\n",
    "IMPORTS\n",
    "    MODULE-IDENTITY, OBJECT-TYPE, Integer32, enterprises FROM SNMPv2-SMI;\n",
    "\n",
    "iotDemoMIB MODULE-IDENTITY\n",
    "    LAST-UPDATED \"202505120000Z\"\n",
    "    ORGANIZATION \"Demo SNMP IoT\"\n",
    "    CONTACT-INFO \"iot@educacion.demo\"\n",
    "    DESCRIPTION \"MIB educativa que simula sensores IoT en un invernadero\"\n",
    "    ::= { enterprises 55555 }  -- Puedes cambiar por tu PEN si lo tienes\n",
    "\n",
    "-- Nodo principal\n",
    "iotDevices       OBJECT IDENTIFIER ::= { iotDemoMIB 1 }\n",
    "\n",
    "-- Sensor de temperatura (en °C)\n",
    "temperature OBJECT-TYPE\n",
    "    SYNTAX      Integer32\n",
    "    MAX-ACCESS  read-only\n",
    "    STATUS      current\n",
    "    DESCRIPTION \"Sensor de temperatura en grados Celsius\"\n",
    "    ::= { iotDevices 1 }\n",
    "\n",
    "-- Sensor de humedad (%)\n",
    "humidity OBJECT-TYPE\n",
    "    SYNTAX      Integer32\n",
    "    MAX-ACCESS  read-only\n",
    "    STATUS      current\n",
    "    DESCRIPTION \"Sensor de humedad relativa en porcentaje\"\n",
    "    ::= { iotDevices 2 }\n",
    "\n",
    "-- Relay de riego (0 = off, 1 = on)\n",
    "irrigationRelay OBJECT-TYPE\n",
    "    SYNTAX      Integer32\n",
    "    MAX-ACCESS  read-write\n",
    "    STATUS      current\n",
    "    DESCRIPTION \"Estado del relé de riego: 0=OFF, 1=ON\"\n",
    "    ::= { iotDevices 3 }\n",
    "\n",
    "END\n",
    "```"
   ]
  },
  {
   "cell_type": "raw",
   "id": "33515eb7-2a8b-4751-83a4-65e5fb58aef0",
   "metadata": {},
   "source": [
    "# Instalar y cargar la MIB**  \n",
    "sudo cp IOT-DEMO-MIB.txt /usr/share/snmp/mibs/\n",
    "\n",
    "# Asegurar que snmp.conf permite leer todas las MIBs:\n",
    "sudo nano /etc/snmp/snmp.conf\n",
    "\n",
    "# Comentar la línea que dice \"mibs :\"\n",
    "\n",
    "# Simular el dispositivo SNMP (con valores reales o fijos)\n",
    "# Usar snmpsimd para simular el equipo con valores fijos:\n",
    "pip install snmpsim\n",
    "\n",
    "# Crear el archivo de datos:\n",
    "\n",
    "mkdir -p ~/snmpdata\n",
    "cat > ~/snmpdata/iotdemo.snmprec <<EOF\n",
    "1.3.6.1.4.1.55555.1.1|2|22\n",
    "1.3.6.1.4.1.55555.1.2|2|55\n",
    "1.3.6.1.4.1.55555.1.3|2|1\n",
    "EOF\n",
    "\n",
    "# ejecutar el simulador:\n",
    "snmpsim-command-responder --data-dir=~/snmpdata\n",
    "\n",
    "# Prueba con snmpget y nueva MIB\n",
    "\n",
    "snmpget -v2c -c public localhost IOT-DEMO-MIB::temperature\n",
    "snmpget -v2c -c public localhost IOT-DEMO-MIB::humidity\n",
    "snmpget -v2c -c public localhost IOT-DEMO-MIB::irrigationRelay\n",
    "\n",
    "# Para escribir (solo en objetos read-write como el relay):\n",
    "\n",
    "snmpset -v2c -c public localhost IOT-DEMO-MIB::irrigationRelay i 0"
   ]
  },
  {
   "cell_type": "markdown",
   "id": "a94b4f2f-1a23-4fe1-9b6c-1520f9ec095b",
   "metadata": {},
   "source": [
    "##### Integrar esta MIB en la app Flask y cambiar los valores desde una interfaz web\n",
    "Integrar IOT-DEMO-MIB en una app Flask:\n",
    "- Consultar sensores SNMP (temperatura, humedad)\n",
    "- Activar/desactivar un relay de riego (con snmpset)\n",
    "- Estructura del proyecto\n",
    "```text\n",
    "iot_snmp_app/\n",
    "├── app.py\n",
    "├── templates/\n",
    "│   └── index.html\n",
    "├── static/\n",
    "│   └── style.css (opcional)\n",
    "└── IOT-DEMO-MIB.txt\n",
    "```"
   ]
  },
  {
   "cell_type": "code",
   "execution_count": null,
   "id": "91b12aad-d233-4b1d-a9c2-9fd20509d0a8",
   "metadata": {},
   "outputs": [],
   "source": [
    "# app.py (Flask + pysnmp)\n",
    "from flask import Flask, render_template, request, redirect, url_for\n",
    "from pysnmp.hlapi import *\n",
    "\n",
    "app = Flask(__name__)\n",
    "\n",
    "TARGET = 'localhost'  # O IP de tu dispositivo SNMP\n",
    "COMMUNITY = 'public'\n",
    "MIB_MODULE = 'IOT-DEMO-MIB'\n",
    "\n",
    "OIDS = {\n",
    "    'temperature': ('IOT-DEMO-MIB', 'temperature'),\n",
    "    'humidity': ('IOT-DEMO-MIB', 'humidity'),\n",
    "    'irrigationRelay': ('IOT-DEMO-MIB', 'irrigationRelay')\n",
    "}\n",
    "\n",
    "def snmp_get(name):\n",
    "    oid = ObjectIdentity(*OIDS[name]).addMibSource('/usr/share/snmp/mibs')\n",
    "    iterator = getCmd(\n",
    "        SnmpEngine(),\n",
    "        CommunityData(COMMUNITY),\n",
    "        UdpTransportTarget((TARGET, 161)),\n",
    "        ContextData(),\n",
    "        ObjectType(oid)\n",
    "    )\n",
    "    errorIndication, errorStatus, _, varBinds = next(iterator)\n",
    "    if errorIndication or errorStatus:\n",
    "        return \"Error\"\n",
    "    return str(varBinds[0][1])\n",
    "\n",
    "def snmp_set(name, value):\n",
    "    oid = ObjectIdentity(*OIDS[name]).addMibSource('/usr/share/snmp/mibs')\n",
    "    iterator = setCmd(\n",
    "        SnmpEngine(),\n",
    "        CommunityData(COMMUNITY),\n",
    "        UdpTransportTarget((TARGET, 161)),\n",
    "        ContextData(),\n",
    "        ObjectType(oid, Integer(int(value)))\n",
    "    )\n",
    "    errorIndication, errorStatus, _, varBinds = next(iterator)\n",
    "    if errorIndication or errorStatus:\n",
    "        return \"Error\"\n",
    "    return str(varBinds[0][1])\n",
    "\n",
    "@app.route('/', methods=['GET', 'POST'])\n",
    "def index():\n",
    "    if request.method == 'POST':\n",
    "        estado = request.form.get('relay')\n",
    "        snmp_set('irrigationRelay', estado)\n",
    "        return redirect(url_for('index'))\n",
    "\n",
    "    temperature = snmp_get('temperature')\n",
    "    humidity = snmp_get('humidity')\n",
    "    relay = snmp_get('irrigationRelay')\n",
    "\n",
    "    return render_template('index.html', temp=temperature, hum=humidity, relay=relay)\n",
    "\n",
    "if __name__ == '__main__':\n",
    "    app.run(debug=True)\n"
   ]
  },
  {
   "cell_type": "markdown",
   "id": "43ab934d-00a8-4317-bd75-43f7094be8d3",
   "metadata": {},
   "source": [
    "HTML: templates/index.html"
   ]
  },
  {
   "cell_type": "markdown",
   "id": "135119ad-e278-4c18-9527-ff40189897c5",
   "metadata": {},
   "source": [
    "```html\n",
    "<!DOCTYPE html>\n",
    "<html>\n",
    "<head>\n",
    "    <title>SNMP IoT Dashboard</title>\n",
    "</head>\n",
    "<body>\n",
    "    <h1>Estado del Invernadero (SNMP)</h1>\n",
    "    <p><strong>Temperatura:</strong> {{ temp }} °C</p>\n",
    "    <p><strong>Humedad:</strong> {{ hum }} %</p>\n",
    "    <p><strong>Riego:</strong> {% if relay == '1' %}ACTIVO{% else %}INACTIVO{% endif %}</p>\n",
    "\n",
    "    <form method=\"post\">\n",
    "        <label for=\"relay\">Cambiar estado de riego:</label>\n",
    "        <select name=\"relay\">\n",
    "            <option value=\"1\" {% if relay == '1' %}selected{% endif %}>Activar</option>\n",
    "            <option value=\"0\" {% if relay == '0' %}selected{% endif %}>Desactivar</option>\n",
    "        </select>\n",
    "        <button type=\"submit\">Aplicar</button>\n",
    "    </form>\n",
    "</body>\n",
    "</html>\n",
    "```"
   ]
  },
  {
   "cell_type": "raw",
   "id": "21ab2680-fcf5-4761-94fb-7e1bfce0df5c",
   "metadata": {},
   "source": [
    "# Ejecutar\n",
    "# Asegurar que el simulador SNMP está corriendo:\n",
    "snmpsim-command-responder --data-dir=~/snmpdata\n",
    "# Ejecutar la app Flask:\n",
    "python3 app.py"
   ]
  },
  {
   "cell_type": "markdown",
   "id": "4d11d02d-6c82-414f-b1e7-fe7ea1ffd1bd",
   "metadata": {},
   "source": [
    "##### Crear o extender una mib para que SNMP pueda ver el espacio libre en un disco bajo ubuntu\n"
   ]
  },
  {
   "cell_type": "markdown",
   "id": "a8d0baff-c2b9-4007-ad6d-ab6703a6644d",
   "metadata": {},
   "source": [
    "**Usamos MIB estándar HOST-RESOURCES-MIB (más fácil y portable)**\n",
    "\n",
    "- MIB que reporta uso de disco y memoria: HOST-RESOURCES-MIB.\n",
    "- Instalar y configura snmpd en Ubuntu:\n",
    "```text\n",
    "sudo apt update\n",
    "sudo apt install snmpd\n",
    "sudo nano /etc/snmp/snmpd.conf\n",
    "rocommunity public 127.0.0.1\n",
    "agentAddress udp:161\n",
    "\n",
    "# Activar el soporte para HOST-RESOURCES-MIB:\n",
    "sudo systemctl restart snmpd\n",
    "# Prueba\n",
    "snmpwalk -v2c -c public localhost HOST-RESOURCES-MIB::hrStorageDescr\n",
    "# mostrará entradas como:\n",
    "HOST-RESOURCES-MIB::hrStorageDescr.31 = STRING: /home\n",
    "\n",
    "# Buscar la partición deseada (/, /home, etc.) y consultar:\n",
    "\n",
    "snmpwalk -v2c -c public localhost HOST-RESOURCES-MIB::hrStorageUsed.31\n",
    "snmpwalk -v2c -c public localhost HOST-RESOURCES-MIB::hrStorageSize.31\n",
    "# Con esos dos datos se puede calcular el uso y espacio libre en disco.\n",
    "```"
   ]
  },
  {
   "cell_type": "markdown",
   "id": "c63882d1-4ee1-44ba-9f86-64b5ef4a7bc1",
   "metadata": {},
   "source": [
    "**Crear una MIB personalizada + script para reportar espacio libre**    \n",
    "**Exponer el % de espacio libre en disco / como OID .1.3.6.1.4.1.55556.1.1.0**    \n",
    "- Guardar este archivo como DISK-USAGE-MIB.txt (puede ir en /usr/share/snmp/mibs/):\n",
    "```json\n",
    "DISK-USAGE-MIB DEFINITIONS ::= BEGIN\n",
    "\n",
    "IMPORTS\n",
    "    MODULE-IDENTITY, OBJECT-TYPE, Integer32, enterprises FROM SNMPv2-SMI;\n",
    "\n",
    "diskUsageMIB MODULE-IDENTITY\n",
    "    LAST-UPDATED \"202505170000Z\"\n",
    "    ORGANIZATION \"MIB educativa disco\"\n",
    "    ::= { enterprises 55556 }\n",
    "\n",
    "diskInfo OBJECT IDENTIFIER ::= { diskUsageMIB 1 }\n",
    "\n",
    "diskFreePercent OBJECT-TYPE\n",
    "    SYNTAX      Integer32\n",
    "    MAX-ACCESS  read-only\n",
    "    STATUS      current\n",
    "    DESCRIPTION \"Porcentaje de espacio libre en /\"\n",
    "    ::= { diskInfo 1 }\n",
    "\n",
    "END\n",
    "```\n"
   ]
  },
  {
   "cell_type": "markdown",
   "id": "cdbb82c0-e1fc-40f1-ad57-c2b95a3ca8b5",
   "metadata": {},
   "source": [
    "Creo script: /usr/local/bin/snmp_disk_persist.py"
   ]
  },
  {
   "cell_type": "code",
   "execution_count": null,
   "id": "7ebb5555-dec3-4060-83af-f3d09727b290",
   "metadata": {},
   "outputs": [],
   "source": [
    "#!/usr/bin/env python3\n",
    "import os\n",
    "import sys\n",
    "\n",
    "OID_DISK_FREE = '.1.3.6.1.4.1.55556.1.1.0'\n",
    "\n",
    "def get_disk_free_percent():\n",
    "    statvfs = os.statvfs('/')\n",
    "    total = statvfs.f_blocks * statvfs.f_frsize\n",
    "    free = statvfs.f_bfree * statvfs.f_frsize\n",
    "    percent = int((free / total) * 100)\n",
    "    return percent\n",
    "\n",
    "def main():\n",
    "    print(\"PASS_PERSIST\")\n",
    "    sys.stdout.flush()\n",
    "    \n",
    "    while True:\n",
    "        line = sys.stdin.readline().strip()\n",
    "        if not line:\n",
    "            break\n",
    "\n",
    "        if line == \"PING\":\n",
    "            print(\"PONG\")\n",
    "        elif line == f\"getnext\":\n",
    "            print(f\"{OID_DISK_FREE}\")\n",
    "            print(\"integer\")\n",
    "            print(get_disk_free_percent())\n",
    "        elif line == f\"get {OID_DISK_FREE}\":\n",
    "            print(\"integer\")\n",
    "            print(get_disk_free_percent())\n",
    "        else:\n",
    "            print(\"NONE\")\n",
    "\n",
    "        sys.stdout.flush()\n",
    "\n",
    "if __name__ == \"__main__\":\n",
    "    main()\n"
   ]
  },
  {
   "cell_type": "raw",
   "id": "3edc4e45-8770-4b70-8331-2d75a286cf34",
   "metadata": {},
   "source": [
    "# le doy permisos\n",
    "sudo chmod +x /usr/local/bin/snmp_disk_persist.py\n",
    "# editar /etc/snmp/snmpd.conf\n",
    "pass_persist .1.3.6.1.4.1.55556.1.1 /usr/local/bin/snmp_disk_persist.py\n",
    "# reinicio snmp\n",
    "sudo systemctl restart snmpd\n",
    "# prueba con nombre\n",
    "snmpget -v2c -c public -m +DISK-USAGE-MIB localhost diskFreePercent.0\n",
    "# prueba con OID\n",
    "snmpget -v2c -c public localhost .1.3.6.1.4.1.55556.1.1.0\n",
    "\n",
    "#resultado esperado\n",
    "DISK-USAGE-MIB::diskFreePercent.0 = INTEGER: 76\n",
    "\n"
   ]
  }
 ],
 "metadata": {
  "kernelspec": {
   "display_name": "Python (SNMP)",
   "language": "python",
   "name": "snmp_env"
  },
  "language_info": {
   "codemirror_mode": {
    "name": "ipython",
    "version": 3
   },
   "file_extension": ".py",
   "mimetype": "text/x-python",
   "name": "python",
   "nbconvert_exporter": "python",
   "pygments_lexer": "ipython3",
   "version": "3.10.12"
  }
 },
 "nbformat": 4,
 "nbformat_minor": 5
}
