{
 "cells": [
  {
   "cell_type": "markdown",
   "id": "6e94bc68-df1b-4fdd-8d9d-628fd9c00028",
   "metadata": {},
   "source": [
    "# Trabajo Práctico Nro. 2A. Rev. 2\n",
    "### Ing. Javier Ouret - 2025 - UCA - Facultad de Ingeniería\n",
    "## Monitoreo de dispositivos y software en redes cliente-servidor utilizando SNMP (Entrega 26/05/2025)"
   ]
  },
  {
   "cell_type": "markdown",
   "id": "c8d390ec-7d4f-4ab4-ab5d-897cf88ceacf",
   "metadata": {},
   "source": [
    "### Realizar ejercicios 1, 2, 3 y 4"
   ]
  },
  {
   "cell_type": "markdown",
   "id": "e75af8ef-0fd5-499f-8904-c1d33b0ea26f",
   "metadata": {},
   "source": [
    "### 1 Activar y configurar SNMP en Ubuntu (snmpd)"
   ]
  },
  {
   "cell_type": "markdown",
   "id": "43d401ba-cb6b-4fac-8c5a-8532d5a7210b",
   "metadata": {},
   "source": [
    "**snmpd es un agente SNMP**: software que se ejecuta en un dispositivo gestionado (como un servidor, switch, router, etc.) y que expone información del sistema mediante el protocolo SNMP. Responde a las peticiones del gestor SNMP (Zabbix, Nagios, LibreNMS) enviando datos o aceptando comandos.  "
   ]
  },
  {
   "cell_type": "raw",
   "id": "f5bad7bb-5f86-44c2-b04a-bcd018bd9ad7",
   "metadata": {},
   "source": [
    "sudo apt update\n",
    "sudo apt install snmp snmpd -y"
   ]
  },
  {
   "cell_type": "raw",
   "id": "8fadc17e-c0c0-4c76-95e7-0cf664bd80fa",
   "metadata": {},
   "source": [
    "sudo nano /etc/snmp/snmpd.conf\n",
    "# Permitir consultas desde localhost (para pruebas):\n",
    "# Buscar y reemplazar esta línea:\n",
    "agentAddress  127.0.0.1,[::1]\n",
    "# Con ésta, si se desea escuchar en todas las interfaces:\n",
    "agentAddress udp:161,udp6:[::1]:161\n",
    "# Cambiar la comunidad por defecto (opcional pero recomendado):\n",
    "rocommunity public  default    -V systemonly\n",
    "# Cambiar o agregar una línea como esta para acceso de solo lectura desde localhost:\n",
    "rocommunity public  localhost\n",
    "# Si se quiere habilitar acceso desde otra IP:\n",
    "rocommunity public 192.168.1.0/24\n",
    "# Usar rwcommunity si se requiere permisos de escritura (usando snmpset), pero cuidado con la seguridad.\n",
    "# Reiniciar el servicio SNMP\n",
    "sudo systemctl restart snmpd\n",
    "sudo systemctl status snmpd\n",
    "# Probarlo con:\n",
    "snmpwalk -v2c -c public localhost\n",
    "# Si perefiero ver OID específico\n",
    "snmpget -v2c -c public localhost 1.3.6.1.2.1.1.1.0\n",
    "# Este último comando obtiene la descripción del sistema (sysDescr)."
   ]
  },
  {
   "cell_type": "markdown",
   "id": "6bf6264d-b241-4de2-bb8d-9f10c6ab91db",
   "metadata": {},
   "source": [
    "### 2 Instalar un agente SNMP gratuito con interfaz web en Linux"
   ]
  },
  {
   "cell_type": "markdown",
   "id": "9e7f7657-bb2a-4fc2-bb04-ecb52f1c48b2",
   "metadata": {},
   "source": [
    "##### Herramientas útiles para trabajar con MIBs\n",
    "- snmptranslate: para ver los OID en texto y número.\n",
    "- snmpwalk/snmpget: para consultar datos reales con SNMP.\n",
    "- Cacti/Zabbix/Nagios/PRTG: para integrarlas a sistemas de monitoreo.\n",
    "- MIB Browsers: iReasoning o SNMP MIB Browser de ManageEngine."
   ]
  },
  {
   "cell_type": "markdown",
   "id": "06da71fb-847a-4000-a6e4-c85eb9f849de",
   "metadata": {},
   "source": [
    "##### Hacemos una prueba con Cacti, que es una agente SNMP (CPU, memoria, interfaces) focalizado en gráficas de monitoreo."
   ]
  },
  {
   "cell_type": "markdown",
   "id": "5ac5026a-4a88-4b26-88f6-d1613b1e7725",
   "metadata": {},
   "source": [
    "- Cacti\n",
    "  - \n",
    "  - Más liviano que LibreNMS.\n",
    "- Instalación en Ubuntu:"
   ]
  },
  {
   "cell_type": "raw",
   "id": "ca85cf56-f73c-4d2f-8909-c276885bbc37",
   "metadata": {},
   "source": [
    "sudo apt update\n",
    "sudo apt install apache2 php php-mysql libapache2-mod-php mariadb-server snmp rrdtool cacti -y"
   ]
  },
  {
   "cell_type": "markdown",
   "id": "42e0af8b-33f2-4c7a-b791-3532b6a11415",
   "metadata": {},
   "source": [
    "- Durante la instalación de cacti, el instalador permite configurar la base de datos con dbconfig-common. \n",
    "- Seleccionar \"Sí\" e indicar una contraseña para el usuario de MySQL cacti.\n",
    "- Si no aparece, puedes hacerlo manualmente con:\n",
    "sudo mysql -u root -p"
   ]
  },
  {
   "cell_type": "markdown",
   "id": "0175f802-4647-4331-baa2-24c931bd5a8a",
   "metadata": {},
   "source": [
    "Dentro de mysql hacer lo siguiente:"
   ]
  },
  {
   "cell_type": "markdown",
   "id": "7ca68f7e-5156-4eb8-a37a-d9e80fcd58c1",
   "metadata": {},
   "source": [
    "```sql\n",
    "CREATE DATABASE cacti;\n",
    "GRANT ALL PRIVILEGES ON cacti.* TO 'cactiuser'@'localhost' IDENTIFIED BY 'clave';\n",
    "FLUSH PRIVILEGES;\n",
    "EXIT;\n",
    "```"
   ]
  },
  {
   "cell_type": "markdown",
   "id": "86669f2d-bb9b-466b-9f0d-2b68b5f71023",
   "metadata": {},
   "source": [
    "Importar el esquema"
   ]
  },
  {
   "cell_type": "markdown",
   "id": "0ff43c0b-598f-45d0-a484-f3a402284884",
   "metadata": {},
   "source": [
    "sudo mysql -u root -p cacti < /usr/share/doc/cacti/cacti.sql"
   ]
  },
  {
   "cell_type": "markdown",
   "id": "8ddae4d9-5020-4022-8241-c313d5b95093",
   "metadata": {},
   "source": [
    "Editar el archivo de configuración para incluir usuario y clave"
   ]
  },
  {
   "cell_type": "raw",
   "id": "2cd74d3d-85da-48ac-a791-a0c96a098ce5",
   "metadata": {},
   "source": [
    "$database_username = 'cactiuser';\n",
    "$database_password = 'clave';"
   ]
  },
  {
   "cell_type": "markdown",
   "id": "ec77cada-6351-48f4-a7b1-bc3d40f27c7e",
   "metadata": {},
   "source": [
    "Editar el cron de linux para que actualice los gráficos y que tiene la siguiente línea habilitada (sin #):"
   ]
  },
  {
   "cell_type": "raw",
   "id": "b2983fb6-fa89-4937-88ac-e559cf234adb",
   "metadata": {},
   "source": [
    "sudo nano /etc/cron.d/cacti\n",
    "*/5 * * * * www-data php /usr/share/cacti/site/poller.php > /dev/null 2>&1"
   ]
  },
  {
   "cell_type": "markdown",
   "id": "db743465-eaa1-4182-bffb-2a8f1dc58d44",
   "metadata": {},
   "source": [
    "Editar nuevamente la configuración de snmpd para inidcar rack simulado y contacto. Luego reiniciar snmpd."
   ]
  },
  {
   "cell_type": "raw",
   "id": "f6bcb964-9ec4-4a21-a03f-aed51fb434d7",
   "metadata": {},
   "source": [
    "sudo nano /etc/snmp/snmpd.conf"
   ]
  },
  {
   "cell_type": "raw",
   "id": "72dc2962-3df1-491a-9ca9-c959518debbb",
   "metadata": {},
   "source": [
    "agentAddress udp:161,udp6:[::1]:161\n",
    "rocommunity public 127.0.0.1\n",
    "sysLocation    Rack1\n",
    "sysContact     admin@empresa.com"
   ]
  },
  {
   "cell_type": "raw",
   "id": "7e28d43f-d629-45be-aa72-c9ed350003c0",
   "metadata": {},
   "source": [
    "sudo systemctl restart snmpd"
   ]
  },
  {
   "cell_type": "markdown",
   "id": "aae0b2ea-b159-453f-9349-1b9b4d52115b",
   "metadata": {},
   "source": [
    "Probar si anda snmpp"
   ]
  },
  {
   "cell_type": "code",
   "execution_count": 12,
   "id": "428b2bb0-9886-47ca-a152-891ecb794dca",
   "metadata": {},
   "outputs": [
    {
     "name": "stdout",
     "output_type": "stream",
     "text": [
      "iso.3.6.1.2.1.1.1.0 = STRING: \"Linux javier-Yoga-7-16ARP8 6.8.0-59-generic #61~22.04.1-Ubuntu SMP PREEMPT_DYNAMIC Tue Apr 15 17:03:15 UTC 2 x86_64\"\n",
      "iso.3.6.1.2.1.1.2.0 = OID: iso.3.6.1.4.1.8072.3.2.10\n",
      "iso.3.6.1.2.1.1.3.0 = Timeticks: (3087956) 8:34:39.56\n",
      "iso.3.6.1.2.1.1.4.0 = STRING: \"Me <me@example.org>\"\n",
      "iso.3.6.1.2.1.1.5.0 = STRING: \"javier-Yoga-7-16ARP8\"\n",
      "iso.3.6.1.2.1.1.6.0 = STRING: \"Sitting on the Dock of the Bay\"\n",
      "iso.3.6.1.2.1.1.7.0 = INTEGER: 72\n",
      "iso.3.6.1.2.1.1.8.0 = Timeticks: (0) 0:00:00.00\n",
      "iso.3.6.1.2.1.1.9.1.2.1 = OID: iso.3.6.1.6.3.10.3.1.1\n",
      "iso.3.6.1.2.1.1.9.1.2.2 = OID: iso.3.6.1.6.3.11.3.1.1\n",
      "iso.3.6.1.2.1.1.9.1.2.3 = OID: iso.3.6.1.6.3.15.2.1.1\n",
      "iso.3.6.1.2.1.1.9.1.2.4 = OID: iso.3.6.1.6.3.1\n",
      "iso.3.6.1.2.1.1.9.1.2.5 = OID: iso.3.6.1.6.3.16.2.2.1\n",
      "iso.3.6.1.2.1.1.9.1.2.6 = OID: iso.3.6.1.2.1.49\n",
      "iso.3.6.1.2.1.1.9.1.2.7 = OID: iso.3.6.1.2.1.50\n",
      "iso.3.6.1.2.1.1.9.1.2.8 = OID: iso.3.6.1.2.1.4\n",
      "iso.3.6.1.2.1.1.9.1.2.9 = OID: iso.3.6.1.6.3.13.3.1.3\n",
      "iso.3.6.1.2.1.1.9.1.2.10 = OID: iso.3.6.1.2.1.92\n",
      "iso.3.6.1.2.1.1.9.1.3.1 = STRING: \"The SNMP Management Architecture MIB.\"\n",
      "iso.3.6.1.2.1.1.9.1.3.2 = STRING: \"The MIB for Message Processing and Dispatching.\"\n",
      "iso.3.6.1.2.1.1.9.1.3.3 = STRING: \"The management information definitions for the SNMP User-based Security Model.\"\n",
      "iso.3.6.1.2.1.1.9.1.3.4 = STRING: \"The MIB module for SNMPv2 entities\"\n",
      "iso.3.6.1.2.1.1.9.1.3.5 = STRING: \"View-based Access Control Model for SNMP.\"\n",
      "iso.3.6.1.2.1.1.9.1.3.6 = STRING: \"The MIB module for managing TCP implementations\"\n",
      "iso.3.6.1.2.1.1.9.1.3.7 = STRING: \"The MIB module for managing UDP implementations\"\n",
      "iso.3.6.1.2.1.1.9.1.3.8 = STRING: \"The MIB module for managing IP and ICMP implementations\"\n",
      "iso.3.6.1.2.1.1.9.1.3.9 = STRING: \"The MIB modules for managing SNMP Notification, plus filtering.\"\n",
      "iso.3.6.1.2.1.1.9.1.3.10 = STRING: \"The MIB module for logging SNMP Notifications.\"\n",
      "iso.3.6.1.2.1.1.9.1.4.1 = Timeticks: (0) 0:00:00.00\n",
      "iso.3.6.1.2.1.1.9.1.4.2 = Timeticks: (0) 0:00:00.00\n",
      "iso.3.6.1.2.1.1.9.1.4.3 = Timeticks: (0) 0:00:00.00\n",
      "iso.3.6.1.2.1.1.9.1.4.4 = Timeticks: (0) 0:00:00.00\n",
      "iso.3.6.1.2.1.1.9.1.4.5 = Timeticks: (0) 0:00:00.00\n",
      "iso.3.6.1.2.1.1.9.1.4.6 = Timeticks: (0) 0:00:00.00\n",
      "iso.3.6.1.2.1.1.9.1.4.7 = Timeticks: (0) 0:00:00.00\n",
      "iso.3.6.1.2.1.1.9.1.4.8 = Timeticks: (0) 0:00:00.00\n",
      "iso.3.6.1.2.1.1.9.1.4.9 = Timeticks: (0) 0:00:00.00\n",
      "iso.3.6.1.2.1.1.9.1.4.10 = Timeticks: (0) 0:00:00.00\n",
      "iso.3.6.1.2.1.25.1.1.0 = Timeticks: (6304823) 17:30:48.23\n",
      "iso.3.6.1.2.1.25.1.2.0 = Hex-STRING: 07 E9 05 15 09 1A 12 00 2D 03 00 \n",
      "iso.3.6.1.2.1.25.1.3.0 = INTEGER: 393216\n",
      "iso.3.6.1.2.1.25.1.4.0 = STRING: \"BOOT_IMAGE=/boot/vmlinuz-6.8.0-59-generic root=UUID=78404846-ad0a-4cb9-8801-6751dafd801f ro quiet splash vt.handoff=7\n",
      "\"\n",
      "iso.3.6.1.2.1.25.1.5.0 = Gauge32: 1\n",
      "iso.3.6.1.2.1.25.1.6.0 = Gauge32: 393\n",
      "iso.3.6.1.2.1.25.1.7.0 = INTEGER: 0\n",
      "iso.3.6.1.2.1.25.1.7.0 = No more variables left in this MIB View (It is past the end of the MIB tree)\n"
     ]
    }
   ],
   "source": [
    "!snmpwalk -v2c -c public localhost"
   ]
  },
  {
   "cell_type": "markdown",
   "id": "2eb63251-5871-4d3f-90fc-a7e0cad2dc9d",
   "metadata": {},
   "source": [
    "#### Acceder a: http://localhost/cacti\n",
    "Tener snmpd activo en el servidor Ubuntu a monitorear."
   ]
  },
  {
   "cell_type": "markdown",
   "id": "d05ed578-6de5-41f1-adfa-7e6a6562ea5d",
   "metadata": {},
   "source": [
    "Agregar dispositivo SNMP en localhost"
   ]
  },
  {
   "cell_type": "markdown",
   "id": "46a999a3-5055-4d70-9753-46a639b624de",
   "metadata": {},
   "source": [
    "- En el panel de Cacti:\n",
    "  - Ir a Devices → Add\n",
    "  - Nombre: localhostHostname: 127.0.0.1\n",
    "  - Template: Generic SNMP Device\n",
    "  - SNMP Version: Version 2\n",
    "  - Community: public\n",
    "  - Guardar y luego en la opción \"Create Graphs for this Host\", seleccionar los gráficos a generar."
   ]
  },
  {
   "cell_type": "markdown",
   "id": "73b93570-d88e-4384-bfe8-c46972c65d40",
   "metadata": {},
   "source": [
    "- Ver Gráficos\n",
    "  - Una vez creados los gráficos, esperar unos minutos para que Cacti recoja datos.\n",
    "  - Ir a Graphs\n",
    "  - Buscar el host\n",
    "  - Ver el gráfico generado"
   ]
  },
  {
   "cell_type": "markdown",
   "id": "1f98612b-febf-4b94-9e81-d543ad282506",
   "metadata": {},
   "source": [
    "### 3 Instalar un browser SNMP en Windows\n",
    "- Nota: En Windows primero hay que instalar SNMP y activarlo con PowerShell como administrador"
   ]
  },
  {
   "cell_type": "markdown",
   "id": "23632f91-f8e9-4457-8bdc-f2cf251d8678",
   "metadata": {},
   "source": [
    "#### Descargar MIB Browser para Windows y para Linux"
   ]
  },
  {
   "cell_type": "markdown",
   "id": "317093b0-da7f-4614-9523-1f316142c3a7",
   "metadata": {},
   "source": [
    "- MIB Simulada (SimpleMIB): Esta clase almacena los valores de los OIDs simulados. En este caso, hemos definido un solo OID, que es el estado de un dispositivo (con un valor de 1, indicando \"ON\").\n",
    "- Operaciones GET y SET: La función handle_get_request() simula una solicitud GET, y la función handle_set_request() simula una solicitud SET.\n",
    "- Servidor SNMP: El servidor SNMP virtual se configura para escuchar en el puerto 161 (el puerto estándar para SNMP). En este ejemplo, está diseñado para simular respuestas GET y SET."
   ]
  },
  {
   "cell_type": "markdown",
   "id": "b464f0e9-c287-466b-acb9-4d8bbda9785c",
   "metadata": {},
   "source": [
    "https://www.ireasoning.com/mibbrowser.shtml"
   ]
  },
  {
   "cell_type": "raw",
   "id": "f53bc12d-185b-4fe1-b0fc-6e66b1081b1c",
   "metadata": {},
   "source": [
    "Get-WindowsCapability  -Online -Name SNMP*\n",
    "Get-WindowsCapability -name SNMP* -online | Add-WindowsCapability -Online"
   ]
  },
  {
   "cell_type": "raw",
   "id": "3d86bd70-4c85-420e-b9b2-be30b0138c13",
   "metadata": {},
   "source": [
    "Set-ItemProperty -Path \"HKLM:\\SYSTEM\\CurrentControlSet\\services\\SNMP\\Parameters\\RFC1156Agent\" -Name \"sysContact\" -Value \"Nombre\" -type String\n",
    "Set-ItemProperty -Path \"HKLM:\\SYSTEM\\CurrentControlSet\\services\\SNMP\\Parameters\\RFC1156Agent\" -Name \"sysLocation\" -Value \"UCA\" -type String\n",
    "Set-ItemProperty -Path \"HKLM:\\SYSTEM\\CurrentControlSet\\Services\\SNMP\\Parameters\\ValidCommunities\" -Name \"COMUNIDAD_PDI\" -Value 8 -type DWord\n",
    "Set-ItemProperty -Path \"HKLM:\\SYSTEM\\CurrentControlSet\\Services\\SNMP\\Parameters\\PermittedManagers\" -Name \"1\" -Value \"localhost\" -type String\n",
    "Set-ItemProperty -Path \"HKLM:\\SYSTEM\\CurrentControlSet\\Services\\SNMP\\Parameters\\PermittedManagers\" -Name \"2\" -Value \"192.168.1.78\" -type String\n",
    "Restart-Service -Name SNMP"
   ]
  },
  {
   "cell_type": "markdown",
   "id": "322218dd-73aa-41e5-82eb-254040e290f0",
   "metadata": {},
   "source": [
    "Configuración básica:"
   ]
  },
  {
   "cell_type": "markdown",
   "id": "5e4cff6c-09a0-4e86-8ca5-b2ca72db4284",
   "metadata": {},
   "source": [
    "Mofidicar la configuración del MIB Browser   \n",
    "En address agregar \"localhost\"   \n",
    "\n",
    "![image](https://github.com/jaouret/PDI_2024-TP1-TP2-TP3-TP4/assets/111520053/ad5e4c2c-04a2-4dc2-830c-57262cdfb967)   \n",
    "En advanced en los campos read community y write community agregar COMUNIDAD_PDI. Y la version 2   \n",
    "![image](https://github.com/jaouret/PDI_2024-TP1-TP2-TP3-TP4/assets/111520053/36b36bb8-9f46-438b-87fd-944f64ab80c7)   "
   ]
  },
  {
   "cell_type": "markdown",
   "id": "66d6712d-1204-4214-917a-1415ecd97a88",
   "metadata": {},
   "source": [
    "### 4 Simular un Cliente SNMP con una MIB personalizada"
   ]
  },
  {
   "cell_type": "markdown",
   "id": "9f3cb87d-06c7-423f-b48e-b3dc26716891",
   "metadata": {},
   "source": [
    "##### Objetivo:\n",
    "- Completar la instalación de python para poder usar SNMP como cliente de un agente SNMP (servidor).\n",
    "- Utilizar la librería pysnmp, que permite manejar la gestión de SNMP.\n",
    "- Consultar con un cliene SNMP al equipo con snmpd usando python y también desde gestor snmpd gratuito web (Cacti).\n",
    "- Crear una MIB personalizada y realizar las mismas pruebas."
   ]
  },
  {
   "cell_type": "markdown",
   "id": "3193b5a0-2966-4466-86a6-7f388787ee4c",
   "metadata": {},
   "source": [
    "#### Instalación de pysnmp en Python.\n",
    "Tener en cuenta que pysnmp no es un agente SNMP en sí, sino una librería de Python que permite construir agentes, gestores, traps, y más usando SNMP.\n",
    "Si está snmpd activado en Ubuntu, usar pysnmp desde otro equipo (o el mismo en otra terminal) \n",
    "**NOTA: Directorios indicados son sólo a modo de ejemplo**"
   ]
  },
  {
   "cell_type": "raw",
   "id": "a7e53678-05d9-4e27-880a-5162b6054aac",
   "metadata": {},
   "source": [
    "pip install pysnmp-mibs"
   ]
  },
  {
   "cell_type": "raw",
   "id": "ec8978f4-57ef-4f5f-a25e-b981648334e1",
   "metadata": {},
   "source": [
    "# Instalar repositorio nuevo para reducir posibles conflictos.\n",
    "\n",
    "deactivate  # salir del entorno actual\n",
    "rm -rf snmp_env\n",
    "python3 -m venv snmp_env\n",
    "source snmp_env/bin/activate\n",
    "source /home/javier/Documents/GitRepo/UCA/PdI/Notebooks/proyecto_snmp/snmp_env/bin/activate\n",
    "\n",
    "# reinstalar kernel, llamar a Jupyter lab o notebook desde el nuevo env y luego seleccionar Pythin (SNMP) como kernel\n",
    "\n",
    "pip install --upgrade pip\n",
    "pip install ipykernel\n",
    "python -m ipykernel install --user --name snmp_env --display-name \"Python (SNMP)\"\n",
    "\n",
    "# Usar pysnmp 4.4.12 que es estable y ampliamente usada, la versión recomendada de pyasn1 es 0.4.8.\n",
    "pip install pysnmp==4.4.12 pyasn1==0.4.8 pysmi\n",
    "\n",
    "# Verificar instalación\n",
    "pip list | grep -E 'pysnmp|pyasn1|pysmi'\n",
    "\n",
    "pysnmp    4.4.12\n",
    "pyasn1    0.4.8\n",
    "pysmi     X.Y.Z"
   ]
  },
  {
   "cell_type": "code",
   "execution_count": 13,
   "id": "5aaafcb9-0c76-4b0b-96ff-e3e660af092b",
   "metadata": {
    "scrolled": true
   },
   "outputs": [
    {
     "name": "stdout",
     "output_type": "stream",
     "text": [
      "5.0.0\n"
     ]
    }
   ],
   "source": [
    "import pysnmp\n",
    "print(pysnmp.__version__)"
   ]
  },
  {
   "cell_type": "code",
   "execution_count": 14,
   "id": "c823ae39-26ec-4676-b898-0ddf425da748",
   "metadata": {
    "scrolled": true
   },
   "outputs": [
    {
     "name": "stdout",
     "output_type": "stream",
     "text": [
      "<function getCmd at 0x75a38cec2680> <class 'pysnmp.entity.engine.SnmpEngine'>\n"
     ]
    }
   ],
   "source": [
    "# Prueba de SNMP usando python\n",
    "\n",
    "# getCmd: función que permite realizar una consulta SNMP tipo GET (obtener datos de un agente SNMP remoto).\n",
    "# SnmpEngine: clase que representa el motor SNMP (permite cualquier operación SNMP con pysnmp).\n",
    "# getCmd es una función.\n",
    "# SnmpEngine es una clase.\n",
    "\n",
    "from pysnmp.hlapi import getCmd, SnmpEngine\n",
    "print(getCmd, SnmpEngine)"
   ]
  },
  {
   "cell_type": "code",
   "execution_count": 15,
   "id": "6a1aef3d-19d9-4e65-8423-667f3143cacf",
   "metadata": {},
   "outputs": [
    {
     "name": "stdout",
     "output_type": "stream",
     "text": [
      "/home/javier/Documents/GitRepo/UCA/PdI/Notebooks/proyecto_snmp/snmp_env/bin/python\n",
      "/home/javier/Documents/GitRepo/UCA/PdI/Notebooks/proyecto_snmp/snmp_env/bin/python\n"
     ]
    }
   ],
   "source": [
    "# verifico la ruta del ejecutable de Python que se está utilizando en el entorno actual. Deben coincidir.\n",
    "# Si el sistema tiene otro python por defecto, pero el script está usando uno diferente (el del entorno virtual), se van a producir errores.\n",
    "!which python\n",
    "import sys\n",
    "print(sys.executable)"
   ]
  },
  {
   "cell_type": "code",
   "execution_count": 16,
   "id": "8ed3dc95-bd9f-4fd2-84d1-5d33b678a853",
   "metadata": {},
   "outputs": [
    {
     "name": "stdout",
     "output_type": "stream",
     "text": [
      "pysnmp funciona\n"
     ]
    }
   ],
   "source": [
    "# verifico que el paquete pysnmp esté instalado correctamente en entorno de Python y que puedo importar el módulo hlapi (High-Level API) sin errores.\n",
    "import pysnmp.hlapi\n",
    "print(\"pysnmp funciona\")"
   ]
  },
  {
   "cell_type": "markdown",
   "id": "209167ce-030e-46da-8580-752be09c04a7",
   "metadata": {},
   "source": [
    "pysnmp.hlapi (High-Level API) forma parte de la librería PySNMP y proporciona una interfaz de alto nivel para usar SNMP en Python."
   ]
  },
  {
   "cell_type": "markdown",
   "id": "eacc80d4-b4c1-4845-9aa3-6754f7c4aacb",
   "metadata": {},
   "source": [
    "| Operación     | Función `hlapi`                  | ¿Qué hace?                                         |\n",
    "| ------------- | -------------------------------- | -------------------------------------------------- |\n",
    "| GET           | `getCmd`                         | Consulta un OID específico                         |\n",
    "| GETNEXT       | `nextCmd`                        | Consulta el siguiente OID (como `snmpwalk`)        |\n",
    "| SET           | `setCmd`                         | Cambia el valor de un OID                          |\n",
    "| TRAP (envío)  | `sendNotification`               | Envía traps o informs SNMP                         |\n",
    "| Engine config | `SnmpEngine`, `CommunityData`... | Define cómo se comunica y autentica la sesión SNMP |\n"
   ]
  },
  {
   "cell_type": "markdown",
   "id": "213aed0e-af0e-43a3-8a68-d57e99187969",
   "metadata": {},
   "source": [
    "Script Python básico (GET):"
   ]
  },
  {
   "cell_type": "code",
   "execution_count": 17,
   "id": "b0534d0d-fcbe-4370-a6bb-9e79b6e30667",
   "metadata": {},
   "outputs": [
    {
     "name": "stdout",
     "output_type": "stream",
     "text": [
      "1.3.6.1.2.1.1.1.0 = Linux javier-Yoga-7-16ARP8 6.8.0-59-generic #61~22.04.1-Ubuntu SMP PREEMPT_DYNAMIC Tue Apr 15 17:03:15 UTC 2 x86_64\n"
     ]
    }
   ],
   "source": [
    "from pysnmp.entity.engine import SnmpEngine\n",
    "from pysnmp.hlapi import getCmd, CommunityData, UdpTransportTarget, ContextData, ObjectType, ObjectIdentity\n",
    "\n",
    "iterator = getCmd(\n",
    "    SnmpEngine(),\n",
    "    CommunityData('public'),\n",
    "    UdpTransportTarget(('127.0.0.1', 161)),\n",
    "    ContextData(),\n",
    "    ObjectType(ObjectIdentity('1.3.6.1.2.1.1.1.0'))  # sysDescr\n",
    ")\n",
    "\n",
    "errorIndication, errorStatus, errorIndex, varBinds = next(iterator)\n",
    "\n",
    "if errorIndication:\n",
    "    print(f\"Error: {errorIndication}\")\n",
    "elif errorStatus:\n",
    "    print(f\"Error: {errorStatus.prettyPrint()}\")\n",
    "else:\n",
    "    for varBind in varBinds:\n",
    "        print(f\"{varBind[0]} = {varBind[1]}\")\n"
   ]
  },
  {
   "cell_type": "markdown",
   "id": "e1f6ad4c-a6bc-4ccb-b69d-b8c1e9c0616c",
   "metadata": {},
   "source": [
    "Ejecutamos el mismo comando usando snmpget bajo en linux"
   ]
  },
  {
   "cell_type": "code",
   "execution_count": 18,
   "id": "9f64f2d0-ff01-485e-8fa4-4bdc16ee54d4",
   "metadata": {},
   "outputs": [
    {
     "name": "stdout",
     "output_type": "stream",
     "text": [
      "iso.3.6.1.2.1.1.1.0 = STRING: \"Linux javier-Yoga-7-16ARP8 6.8.0-59-generic #61~22.04.1-Ubuntu SMP PREEMPT_DYNAMIC Tue Apr 15 17:03:15 UTC 2 x86_64\"\n"
     ]
    }
   ],
   "source": [
    "!snmpget -v2c -c public localhost:1161 1.3.6.1.2.1.1.1.0"
   ]
  },
  {
   "cell_type": "markdown",
   "id": "70e19090-1c26-4af5-b0b7-21146b6ee8e5",
   "metadata": {},
   "source": [
    "#### Creación de una MIB"
   ]
  },
  {
   "cell_type": "markdown",
   "id": "f648a072-77d0-410c-8760-c57542b77357",
   "metadata": {},
   "source": [
    "##### Breve descripción de teórica de la MIB\n",
    "Una MIB es un archivo de texto que define objetos SNMP estructurados jerárquicamente. Se puede crear un módulo OIDs propios, por ejemplo para simular sensores, dispositivos, etc.  \n",
    "Una MIB (Management Information Base) es un archivo que define objetos que pueden ser gestionados en un dispositivo mediante el protocolo SNMP (Simple Network Management Protocol). Las MIBs permiten a las herramientas de monitoreo (como Zabbix, Nagios, PRTG, etc.) entender qué datos puede consultar o controlar en un dispositivo de red (como un router, switch, servidor, etc.).   \n",
    "Es un archivo de texto escrito en un lenguaje formal basado en ASN.1 (Abstract Syntax Notation One). \n",
    "Este lenguaje define:\n",
    "- Objetos gestionables\n",
    "- Nombres simbólicos\n",
    "- Tipos de datos\n",
    "- Ubicaciones dentro de una jerarquía de objetos (OID)\n",
    "\n",
    "**Encabezado del módulo**   \n",
    "Define el nombre del módulo y sus dependencias.\n",
    "```json\n",
    "MY-MIB DEFINITIONS ::= BEGIN\n",
    "\n",
    "IMPORTS\n",
    "    MODULE-IDENTITY, OBJECT-TYPE, Integer32\n",
    "        FROM SNMPv2-SMI\n",
    "    TEXTUAL-CONVENTION\n",
    "        FROM SNMPv2-TC;\n",
    "```\n",
    "**Identidad del módulo (MODULE-IDENTITY)**\n",
    "Define quién creó la MIB y otra información administrativa.\n",
    "```json\n",
    "myMIB MODULE-IDENTITY\n",
    "    LAST-UPDATED \"202405190000Z\"\n",
    "    ORGANIZATION \"Mi Empresa\"\n",
    "    CONTACT-INFO \"soporte@miempresa.com\"\n",
    "    DESCRIPTION \"MIB personalizada para sensores de invernadero.\"\n",
    "    ::= { enterprises 99999 }\n",
    "```\n",
    "99999 es un OID asignado a la empresa por IANA, o un número privado en pruebas.\n",
    "\n",
    "**Definiciones de objetos (OBJECT-TYPE)**\n",
    "Cada objeto representa una métrica o configuración accesible por SNMP.\n",
    "```json\n",
    "temperaturaSensor OBJECT-TYPE\n",
    "    SYNTAX      Integer32\n",
    "    MAX-ACCESS  read-only\n",
    "    STATUS      current\n",
    "    DESCRIPTION \"Temperatura medida por el sensor en grados Celsius.\"\n",
    "    ::= { myMIB 1 }\n",
    "\n",
    "```\n",
    "- SYNTAX: tipo de dato (Integer32, OCTET STRING, etc.)\n",
    "- MAX-ACCESS: read-only, read-write, not-accessible\n",
    "- STATUS: current, deprecated, obsolete\n",
    "- ::= { myMIB 1 }: asigna un OID relativo al módulo\n",
    "\n",
    "**Jerarquía de OIDs (Object Identifiers)**\n",
    "Los OIDs son rutas jerárquicas, como direcciones, que identifican objetos.\n",
    "```text\n",
    "1.3.6.1.4.1.99999.1\n",
    "│ │ │ │ │ └──── Empresa privada (enterprise ID asignado por IANA)\n",
    "│ │ │ │ └────── Internet privado\n",
    "│ │ │ └──────── MIB-II\n",
    "│ │ └────────── ISO Identificado por SNMP\n",
    "│ └──────────── Organización internacional\n",
    "└────────────── ISO\n",
    "```\n",
    "  \n",
    "**Estructura mínima de una MIBm y ejemplos**"
   ]
  },
  {
   "cell_type": "markdown",
   "id": "602ca102-9440-4ce0-8897-c25e77b4d657",
   "metadata": {},
   "source": [
    "```json\n",
    "MY-SENSOR-MIB DEFINITIONS ::= BEGIN\n",
    "\n",
    "IMPORTS\n",
    "    MODULE-IDENTITY, OBJECT-TYPE, Integer32\n",
    "        FROM SNMPv2-SMI;\n",
    "\n",
    "mySensorMIB MODULE-IDENTITY\n",
    "    LAST-UPDATED \"202405190000Z\"\n",
    "    ORGANIZATION \"Mi Empresa\"\n",
    "    DESCRIPTION \"MIB personalizada para sensores de temperatura.\"\n",
    "    ::= { enterprises 99999 }\n",
    "\n",
    "temperatura OBJECT-TYPE\n",
    "    SYNTAX      Integer32\n",
    "    MAX-ACCESS  read-only\n",
    "    STATUS      current\n",
    "    DESCRIPTION \"Temperatura en grados Celsius.\"\n",
    "    ::= { mySensorMIB 1 }\n",
    "\n",
    "humedad OBJECT-TYPE\n",
    "    SYNTAX      Integer32\n",
    "    MAX-ACCESS  read-only\n",
    "    STATUS      current\n",
    "    DESCRIPTION \"Humedad relativa en porcentaje.\"\n",
    "    ::= { mySensorMIB 2 }\n",
    "\n",
    "END\n",
    "```"
   ]
  },
  {
   "cell_type": "markdown",
   "id": "d5ea2c19-0ced-4966-b35a-85684b433af2",
   "metadata": {},
   "source": [
    "```json\n",
    "MY-DEMO-MIB DEFINITIONS ::= BEGIN\n",
    "\n",
    "IMPORTS\n",
    "    MODULE-IDENTITY, OBJECT-TYPE, enterprises FROM SNMPv2-SMI;\n",
    "\n",
    "myDemoMIB MODULE-IDENTITY\n",
    "    LAST-UPDATED \"202505120000Z\"\n",
    "    ORGANIZATION \"Nombre o Institución\"\n",
    "    CONTACT-INFO \"un.email@dominio.com\"\n",
    "    DESCRIPTION \"MIB de ejemplo.\"\n",
    "    ::= { enterprises 99999 }\n",
    "\n",
    "-- Definimos un nodo llamado demoText\n",
    "\n",
    "demoText OBJECT-TYPE\n",
    "    SYNTAX      OCTET STRING\n",
    "    MAX-ACCESS  read-write\n",
    "    STATUS      current\n",
    "    DESCRIPTION \"Texto de prueba\"\n",
    "    ::= { myDemoMIB 1 }\n",
    "\n",
    "END\n",
    "```"
   ]
  },
  {
   "cell_type": "markdown",
   "id": "bf6a950f-11d8-4863-bab9-946e7673edd1",
   "metadata": {},
   "source": [
    "##### Creo una MIB para un sensor de temperatura y humedad, la registro con snmpd, y la consulto desde un cliente Python"
   ]
  },
  {
   "cell_type": "markdown",
   "id": "70e70956-4fa2-409e-ba36-47abb2d7251f",
   "metadata": {},
   "source": [
    "Ubicación (verificar): /usr/share/snmp/mibs/MY-SENSOR-MIB.txt"
   ]
  },
  {
   "cell_type": "markdown",
   "id": "141ea98d-bc4d-46be-90eb-649a61a0bd06",
   "metadata": {},
   "source": [
    "```json\n",
    "MY-SENSOR-MIB DEFINITIONS ::= BEGIN\n",
    "\n",
    "IMPORTS\n",
    "    MODULE-IDENTITY, OBJECT-TYPE, Integer32\n",
    "        FROM SNMPv2-SMI\n",
    "    DisplayString\n",
    "        FROM SNMPv2-TC;\n",
    "\n",
    "mySensorMIB MODULE-IDENTITY\n",
    "    LAST-UPDATED \"202405210000Z\"\n",
    "    ORGANIZATION \"TuNombre o Empresa\"\n",
    "    CONTACT-INFO \"Contacto\"\n",
    "    DESCRIPTION \"MIB para sensores de temperatura y humedad\"\n",
    "    ::= { enterprises 99999 }\n",
    "\n",
    "-- Definimos los OID base (usar un número OID único para evitar conflictos)\n",
    "\n",
    "mySensorObjects OBJECT IDENTIFIER ::= { mySensorMIB 1 }\n",
    "\n",
    "temperature OBJECT-TYPE\n",
    "    SYNTAX      Integer32\n",
    "    MAX-ACCESS  read-only\n",
    "    STATUS      current\n",
    "    DESCRIPTION \"Temperatura en grados Celsius\"\n",
    "    ::= { mySensorObjects 1 }\n",
    "\n",
    "humidity OBJECT-TYPE\n",
    "    SYNTAX      Integer32\n",
    "    MAX-ACCESS  read-only\n",
    "    STATUS      current\n",
    "    DESCRIPTION \"Humedad relativa en porcentaje\"\n",
    "    ::= { mySensorObjects 2 }\n",
    "\n",
    "END\n",
    "```"
   ]
  },
  {
   "cell_type": "markdown",
   "id": "1127f25b-78c9-42cb-b16c-8b338200b4a2",
   "metadata": {},
   "source": [
    "- Script para simular valores   \n",
    "  -Creamos un script en bash o Python que imprima valores numéricos.\n",
    "  - Ubicarlo en: /usr/local/bin/sensor_data.sh:"
   ]
  },
  {
   "cell_type": "raw",
   "id": "6a010481-e77a-42ed-8cc6-aa49674c18df",
   "metadata": {},
   "source": [
    "#!/bin/bash\n",
    "echo $((20 + RANDOM % 10))   # Temperatura simulada: 20–29°C\n",
    "echo $((40 + RANDOM % 30))   # Humedad simulada: 40–69%\n",
    "# lo hago ejecutable\n",
    "chmod +x /usr/local/bin/sensor_data.sh"
   ]
  },
  {
   "cell_type": "markdown",
   "id": "a9062e1a-c2ba-4b1e-be5c-c9a59fcae398",
   "metadata": {},
   "source": [
    "Configurar snmpd.   \n",
    "Editar /etc/snmp/snmpd.conf y agregar:"
   ]
  },
  {
   "cell_type": "raw",
   "id": "914950d8-7b9f-469f-9848-3f9dce1bb973",
   "metadata": {},
   "source": [
    "extend .1.3.6.1.4.1.99999.1.1 /usr/local/bin/sensor_data.sh"
   ]
  },
  {
   "cell_type": "markdown",
   "id": "d745fee1-f871-48b8-8d23-0e9ebee89678",
   "metadata": {},
   "source": [
    "Esto registra dos líneas como salida del comando, cada una accesible vía OID .1.3.6.1.4.1.99999.1.1.1.1 (temperatura) y .1.3.6.1.4.1.99999.1.1.1.2 (humedad), bajo el mecanismo NET-SNMP-EXTEND-MIB."
   ]
  },
  {
   "cell_type": "markdown",
   "id": "137dbc73-b042-4557-801d-9164184c9106",
   "metadata": {},
   "source": [
    "Reiniciar el agente SNMP"
   ]
  },
  {
   "cell_type": "raw",
   "id": "b8b1a89d-f565-4b6c-a189-5c98d6caae9f",
   "metadata": {},
   "source": [
    "sudo systemctl restart snmpd"
   ]
  },
  {
   "cell_type": "markdown",
   "id": "03cdc47c-a4ce-4549-8036-59bdf7d8aa5f",
   "metadata": {},
   "source": [
    "Probar desde consola"
   ]
  },
  {
   "cell_type": "raw",
   "id": "de29378e-a65e-445a-8639-0e62cc589e50",
   "metadata": {},
   "source": [
    "snmpwalk -v2c -c public localhost .1.3.6.1.4.1.99999\n",
    "snmpget -v2c -c public localhost .1.3.6.1.4.1.99999.1.1.1.1  # Temperatura\n",
    "snmpget -v2c -c public localhost .1.3.6.1.4.1.99999.1.1.1.2  # Humedad"
   ]
  },
  {
   "cell_type": "markdown",
   "id": "d786bab3-ac47-421e-a7d8-bc266163ac15",
   "metadata": {},
   "source": [
    "##### Realizar la consulta desde python con pysnmp"
   ]
  },
  {
   "cell_type": "code",
   "execution_count": 19,
   "id": "9f6bbc44-db2a-440c-a212-8b87a5ebf6f0",
   "metadata": {},
   "outputs": [
    {
     "name": "stdout",
     "output_type": "stream",
     "text": [
      "1.3.6.1.4.1.99999.1.1.1.1 = \n",
      "1.3.6.1.4.1.99999.1.1.1.2 = \n"
     ]
    }
   ],
   "source": [
    "from pysnmp.hlapi import *\n",
    "\n",
    "def get_oid(host, community, oid):\n",
    "    iterator = getCmd(SnmpEngine(),\n",
    "                      CommunityData(community),\n",
    "                      UdpTransportTarget((host, 161)),\n",
    "                      ContextData(),\n",
    "                      ObjectType(ObjectIdentity(oid)))\n",
    "    \n",
    "    errorIndication, errorStatus, errorIndex, varBinds = next(iterator)\n",
    "    \n",
    "    if errorIndication:\n",
    "        print(\"Error:\", errorIndication)\n",
    "    elif errorStatus:\n",
    "        print(\"SNMP Error:\", errorStatus.prettyPrint())\n",
    "    else:\n",
    "        for varBind in varBinds:\n",
    "            print(f\"{varBind[0]} = {varBind[1]}\")\n",
    "\n",
    "# OIDs\n",
    "TEMP_OID = '1.3.6.1.4.1.99999.1.1.1.1'\n",
    "HUM_OID  = '1.3.6.1.4.1.99999.1.1.1.2'\n",
    "\n",
    "get_oid('localhost', 'public', TEMP_OID)\n",
    "get_oid('localhost', 'public', HUM_OID)\n"
   ]
  }
 ],
 "metadata": {
  "kernelspec": {
   "display_name": "Python (SNMP)",
   "language": "python",
   "name": "snmp_env"
  },
  "language_info": {
   "codemirror_mode": {
    "name": "ipython",
    "version": 3
   },
   "file_extension": ".py",
   "mimetype": "text/x-python",
   "name": "python",
   "nbconvert_exporter": "python",
   "pygments_lexer": "ipython3",
   "version": "3.10.12"
  }
 },
 "nbformat": 4,
 "nbformat_minor": 5
}
