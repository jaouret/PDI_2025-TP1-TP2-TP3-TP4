{
 "cells": [
  {
   "cell_type": "markdown",
   "id": "6e94bc68-df1b-4fdd-8d9d-628fd9c00028",
   "metadata": {},
   "source": [
    "# Trabajo Práctico Nro. 4. R3.\n",
    "### Ing. Javier Ouret - 2025 - UCA - Facultad de Ingeniería\n",
    "## Cliente Servidor utilizando RestAPI. (Entrega 31/06/2025)"
   ]
  },
  {
   "cell_type": "markdown",
   "id": "aa86ef65-9323-408d-a335-3186d05081f2",
   "metadata": {},
   "source": [
    "#### NOTA: este TP usa muchas ventanas terminales. Instalar Tilix para que sea más cómodo el cambio entre las pantallas."
   ]
  },
  {
   "cell_type": "markdown",
   "id": "18e04459-eea3-48e1-85d0-0c53ec4e7fad",
   "metadata": {},
   "source": [
    "#### Cliente en C que actúa como un sensor IoT, publicando datos al broker MQTT (Mosquitto)."
   ]
  },
  {
   "cell_type": "markdown",
   "id": "caa5014b-dec2-43cb-99e6-ed85f4017cce",
   "metadata": {},
   "source": [
    "- Se conecta al broker MQTT.\n",
    "- Publica datos periódicamente (temperatura, CO₂, presión).\n",
    "- Usa protocolo MQTT 3.1/3.1.1 compatible con Flask.\n",
    "- Broker MQTT en funcionamiento (Mosquitto en localhost:1883).\n",
    "- Librería MQTT para C: paho.mqtt.c"
   ]
  },
  {
   "cell_type": "raw",
   "id": "d782eb46-f5e0-4c41-8144-a0fa02b22416",
   "metadata": {},
   "source": [
    "Estructura de carpetas:\n",
    "\n",
    "flask_gateway/\n",
    "├── sensor_temp.c\n",
    "├── sensor_co2.c\n",
    "├── sensor_presion.c\n",
    "\n"
   ]
  },
  {
   "cell_type": "raw",
   "id": "c4866c43-a9e2-4d28-a9ee-4b1dfb6d2e2c",
   "metadata": {},
   "source": [
    "# Instalar Paho MQTT C\n",
    "sudo apt update\n",
    "sudo apt install libpaho-mqtt-dev"
   ]
  },
  {
   "cell_type": "markdown",
   "id": "9353228a-9d82-42c6-ae4f-6180069f3000",
   "metadata": {},
   "source": [
    "sensor_temp.c "
   ]
  },
  {
   "cell_type": "code",
   "execution_count": 1,
   "id": "89240b5a-bf10-4707-ae01-5f54198f22cb",
   "metadata": {},
   "outputs": [
    {
     "name": "stdout",
     "output_type": "stream",
     "text": [
      "Writing sensor_mqtt.c\n"
     ]
    }
   ],
   "source": [
    "%%writefile sensor_mqtt.c\n",
    "#include <stdio.h>\n",
    "#include <stdlib.h>\n",
    "#include <string.h>\n",
    "#include <unistd.h>\n",
    "#include \"MQTTClient.h\"\n",
    "\n",
    "#define ADDRESS     \"tcp://localhost:1883\"\n",
    "#define CLIENTID    \"SensorTempC\"\n",
    "#define TOPIC       \"sensors/temp\"\n",
    "#define QOS         1\n",
    "#define TIMEOUT     10000L\n",
    "\n",
    "int main() {\n",
    "    MQTTClient client;\n",
    "    MQTTClient_connectOptions conn_opts = MQTTClient_connectOptions_initializer;\n",
    "    MQTTClient_create(&client, ADDRESS, CLIENTID,\n",
    "                      MQTTCLIENT_PERSISTENCE_NONE, NULL);\n",
    "\n",
    "    conn_opts.keepAliveInterval = 20;\n",
    "    conn_opts.cleansession = 1;\n",
    "\n",
    "    if (MQTTClient_connect(client, &conn_opts) != MQTTCLIENT_SUCCESS) {\n",
    "        printf(\"Error conectando al broker MQTT\\n\");\n",
    "        return 1;\n",
    "    }\n",
    "\n",
    "    printf(\"Conectado al broker MQTT\\n\");\n",
    "\n",
    "    for (int i = 0; i < 100; i++) {\n",
    "        char payload[100];\n",
    "        float valor = 20.0 + rand() % 10 + ((float) rand() / RAND_MAX);  // valor entre 20–30\n",
    "        snprintf(payload, sizeof(payload), \"{\\\"sensor\\\":\\\"temp\\\",\\\"value\\\":%.2f}\", valor);\n",
    "\n",
    "        MQTTClient_message pubmsg = MQTTClient_message_initializer;\n",
    "        pubmsg.payload = payload;\n",
    "        pubmsg.payloadlen = (int)strlen(payload);\n",
    "        pubmsg.qos = QOS;\n",
    "        pubmsg.retained = 0;\n",
    "\n",
    "        MQTTClient_deliveryToken token;\n",
    "        MQTTClient_publishMessage(client, TOPIC, &pubmsg, &token);\n",
    "        MQTTClient_waitForCompletion(client, token, TIMEOUT);\n",
    "\n",
    "        printf(\"Publicado: %s\\n\", payload);\n",
    "        sleep(5);  // Esperar 5 segundos\n",
    "    }\n",
    "\n",
    "    MQTTClient_disconnect(client, 10000);\n",
    "    MQTTClient_destroy(&client);\n",
    "    return 0;\n",
    "}\n"
   ]
  },
  {
   "cell_type": "raw",
   "id": "78c1b7e9-2fcb-4028-b80a-c30ba18a4854",
   "metadata": {},
   "source": [
    "gcc sensor_mqtt.c -o sensor_mqtt -lpaho-mqtt3c"
   ]
  },
  {
   "cell_type": "markdown",
   "id": "a2feda28-9a39-461f-b357-18f386e16324",
   "metadata": {},
   "source": [
    "Ejecutar"
   ]
  },
  {
   "cell_type": "raw",
   "id": "77346ea1-78e3-4956-946c-e28349ac6cb7",
   "metadata": {},
   "source": [
    "./sensor_mqtt"
   ]
  },
  {
   "cell_type": "markdown",
   "id": "4f82868b-8d11-4e03-ac7e-1e1683336019",
   "metadata": {},
   "source": [
    "Debe verse:"
   ]
  },
  {
   "cell_type": "raw",
   "id": "6379f370-0150-4212-97b7-a15a8ace16fb",
   "metadata": {},
   "source": [
    "Conectado al broker MQTT\n",
    "Publicado: {\"sensor\":\"temp\",\"value\":25.63}"
   ]
  },
  {
   "cell_type": "markdown",
   "id": "666256e6-ff3c-42b7-b022-24e2784f3b0f",
   "metadata": {},
   "source": [
    "Modificar el código anterior para simular sensores de presión y CO₂ cambiando, por ejemplo:\n",
    "- TOPIC = \"sensors/presion\"\n",
    "- CLIENTID = \"SensorPresionC\"\n",
    "\n",
    "Luego generar otros 2 programas en C para simular humedad y CO2:\n",
    "- sensor_co2.c\n",
    "- sensor_presion.c"
   ]
  },
  {
   "cell_type": "markdown",
   "id": "9aafb076-4c40-4aed-8b8e-9f8c966ce286",
   "metadata": {},
   "source": [
    "#### Gateway Flask\n",
    "##### Objetivo: actuar de pasarela enntre los sensores (a través del broker MQTT) y enviar los datos al cliente web si requerir que el cliente los solicite.\n",
    "\n",
    "- Se conecta al broker MQTT (localhost:1883)\n",
    "- Se suscribe a tópicos sensors/#\n",
    "- Cada vez que llega un dato:\n",
    "  - Lo almacena en SQLite\n",
    "  - Lo reenvía por WebSocket a la interfaz web\n",
    "- Cada mensaje MQTT que llega (desde sensores C):\n",
    "  - Se imprime en consola.\n",
    "  - Se guarda en la base de datos.\n",
    "  - Se envía a la interfaz en tiempo real vía WebSocket (sensor_data).\n",
    "  - Usamos Flask como microframework para crear este servidor.  \n",
    "#### ---    \n",
    "- app.py: servidor Flask + WebSocket.\n",
    "- mqtt_receiver.py: conecta al broker MQTT, guarda en BD y emite por WebSocket.\n",
    "- models.py: define tabla SensorData y crea la base de datos SQLite.\n",
    "- templates/index.html: página principal con canvas de gráficos.\n",
    "- static/js/main.js: script que escucha WebSocket y dibuja gráficos Chart.js.\n",
    "- static/css/style.css:\testilo de la interfaz.\n",
    "#### Notas\n",
    "- Evitar:\n",
    "  - Errores de importación circular.\n",
    "  - Problemas de contexto de app.py o socketio en módulos externos\n",
    "  - Errores al pasar referencias (como socketio.emit) entre archivos\n",
    "- eventlet.monkey_patch() debe estar al inicio en la primera línea, antes de cualquier import de Flask o SocketIO.\n",
    "  - Si no está, el servidor puede levantar, pero los WebSockets fallan sin avisos.\n",
    "- Uso correcto de socketio.emit fuera de contexto HTTP\n",
    "  - No usar request, current_app ni app_context, lo que evita errores como:\n",
    "  - \"RuntimeError: Working outside of application context.\"\n",
    "- Uso explícito de transports: ['websocket'] en el navegador.\n",
    "  - Fuerza que la conexión se haga por WebSocket puro (sin polling fallback), lo cual evita problemas de CORS y fallos sin aviso en entornos que no tienen soporte al polling."
   ]
  },
  {
   "cell_type": "code",
   "execution_count": 9,
   "id": "2047d0d4-1d2c-4bf6-b22b-3a2aaa94c5da",
   "metadata": {},
   "outputs": [
    {
     "name": "stdout",
     "output_type": "stream",
     "text": [
      "Writing requirements.txt\n"
     ]
    }
   ],
   "source": [
    "%%writefile requirements.txt\n",
    "Flask\n",
    "Flask-SocketIO\n",
    "eventlet\n",
    "paho-mqtt\n",
    "flask_sqlalchemy"
   ]
  },
  {
   "cell_type": "raw",
   "id": "6dc6f92d-fab0-4f56-bc9f-4082a0049450",
   "metadata": {},
   "source": [
    "pip install -r requirements.txt"
   ]
  },
  {
   "cell_type": "raw",
   "id": "36879626-8c35-4022-aadf-dd7a1189f571",
   "metadata": {},
   "source": [
    "Estructura de carpetas:\n",
    "flask_gateway/\n",
    "├── app.py                # Main Flask app\n",
    "├── mqtt_receiver.py      # Hilo MQTT\n",
    "├── models.py             # Base de datos \n",
    "├── sensor_temp.c\n",
    "├── sensor_co2.c\n",
    "├── sensor_presion.c\n",
    "├── templates/\n",
    "├── static/\n",
    "    └── styles.css\n",
    "\n"
   ]
  },
  {
   "cell_type": "raw",
   "id": "4aa071e6-979d-4076-a4f6-54005f5e4f0c",
   "metadata": {},
   "source": [
    "# Instalar librería MQTT para Python\n",
    "pip install paho-mqtt"
   ]
  },
  {
   "cell_type": "markdown",
   "id": "fc980477-547b-437c-9d38-04a906aa16d4",
   "metadata": {},
   "source": [
    "#### Nota\n",
    "Antes de continuar verificar que estos código integrados funcionan, para verificar compatibilidad del cliente web con websockets.\n",
    "- app_prueba1.py: sin MQTT\n",
    "- app_prueba2.py: con MQTT   \n"
   ]
  },
  {
   "cell_type": "code",
   "execution_count": 8,
   "id": "98c25700-16a8-4727-969c-738f4565e4bb",
   "metadata": {},
   "outputs": [
    {
     "name": "stdout",
     "output_type": "stream",
     "text": [
      "Overwriting flask_gateway/app_prueba1.py\n"
     ]
    }
   ],
   "source": [
    "%%writefile flask_gateway/app_prueba1.py\n",
    "import eventlet\n",
    "eventlet.monkey_patch()\n",
    "\n",
    "from flask import Flask, render_template_string\n",
    "from flask_socketio import SocketIO\n",
    "\n",
    "app = Flask(__name__)\n",
    "# Esta línea es necesaria durante el desarrollo\n",
    "app.config['SECRET_KEY'] = 'secreto'\n",
    "socketio = SocketIO(app, cors_allowed_origins=\"*\")\n",
    "\n",
    "html = '''\n",
    "<!DOCTYPE html>\n",
    "<html>\n",
    "<head>\n",
    "<script src=\"https://cdn.socket.io/3.1.3/socket.io.min.js\"></script>\n",
    "</head>\n",
    "<body>\n",
    "<h2>Test Socket.IO</h2>\n",
    "<ul id=\"messages\"></ul>\n",
    "<script>\n",
    "  var socket = io();\n",
    "  socket.on('connect', () => console.log('Connected!'));\n",
    "  socket.on('message', data => {\n",
    "    console.log('Received:', data);\n",
    "    var li = document.createElement('li');\n",
    "    li.textContent = data;\n",
    "    document.getElementById('messages').appendChild(li);\n",
    "  });\n",
    "</script>\n",
    "</body>\n",
    "</html>\n",
    "'''\n",
    "\n",
    "@app.route('/')\n",
    "def index():\n",
    "    return render_template_string(html)\n",
    "\n",
    "def send_messages():\n",
    "    import time\n",
    "    while True:\n",
    "        with app.app_context():\n",
    "            socketio.emit('message', 'Mensaje desde el servidor!')\n",
    "        socketio.sleep(3)\n",
    "\n",
    "@socketio.on('connect')\n",
    "def on_connect():\n",
    "    print('Cliente conectado')\n",
    "\n",
    "if __name__ == '__main__':\n",
    "    socketio.start_background_task(send_messages)\n",
    "    socketio.run(app, host='0.0.0.0', port=5000)\n"
   ]
  },
  {
   "cell_type": "code",
   "execution_count": 9,
   "id": "56cc34e4-fb93-4604-82c0-922b01be9fa5",
   "metadata": {},
   "outputs": [
    {
     "name": "stdout",
     "output_type": "stream",
     "text": [
      "Overwriting flask_gateway/app_prueba2.py\n"
     ]
    }
   ],
   "source": [
    "%%writefile flask_gateway/app_prueba2.py\n",
    "import eventlet\n",
    "eventlet.monkey_patch()\n",
    "\n",
    "from flask import Flask, render_template_string\n",
    "from flask_socketio import SocketIO\n",
    "import paho.mqtt.client as mqtt\n",
    "import json\n",
    "import threading\n",
    "\n",
    "app = Flask(__name__)\n",
    "# Esta línea es necesaria durante el desarrollo\n",
    "app.config['SECRET_KEY'] = 'secreto'\n",
    "socketio = SocketIO(app, cors_allowed_origins=\"*\")\n",
    "\n",
    "# HTML embebido para prueba directa\n",
    "HTML = '''\n",
    "<!DOCTYPE html>\n",
    "<html>\n",
    "<head>\n",
    "    <meta charset=\"UTF-8\">\n",
    "    <script src=\"https://cdn.socket.io/3.1.3/socket.io.min.js\"></script>\n",
    "</head>\n",
    "<body>\n",
    "<h2>Datos desde MQTT</h2>\n",
    "<ul id=\"mensajes\"></ul>\n",
    "<script>\n",
    "    const socket = io({ transports: ['websocket'] });\n",
    "\n",
    "    socket.on('connect', () => {\n",
    "        console.log('Conectado!');\n",
    "    });\n",
    "\n",
    "    socket.on('nueva_lectura', function(data) {\n",
    "        console.log('Recibido:', data);\n",
    "        const li = document.createElement('li');\n",
    "        li.textContent = `Sensor: ${data.sensor} - Valor: ${data.value}`;\n",
    "        document.getElementById('mensajes').prepend(li);\n",
    "    });\n",
    "\n",
    "    socket.on('disconnect', () => {\n",
    "        console.warn(\"Desconectado del WebSocket\");\n",
    "    });\n",
    "\n",
    "    socket.on('connect_error', err => {\n",
    "        console.error('Error de conexión:', err.message);\n",
    "    });\n",
    "</script>\n",
    "</body>\n",
    "</html>\n",
    "'''\n",
    "\n",
    "@app.route('/')\n",
    "def index():\n",
    "    return render_template_string(HTML)\n",
    "\n",
    "@socketio.on('connect')\n",
    "def on_connect():\n",
    "    print('Cliente web conectado al WebSocket')\n",
    "\n",
    "def on_mqtt_message(client, userdata, msg):\n",
    "    print(\"MQTT recibido:\", msg.payload)\n",
    "    try:\n",
    "        data = json.loads(msg.payload.decode())\n",
    "        print(\"Emitiendo a WebSocket:\", data)\n",
    "        socketio.emit('nueva_lectura', data)\n",
    "    except Exception as e:\n",
    "        print(\"Error al parsear MQTT:\", e)\n",
    "\n",
    "def mqtt_thread():\n",
    "    mqttc = mqtt.Client()\n",
    "    mqttc.on_message = on_mqtt_message\n",
    "    mqttc.connect(\"localhost\", 1883, 60)\n",
    "    mqttc.subscribe(\"sensors/temp\")\n",
    "    print(\"MQTT conectado y suscripto a sensors/temp\")\n",
    "    mqttc.loop_forever()\n",
    "\n",
    "if __name__ == '__main__':\n",
    "    threading.Thread(target=mqtt_thread, daemon=True).start()\n",
    "    socketio.run(app, host='0.0.0.0', port=5000)\n"
   ]
  },
  {
   "cell_type": "markdown",
   "id": "5dcc1b39-cc94-477c-ba3e-d90a498b66e4",
   "metadata": {},
   "source": [
    "#### Si los códigos anteriores funcionaron correctamente separamos la aplicación en módulos.\n",
    "#### Importante:\n",
    "Tener funcionando los simuladores de sensores, el gestor MQTT.\n",
    "Se puede probar que MQTT funciona, por fuera de la aplicación suscribiéndose con:"
   ]
  },
  {
   "cell_type": "raw",
   "id": "e36a65ae-ca93-466a-ac0c-e2721fd4a379",
   "metadata": {},
   "source": [
    "mosquitto_sub -h localhost -t \"sensors/#\" -v"
   ]
  },
  {
   "cell_type": "markdown",
   "id": "ac96e13e-b240-49b2-96fd-cfbcf01fe128",
   "metadata": {},
   "source": [
    "#### Crear mqtt_receiver.py   \n",
    "Este módulo corre en background como hilo del broker MQTT y se integra con SocketIO. Su función es acceder al gestor o broker. Es llamado desde app.py."
   ]
  },
  {
   "cell_type": "code",
   "execution_count": 15,
   "id": "d92ec954-7ba6-4ff8-9153-b95a2534216a",
   "metadata": {},
   "outputs": [
    {
     "name": "stdout",
     "output_type": "stream",
     "text": [
      "Overwriting flask_gateway/mqtt_receiver_R1.py\n"
     ]
    }
   ],
   "source": [
    "%%writefile flask_gateway/mqtt_receiver_R1.py\n",
    "import json\n",
    "import threading\n",
    "import paho.mqtt.client as mqtt\n",
    "\n",
    "_socketio = None  # se guarda como global interna\n",
    "\n",
    "def on_message(client, userdata, msg):\n",
    "    print(\"MQTT recibido:\", msg.payload)\n",
    "    try:\n",
    "        data = json.loads(msg.payload.decode())\n",
    "        print(\"Emitiendo a WebSocket:\", data)\n",
    "        if _socketio:\n",
    "            _socketio.emit('nueva_lectura', data)\n",
    "    except Exception as e:\n",
    "        print(\"Error al procesar MQTT:\", e)\n",
    "\n",
    "def start_mqtt_thread(socketio_instance):\n",
    "    global _socketio\n",
    "    _socketio = socketio_instance\n",
    "\n",
    "    def mqtt_loop():\n",
    "        client = mqtt.Client()\n",
    "        client.on_message = on_message\n",
    "        client.connect(\"localhost\", 1883, 60)\n",
    "        client.subscribe(\"sensors/temp\")\n",
    "        print(\"MQTT conectado y suscripto a sensors/temp\")\n",
    "        client.loop_forever()\n",
    "\n",
    "    thread = threading.Thread(target=mqtt_loop)\n",
    "    thread.daemon = True\n",
    "    thread.start()\n"
   ]
  },
  {
   "cell_type": "code",
   "execution_count": 29,
   "id": "8af3cfac-9eeb-49a5-b1bc-30ac2dfb8a3a",
   "metadata": {},
   "outputs": [
    {
     "name": "stdout",
     "output_type": "stream",
     "text": [
      "Overwriting flask_gateway/mqtt_receiver.py\n"
     ]
    }
   ],
   "source": [
    "%%writefile flask_gateway/mqtt_receiver.py\n",
    "import threading\n",
    "import paho.mqtt.client as mqtt\n",
    "import json\n",
    "import sqlite3\n",
    "import time\n",
    "\n",
    "# Inicializar base de datos\n",
    "def init_db():\n",
    "    conn = sqlite3.connect(\"sensores.db\")\n",
    "    c = conn.cursor()\n",
    "    c.execute('''\n",
    "        CREATE TABLE IF NOT EXISTS lecturas (\n",
    "            id INTEGER PRIMARY KEY AUTOINCREMENT,\n",
    "            sensor TEXT,\n",
    "            valor REAL,\n",
    "            timestamp TEXT\n",
    "        )\n",
    "    ''')\n",
    "    conn.commit()\n",
    "    conn.close()\n",
    "\n",
    "# Insertar lectura\n",
    "def guardar_lectura(sensor, valor):\n",
    "    conn = sqlite3.connect(\"sensores.db\")\n",
    "    c = conn.cursor()\n",
    "    c.execute(\"INSERT INTO lecturas (sensor, valor, timestamp) VALUES (?, ?, datetime('now'))\", (sensor, valor))\n",
    "    conn.commit()\n",
    "    conn.close()\n",
    "\n",
    "def start_mqtt_thread(socketio):\n",
    "    init_db()  # Inicializar DB al comenzar\n",
    "\n",
    "    def on_message(client, userdata, msg):\n",
    "        try:\n",
    "            payload = json.loads(msg.payload.decode())\n",
    "            sensor = payload.get(\"sensor\")\n",
    "            valor = float(payload.get(\"value\"))\n",
    "\n",
    "            print(f\"MQTT: sensor={sensor}, valor={valor}\")\n",
    "            guardar_lectura(sensor, valor)\n",
    "\n",
    "            socketio.emit(\"nueva_lectura\", {\"sensor\": sensor, \"value\": valor})\n",
    "        except Exception as e:\n",
    "            print(\"Error al procesar mensaje MQTT:\", e)\n",
    "\n",
    "    def mqtt_loop():\n",
    "        client = mqtt.Client()\n",
    "        client.connect(\"localhost\", 1883, 60)\n",
    "        client.subscribe(\"sensors/temp\")\n",
    "        client.on_message = on_message\n",
    "        client.loop_forever()\n",
    "\n",
    "    # Lanzar MQTT en hilo separado\n",
    "    hilo = threading.Thread(target=mqtt_loop)\n",
    "    hilo.daemon = True\n",
    "    hilo.start()\n"
   ]
  },
  {
   "cell_type": "markdown",
   "id": "69dd34f6-e221-4e8e-bb01-c4e218d1603a",
   "metadata": {},
   "source": [
    "#### Aplicacion principal app.py"
   ]
  },
  {
   "cell_type": "code",
   "execution_count": 30,
   "id": "e8cd5af3-978b-4517-84c9-6a20e435c5f1",
   "metadata": {},
   "outputs": [
    {
     "name": "stdout",
     "output_type": "stream",
     "text": [
      "Overwriting flask_gateway/app.py\n"
     ]
    }
   ],
   "source": [
    "%%writefile flask_gateway/app.py\n",
    "import eventlet\n",
    "eventlet.monkey_patch()\n",
    "\n",
    "from flask import Flask, render_template\n",
    "from flask_socketio import SocketIO\n",
    "from mqtt_receiver import start_mqtt_thread  # importa hilo MQTT\n",
    "\n",
    "app = Flask(__name__)\n",
    "app.config['SECRET_KEY'] = 'secreto'\n",
    "socketio = SocketIO(app, cors_allowed_origins=\"*\")\n",
    "\n",
    "@app.route('/')\n",
    "def index():\n",
    "    return render_template(\"home.html\")\n",
    "\n",
    "@app.route('/panel')\n",
    "def panel():\n",
    "    return render_template(\"panel.html\")\n",
    "\n",
    "@app.route(\"/historial\")\n",
    "def historial():\n",
    "    import sqlite3\n",
    "    conn = sqlite3.connect(\"sensores.db\")\n",
    "    cursor = conn.cursor()\n",
    "    cursor.execute(\"SELECT * FROM lecturas ORDER BY timestamp DESC LIMIT 100\")\n",
    "    rows = cursor.fetchall()\n",
    "    conn.close()\n",
    "    return render_template(\"historial.html\", datos=rows)\n",
    "\n",
    "@socketio.on('connect')\n",
    "def on_connect():\n",
    "    print(\"Cliente web conectado\")\n",
    "\n",
    "if __name__ == \"__main__\":\n",
    "    start_mqtt_thread(socketio)\n",
    "    print(\"Servidor accesible en el siguiente puerto: http://localhost:5000\")\n",
    "    socketio.run(app, host=\"0.0.0.0\", port=5000)\n"
   ]
  },
  {
   "cell_type": "markdown",
   "id": "e01236e1-1c3f-46aa-be1a-27ca340b6148",
   "metadata": {},
   "source": [
    "#### Cliente web en tiempo real, index.html"
   ]
  },
  {
   "cell_type": "code",
   "execution_count": 31,
   "id": "194890ac-619b-4537-91f4-0d5c34e61708",
   "metadata": {},
   "outputs": [
    {
     "name": "stdout",
     "output_type": "stream",
     "text": [
      "Overwriting flask_gateway/templates/base.html\n"
     ]
    }
   ],
   "source": [
    "%%writefile flask_gateway/templates/base.html\n",
    "<!DOCTYPE html>\n",
    "<html lang=\"es\">\n",
    "<head>\n",
    "  <meta charset=\"UTF-8\">\n",
    "  <title>{% block title %}Dashboard MQTT{% endblock %}</title>\n",
    "\n",
    "  <!-- Bootstrap 5 -->\n",
    "  <link href=\"https://cdn.jsdelivr.net/npm/bootstrap@5.3.3/dist/css/bootstrap.min.css\" rel=\"stylesheet\">\n",
    "  <!-- Estilo personalizado -->\n",
    "  <link rel=\"stylesheet\" href=\"{{ url_for('static', filename='styles.css') }}\">\n",
    "  {% block head_scripts %}{% endblock %}\n",
    "</head>\n",
    "<body class=\"bg-light text-dark\">\n",
    "\n",
    "<nav class=\"navbar navbar-expand-lg navbar-light bg-white border-bottom\">\n",
    "  <div class=\"container-fluid\">\n",
    "    <a class=\"navbar-brand fw-bold\" href=\"/\">Sensores MQTT</a>\n",
    "    <div>\n",
    "      <a href=\"/\" class=\"btn btn-outline-primary me-2\">Panel</a>\n",
    "      <a href=\"/historial\" class=\"btn btn-outline-secondary\">Historial</a>\n",
    "    </div>\n",
    "  </div>\n",
    "</nav>\n",
    "\n",
    "<div class=\"container py-4\">\n",
    "  {% block content %}{% endblock %}\n",
    "</div>\n",
    "\n",
    "{% block footer_scripts %}{% endblock %}\n",
    "</body>\n",
    "</html>\n",
    "\n"
   ]
  },
  {
   "cell_type": "code",
   "execution_count": 32,
   "id": "8fb85a98-d784-4c5f-9f21-5db52612c0c1",
   "metadata": {},
   "outputs": [
    {
     "name": "stdout",
     "output_type": "stream",
     "text": [
      "Overwriting flask_gateway/templates/panel.html\n"
     ]
    }
   ],
   "source": [
    "%%writefile flask_gateway/templates/panel.html\n",
    "{% extends 'base.html' %}\n",
    "\n",
    "{% block title %}Panel MQTT{% endblock %}\n",
    "\n",
    "{% block head_scripts %}\n",
    "<script src=\"https://cdn.socket.io/3.1.3/socket.io.min.js\"></script>\n",
    "<script src=\"https://cdn.jsdelivr.net/npm/chart.js\"></script>\n",
    "{% endblock %}\n",
    "\n",
    "{% block content %}\n",
    "<div class=\"d-flex justify-content-between align-items-center mb-4\">\n",
    "  <h2 class=\"fw-bold\">Panel de Sensores MQTT</h2>\n",
    "  <div>\n",
    "    <button class=\"btn btn-dark me-2\" onclick=\"mostrarConsola()\">🖥️ Consola</button>\n",
    "    <button class=\"btn btn-primary\" onclick=\"mostrarGrafico()\">📈 Gráfico</button>\n",
    "  </div>\n",
    "</div>\n",
    "\n",
    "<div id=\"consolaContainer\" class=\"mb-4\">\n",
    "  <div id=\"consola\">\n",
    "    <ul id=\"mensajes\" class=\"list-unstyled mb-0\"></ul>\n",
    "  </div>\n",
    "</div>\n",
    "\n",
    "<div id=\"graficoContainer\" class=\"card bg-white p-3 d-none\">\n",
    "  <canvas id=\"graficoTemp\"></canvas>\n",
    "</div>\n",
    "{% endblock %}\n",
    "\n",
    "{% block footer_scripts %}\n",
    "<script>\n",
    "  const socket = io({ transports: ['websocket'] });\n",
    "  const ctx = document.getElementById('graficoTemp').getContext('2d');\n",
    "  const chart = new Chart(ctx, {\n",
    "    type: 'line',\n",
    "    data: {\n",
    "      labels: [],\n",
    "      datasets: [{\n",
    "        label: 'Temperatura (°C)',\n",
    "        data: [],\n",
    "        borderColor: 'rgb(13,110,253)',\n",
    "        backgroundColor: 'rgba(13,110,253,0.2)',\n",
    "        tension: 0.4\n",
    "      }]\n",
    "    },\n",
    "    options: {\n",
    "      scales: {\n",
    "        y: { min: 0, max: 50 }\n",
    "      },\n",
    "      plugins: {\n",
    "        legend: { labels: { color: '#000' } }\n",
    "      }\n",
    "    }\n",
    "  });\n",
    "\n",
    "  socket.on('connect', () => {\n",
    "    console.log('Conectado al WebSocket');\n",
    "  });\n",
    "\n",
    "  socket.on('nueva_lectura', (data) => {\n",
    "    const hora = new Date().toLocaleTimeString();\n",
    "    const li = document.createElement('li');\n",
    "    li.textContent = `[${hora}] Sensor: ${data.sensor} | Valor: ${data.value}`;\n",
    "    document.getElementById('mensajes').prepend(li);\n",
    "\n",
    "    if (data.sensor === \"temp\") {\n",
    "      chart.data.labels.push(hora);\n",
    "      chart.data.datasets[0].data.push(data.value);\n",
    "      if (chart.data.labels.length > 20) {\n",
    "        chart.data.labels.shift();\n",
    "        chart.data.datasets[0].data.shift();\n",
    "      }\n",
    "      chart.update();\n",
    "    }\n",
    "  });\n",
    "\n",
    "  socket.on('disconnect', () => console.warn('Desconectado'));\n",
    "  socket.on('connect_error', err => console.error('Error:', err.message));\n",
    "\n",
    "  function mostrarConsola() {\n",
    "    document.getElementById('consolaContainer').classList.remove('d-none');\n",
    "    document.getElementById('graficoContainer').classList.add('d-none');\n",
    "  }\n",
    "\n",
    "  function mostrarGrafico() {\n",
    "    document.getElementById('consolaContainer').classList.add('d-none');\n",
    "    document.getElementById('graficoContainer').classList.remove('d-none');\n",
    "  }\n",
    "</script>\n",
    "{% endblock %}\n"
   ]
  },
  {
   "cell_type": "code",
   "execution_count": 33,
   "id": "21a10e85-a08c-40b7-964c-8cdf137c0818",
   "metadata": {},
   "outputs": [
    {
     "name": "stdout",
     "output_type": "stream",
     "text": [
      "Overwriting flask_gateway/templates/historial.html\n"
     ]
    }
   ],
   "source": [
    "%%writefile flask_gateway/templates/historial.html\n",
    "{% extends 'base.html' %}\n",
    "\n",
    "{% block title %}Historial de Lecturas{% endblock %}\n",
    "\n",
    "{% block content %}\n",
    "<h2 class=\"fw-bold mb-4\">📋 Historial de Lecturas</h2>\n",
    "\n",
    "<div class=\"table-responsive\">\n",
    "  <table class=\"table table-striped table-hover bg-white\">\n",
    "    <thead class=\"table-light\">\n",
    "      <tr>\n",
    "        <th>ID</th>\n",
    "        <th>Sensor</th>\n",
    "        <th>Valor</th>\n",
    "        <th>Fecha y Hora</th>\n",
    "      </tr>\n",
    "    </thead>\n",
    "    <tbody>\n",
    "      {% for row in datos %}\n",
    "      <tr>\n",
    "        <td>{{ row[0] }}</td>\n",
    "        <td>{{ row[1] }}</td>\n",
    "        <td>{{ row[2] }}</td>\n",
    "        <td>{{ row[3] }}</td>\n",
    "      </tr>\n",
    "      {% endfor %}\n",
    "    </tbody>\n",
    "  </table>\n",
    "</div>\n",
    "{% endblock %}\n"
   ]
  },
  {
   "cell_type": "code",
   "execution_count": 34,
   "id": "29ab882b-6cdb-47fe-8efa-4affb1e9b1dc",
   "metadata": {},
   "outputs": [
    {
     "name": "stdout",
     "output_type": "stream",
     "text": [
      "Overwriting flask_gateway/templates/home.html\n"
     ]
    }
   ],
   "source": [
    "%%writefile flask_gateway/templates/home.html\n",
    "{% extends 'base.html' %}\n",
    "\n",
    "{% block title %}Inicio - Sensores MQTT{% endblock %}\n",
    "\n",
    "{% block content %}\n",
    "<div class=\"text-center py-5\">\n",
    "  <h1 class=\"mb-4 fw-bold\">Sistema de Monitoreo MQTT</h1>\n",
    "  <p class=\"lead\">Seleccionar una opción para comenzar:</p>\n",
    "\n",
    "  <div class=\"d-flex justify-content-center gap-4 mt-4\">\n",
    "    <a href=\"/panel\" class=\"btn btn-primary btn-lg\">\n",
    "      Panel Tiempo Real\n",
    "    </a>\n",
    "    <a href=\"/historial\" class=\"btn btn-secondary btn-lg\">\n",
    "      Historial de Datos\n",
    "    </a>\n",
    "  </div>\n",
    "</div>\n",
    "{% endblock %}\n"
   ]
  },
  {
   "cell_type": "code",
   "execution_count": 35,
   "id": "9ffd38c2-82d5-43e4-8189-301c1b8b0c55",
   "metadata": {},
   "outputs": [
    {
     "name": "stdout",
     "output_type": "stream",
     "text": [
      "Overwriting flask_gateway/static/styles.css\n"
     ]
    }
   ],
   "source": [
    "%%writefile flask_gateway/static/styles.css\n",
    "#consola {\n",
    "  background-color: #f8f9fa;\n",
    "  color: #212529;\n",
    "  font-family: monospace;\n",
    "  padding: 1rem;\n",
    "  height: 300px;\n",
    "  overflow-y: auto;\n",
    "  border: 1px solid #dee2e6;\n",
    "  border-radius: 0.5rem;\n",
    "}\n",
    "\n"
   ]
  },
  {
   "cell_type": "markdown",
   "id": "328f5652-8421-4a4e-accd-69f325df518a",
   "metadata": {},
   "source": [
    "### Consigna del TP \n",
    "**Ejercicios a realizar durante la clase. Incluir los códigos dentro de este mismo Notebook**"
   ]
  },
  {
   "cell_type": "markdown",
   "id": "d7c4e55d-7399-4b38-ad82-66e81ac50302",
   "metadata": {},
   "source": [
    "- Modificar todos los códigos para agregar simulación de CO2 y Presión.\n",
    "- Verificar como funciona websocket y explicar.\n",
    "- Verificar como funciona MQTT y explicar.\n",
    "- Explicar simulador de sensor en C.\n",
    "- Mostrar resultados. Graficar y Consola, extendiendo el ejemplo."
   ]
  }
 ],
 "metadata": {
  "kernelspec": {
   "display_name": "Python 3 (ipykernel)",
   "language": "python",
   "name": "python3"
  },
  "language_info": {
   "codemirror_mode": {
    "name": "ipython",
    "version": 3
   },
   "file_extension": ".py",
   "mimetype": "text/x-python",
   "name": "python",
   "nbconvert_exporter": "python",
   "pygments_lexer": "ipython3",
   "version": "3.10.12"
  }
 },
 "nbformat": 4,
 "nbformat_minor": 5
}
