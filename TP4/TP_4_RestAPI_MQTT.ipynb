{
 "cells": [
  {
   "cell_type": "markdown",
   "id": "6e94bc68-df1b-4fdd-8d9d-628fd9c00028",
   "metadata": {},
   "source": [
    "# Trabajo Práctico Nro. 4\n",
    "### Ing. Javier Ouret - 2025 - UCA - Facultad de Ingeniería\n",
    "## Cliente Servidor utilizando RestAPI. (Entrega 31/06/2025)"
   ]
  },
  {
   "cell_type": "markdown",
   "id": "aa86ef65-9323-408d-a335-3186d05081f2",
   "metadata": {},
   "source": [
    "#### NOTA: este TP usa muchas ventanas terminales. Instalar Tilix para que sea más cómodo el cambio entre las pantallas."
   ]
  },
  {
   "cell_type": "markdown",
   "id": "18e04459-eea3-48e1-85d0-0c53ec4e7fad",
   "metadata": {},
   "source": [
    "#### Cliente en C que actúa como un sensor IoT, publicando datos al broker MQTT (Mosquitto)."
   ]
  },
  {
   "cell_type": "markdown",
   "id": "caa5014b-dec2-43cb-99e6-ed85f4017cce",
   "metadata": {},
   "source": [
    "- Se conecta al broker MQTT.\n",
    "- Publica datos periódicamente (temperatura, CO₂, presión).\n",
    "- Usa protocolo MQTT 3.1/3.1.1 compatible con Flask.\n",
    "- Broker MQTT en funcionamiento (Mosquitto en localhost:1883).\n",
    "- Librería MQTT para C: paho.mqtt.c"
   ]
  },
  {
   "cell_type": "raw",
   "id": "d782eb46-f5e0-4c41-8144-a0fa02b22416",
   "metadata": {},
   "source": [
    "Estructura de carpetas:\n",
    "\n",
    "cliente_c_mqtt/\n",
    "├── sensor_temp.c\n",
    "├── sensor_co2.c\n",
    "├── sensor_presion.c\n",
    "\n"
   ]
  },
  {
   "cell_type": "raw",
   "id": "c4866c43-a9e2-4d28-a9ee-4b1dfb6d2e2c",
   "metadata": {},
   "source": [
    "# Instalar Paho MQTT C\n",
    "sudo apt update\n",
    "sudo apt install libpaho-mqtt-dev"
   ]
  },
  {
   "cell_type": "markdown",
   "id": "9353228a-9d82-42c6-ae4f-6180069f3000",
   "metadata": {},
   "source": [
    "sensor_mqtt.c (luego cambiar a sensor_temp.c)"
   ]
  },
  {
   "cell_type": "code",
   "execution_count": 1,
   "id": "89240b5a-bf10-4707-ae01-5f54198f22cb",
   "metadata": {},
   "outputs": [
    {
     "name": "stdout",
     "output_type": "stream",
     "text": [
      "Writing sensor_mqtt.c\n"
     ]
    }
   ],
   "source": [
    "%%writefile sensor_mqtt.c\n",
    "#include <stdio.h>\n",
    "#include <stdlib.h>\n",
    "#include <string.h>\n",
    "#include <unistd.h>\n",
    "#include \"MQTTClient.h\"\n",
    "\n",
    "#define ADDRESS     \"tcp://localhost:1883\"\n",
    "#define CLIENTID    \"SensorTempC\"\n",
    "#define TOPIC       \"sensors/temp\"\n",
    "#define QOS         1\n",
    "#define TIMEOUT     10000L\n",
    "\n",
    "int main() {\n",
    "    MQTTClient client;\n",
    "    MQTTClient_connectOptions conn_opts = MQTTClient_connectOptions_initializer;\n",
    "    MQTTClient_create(&client, ADDRESS, CLIENTID,\n",
    "                      MQTTCLIENT_PERSISTENCE_NONE, NULL);\n",
    "\n",
    "    conn_opts.keepAliveInterval = 20;\n",
    "    conn_opts.cleansession = 1;\n",
    "\n",
    "    if (MQTTClient_connect(client, &conn_opts) != MQTTCLIENT_SUCCESS) {\n",
    "        printf(\"Error conectando al broker MQTT\\n\");\n",
    "        return 1;\n",
    "    }\n",
    "\n",
    "    printf(\"Conectado al broker MQTT\\n\");\n",
    "\n",
    "    for (int i = 0; i < 100; i++) {\n",
    "        char payload[100];\n",
    "        float valor = 20.0 + rand() % 10 + ((float) rand() / RAND_MAX);  // valor entre 20–30\n",
    "        snprintf(payload, sizeof(payload), \"{\\\"sensor\\\":\\\"temp\\\",\\\"value\\\":%.2f}\", valor);\n",
    "\n",
    "        MQTTClient_message pubmsg = MQTTClient_message_initializer;\n",
    "        pubmsg.payload = payload;\n",
    "        pubmsg.payloadlen = (int)strlen(payload);\n",
    "        pubmsg.qos = QOS;\n",
    "        pubmsg.retained = 0;\n",
    "\n",
    "        MQTTClient_deliveryToken token;\n",
    "        MQTTClient_publishMessage(client, TOPIC, &pubmsg, &token);\n",
    "        MQTTClient_waitForCompletion(client, token, TIMEOUT);\n",
    "\n",
    "        printf(\"Publicado: %s\\n\", payload);\n",
    "        sleep(5);  // Esperar 5 segundos\n",
    "    }\n",
    "\n",
    "    MQTTClient_disconnect(client, 10000);\n",
    "    MQTTClient_destroy(&client);\n",
    "    return 0;\n",
    "}\n"
   ]
  },
  {
   "cell_type": "raw",
   "id": "78c1b7e9-2fcb-4028-b80a-c30ba18a4854",
   "metadata": {},
   "source": [
    "gcc sensor_mqtt.c -o sensor_mqtt -lpaho-mqtt3c"
   ]
  },
  {
   "cell_type": "markdown",
   "id": "a2feda28-9a39-461f-b357-18f386e16324",
   "metadata": {},
   "source": [
    "Ejecutar"
   ]
  },
  {
   "cell_type": "raw",
   "id": "77346ea1-78e3-4956-946c-e28349ac6cb7",
   "metadata": {},
   "source": [
    "./sensor_mqtt"
   ]
  },
  {
   "cell_type": "markdown",
   "id": "4f82868b-8d11-4e03-ac7e-1e1683336019",
   "metadata": {},
   "source": [
    "Debe verse:"
   ]
  },
  {
   "cell_type": "raw",
   "id": "6379f370-0150-4212-97b7-a15a8ace16fb",
   "metadata": {},
   "source": [
    "Conectado al broker MQTT\n",
    "Publicado: {\"sensor\":\"temp\",\"value\":25.63}"
   ]
  },
  {
   "cell_type": "markdown",
   "id": "666256e6-ff3c-42b7-b022-24e2784f3b0f",
   "metadata": {},
   "source": [
    "Modificar el código anterior para simular sensores de presión y CO₂ cambiando:\n",
    "- TOPIC = \"sensors/presion\"\n",
    "- CLIENTID = \"SensorPresionC\""
   ]
  },
  {
   "cell_type": "markdown",
   "id": "9aafb076-4c40-4aed-8b8e-9f8c966ce286",
   "metadata": {},
   "source": [
    "#### Gateway Flask\n",
    "- Se conecta al broker MQTT (localhost:1883)\n",
    "- Se suscribe a tópicos sensors/#\n",
    "- Cada vez que llega un dato:\n",
    "  - Lo almacena en SQLite\n",
    "  - Lo reenvía por WebSocket a la interfaz web\n",
    "- Cada mensaje MQTT que llega (desde sensores C):\n",
    "  - Se imprime en consola.\n",
    "  - Se guarda en la base de datos.\n",
    "  - Se envía a la interfaz en tiempo real vía WebSocket (sensor_data).  \n",
    "#### ---    \n",
    "- app.py: servidor Flask + WebSocket.\n",
    "- mqtt_receiver.py: conecta al broker MQTT, guarda en BD y emite por WebSocket.\n",
    "- models.py: define tabla SensorData y crea la base de datos SQLite.\n",
    "- templates/index.html: página principal con canvas de gráficos.\n",
    "- static/js/main.js: script que escucha WebSocket y dibuja gráficos Chart.js.\n",
    "- static/css/style.css:\testilo de la interfaz."
   ]
  },
  {
   "cell_type": "code",
   "execution_count": 9,
   "id": "2047d0d4-1d2c-4bf6-b22b-3a2aaa94c5da",
   "metadata": {},
   "outputs": [
    {
     "name": "stdout",
     "output_type": "stream",
     "text": [
      "Writing requirements.txt\n"
     ]
    }
   ],
   "source": [
    "%%writefile requirements.txt\n",
    "Flask\n",
    "Flask-SocketIO\n",
    "eventlet\n",
    "paho-mqtt\n",
    "flask_sqlalchemy"
   ]
  },
  {
   "cell_type": "raw",
   "id": "6dc6f92d-fab0-4f56-bc9f-4082a0049450",
   "metadata": {},
   "source": [
    "pip install -r requirements.txt"
   ]
  },
  {
   "cell_type": "raw",
   "id": "36879626-8c35-4022-aadf-dd7a1189f571",
   "metadata": {},
   "source": [
    "Estructura de carpetas:\n",
    "flask_gateway/\n",
    "├── app.py                # Main Flask app\n",
    "├── mqtt_receiver.py      # Hilo MQTT\n",
    "├── models.py             # Base de datos SQLite\n",
    "├── templates/\n",
    "├── static/\n"
   ]
  },
  {
   "cell_type": "raw",
   "id": "4aa071e6-979d-4076-a4f6-54005f5e4f0c",
   "metadata": {},
   "source": [
    "# Instalar librería MQTT para Python\n",
    "pip install paho-mqtt"
   ]
  },
  {
   "cell_type": "markdown",
   "id": "ac96e13e-b240-49b2-96fd-cfbcf01fe128",
   "metadata": {},
   "source": [
    "Crear mqtt_receiver.py   \n",
    "Este módulo corre en background como hilo del broker MQTT y se integra con SocketIO."
   ]
  },
  {
   "cell_type": "code",
   "execution_count": 38,
   "id": "c7ad8962-ddf3-494e-961d-b64957d4e53c",
   "metadata": {},
   "outputs": [
    {
     "name": "stdout",
     "output_type": "stream",
     "text": [
      "Overwriting flask_gateway/mqtt_receiver.py\n"
     ]
    }
   ],
   "source": [
    "%%writefile flask_gateway/mqtt_receiver.py\n",
    "import json\n",
    "import paho.mqtt.client as mqtt\n",
    "from datetime import datetime\n",
    "from flask_socketio import SocketIO\n",
    "from models import db, SensorData\n",
    "\n",
    "BROKER = \"localhost\"\n",
    "TOPIC = \"sensors/#\"\n",
    "\n",
    "def start_mqtt(socketio: SocketIO, flask_app):\n",
    "    def on_connect(client, userdata, flags, rc):\n",
    "        print(\"Conectado al broker MQTT:\", rc)\n",
    "        client.subscribe(TOPIC)\n",
    "\n",
    "    def on_message(client, userdata, msg):\n",
    "        try:\n",
    "            payload = json.loads(msg.payload.decode())\n",
    "            print(f\"MQTT recibido: {payload}\")\n",
    "\n",
    "            with flask_app.app_context():\n",
    "                new_data = SensorData(\n",
    "                    tipo=payload.get(\"sensor\"),\n",
    "                    valor=payload.get(\"value\"),\n",
    "                    timestamp=datetime.now()\n",
    "                )\n",
    "                db.session.add(new_data)\n",
    "                db.session.commit()\n",
    "\n",
    "                socketio.emit(\"sensor_data\", {\n",
    "                    \"tipo\": payload.get(\"sensor\"),\n",
    "                    \"valor\": payload.get(\"value\"),\n",
    "                    \"timestamp\": datetime.now().strftime(\"%H:%M:%S\")\n",
    "                })\n",
    "\n",
    "            print(\"Emitido dato a WebSocket:\", payload)\n",
    "        except Exception as e:\n",
    "            print(\"Error procesando mensaje MQTT:\", e)\n",
    "\n",
    "    def mqtt_thread():\n",
    "        client = mqtt.Client()\n",
    "        client.on_connect = on_connect\n",
    "        client.on_message = on_message\n",
    "        client.connect(BROKER, 1883, 60)\n",
    "        client.loop_forever()\n",
    "\n",
    "    socketio.start_background_task(mqtt_thread)\n"
   ]
  },
  {
   "cell_type": "markdown",
   "id": "fc980477-547b-437c-9d38-04a906aa16d4",
   "metadata": {},
   "source": [
    "app_prueba.py"
   ]
  },
  {
   "cell_type": "code",
   "execution_count": 39,
   "id": "f79c1c43-e137-42e4-a764-664947933a47",
   "metadata": {},
   "outputs": [
    {
     "name": "stdout",
     "output_type": "stream",
     "text": [
      "Overwriting flask_gateway/app_prueba.py\n"
     ]
    }
   ],
   "source": [
    "%%writefile flask_gateway/app_prueba.py\n",
    "from flask import Flask, render_template\n",
    "from flask_socketio import SocketIO\n",
    "from threading import Lock\n",
    "import random\n",
    "from datetime import datetime\n",
    "\n",
    "app = Flask(__name__)\n",
    "app.config['SECRET_KEY'] = 'clave'\n",
    "socketio = SocketIO(app, cors_allowed_origins=\"*\")\n",
    "\n",
    "thread = None\n",
    "thread_lock = Lock()\n",
    "\n",
    "def sensor_data_thread():\n",
    "    \"\"\"Envía datos simulados cada 3 segundos a todos los clientes.\"\"\"\n",
    "    while True:\n",
    "        socketio.sleep(3)\n",
    "        data = {\n",
    "            \"tipo\": random.choice([\"temp\", \"co2\", \"presion\"]),\n",
    "            \"valor\": round(random.uniform(15.0, 35.0), 2),\n",
    "            \"timestamp\": datetime.now().strftime(\"%H:%M:%S\")\n",
    "        }\n",
    "        socketio.emit('sensor_data', data)\n",
    "        print(f\"Enviado: {data}\")\n",
    "\n",
    "@app.route(\"/\")\n",
    "def index():\n",
    "    return render_template(\"index.html\")\n",
    "\n",
    "@socketio.on('connect')\n",
    "def on_connect():\n",
    "    global thread\n",
    "    with thread_lock:\n",
    "        if thread is None:\n",
    "            thread = socketio.start_background_task(sensor_data_thread)\n",
    "    print(\"Cliente conectado\")\n",
    "\n",
    "if __name__ == '__main__':\n",
    "    socketio.run(app, host='0.0.0.0', port=5001, debug=True)\n",
    "\n"
   ]
  },
  {
   "cell_type": "code",
   "execution_count": 41,
   "id": "8540083b-7740-4a6f-963c-958cf027115e",
   "metadata": {},
   "outputs": [
    {
     "name": "stdout",
     "output_type": "stream",
     "text": [
      "Overwriting flask_gateway/app.py\n"
     ]
    }
   ],
   "source": [
    "%%writefile flask_gateway/app.py\n",
    "from flask import Flask, render_template\n",
    "from flask_socketio import SocketIO\n",
    "from models import db, init_db\n",
    "from mqtt_receiver import start_mqtt\n",
    "from datetime import datetime\n",
    "from threading import Timer\n",
    "\n",
    "app = Flask(__name__)\n",
    "app.config['SECRET_KEY'] = 'clave'\n",
    "app.config['SQLALCHEMY_DATABASE_URI'] = 'sqlite:///sensores.db'\n",
    "\n",
    "db.init_app(app)\n",
    "socketio = SocketIO(app, async_mode='eventlet', cors_allowed_origins=\"*\")\n",
    "\n",
    "@app.route('/')\n",
    "def index():\n",
    "    return render_template('index.html')\n",
    "\n",
    "# Función para enviar un dato simulado después de 5 segundos\n",
    "def emitir_dato_prueba():\n",
    "    print(\"Enviando dato de prueba\")\n",
    "    socketio.emit(\"sensor_data\", {\n",
    "        \"tipo\": \"temp\",\n",
    "        \"valor\": 26.5,\n",
    "        \"timestamp\": datetime.now().strftime(\"%H:%M:%S\")\n",
    "    })\n",
    "\n",
    "if __name__ == '__main__':\n",
    "    with app.app_context():\n",
    "        init_db()\n",
    "        start_mqtt(socketio, app)\n",
    "\n",
    "        # Enviar dato de prueba al iniciar\n",
    "        Timer(5.0, emitir_dato_prueba).start()\n",
    "\n",
    "    socketio.run(app, host='0.0.0.0', port=5002, debug=True, use_reloader=False)\n"
   ]
  },
  {
   "cell_type": "markdown",
   "id": "7742b860-ffbf-4a29-a43f-54e8a1e6186d",
   "metadata": {},
   "source": [
    "Modelo SensorData en models.py"
   ]
  },
  {
   "cell_type": "code",
   "execution_count": 18,
   "id": "c55d94e8-3d12-44ca-8e80-c48ad846b528",
   "metadata": {},
   "outputs": [
    {
     "name": "stdout",
     "output_type": "stream",
     "text": [
      "Overwriting flask_gateway/models.py\n"
     ]
    }
   ],
   "source": [
    "%%writefile flask_gateway/models.py\n",
    "from flask_sqlalchemy import SQLAlchemy\n",
    "from datetime import datetime\n",
    "\n",
    "db = SQLAlchemy()\n",
    "\n",
    "class SensorData(db.Model):\n",
    "    id = db.Column(db.Integer, primary_key=True)\n",
    "    tipo = db.Column(db.String(50))\n",
    "    valor = db.Column(db.String(50))\n",
    "    timestamp = db.Column(db.DateTime, default=datetime.now)\n",
    "\n",
    "def init_db():\n",
    "    db.create_all()\n"
   ]
  },
  {
   "cell_type": "code",
   "execution_count": 33,
   "id": "03e39904-ce31-4282-8a33-25431b19a22d",
   "metadata": {},
   "outputs": [
    {
     "name": "stdout",
     "output_type": "stream",
     "text": [
      "Overwriting flask_gateway/templates/index.html\n"
     ]
    }
   ],
   "source": [
    "%%writefile flask_gateway/templates/index.html\n",
    "<!DOCTYPE html>\n",
    "<html lang=\"es\">\n",
    "<head>\n",
    "  <meta charset=\"UTF-8\" />\n",
    "  <title>Panel de Sensores con Logs</title>\n",
    "\n",
    "  <!-- Usar socket.io v4 -->\n",
    "  <script src=\"https://cdn.socket.io/4.7.2/socket.io.min.js\"></script>\n",
    "  <script src=\"https://cdn.jsdelivr.net/npm/chart.js\"></script>\n",
    "\n",
    "  <link rel=\"stylesheet\" href=\"{{ url_for('static', filename='css/style.css') }}\" />\n",
    "  <style>\n",
    "    #log {\n",
    "      background: #222;\n",
    "      color: #eee;\n",
    "      font-family: monospace;\n",
    "      font-size: 12px;\n",
    "      height: 120px;\n",
    "      overflow-y: auto;\n",
    "      padding: 8px;\n",
    "      margin-bottom: 10px;\n",
    "      border-radius: 5px;\n",
    "    }\n",
    "  </style>\n",
    "</head>\n",
    "<body>\n",
    "  <div class=\"container\">\n",
    "    <h1>📊 Panel de Sensores IoT con Logs</h1>\n",
    "\n",
    "    <label for=\"sensorFilter\">Filtrar por sensor:</label>\n",
    "    <select id=\"sensorFilter\">\n",
    "      <option value=\"todos\">Todos</option>\n",
    "      <option value=\"temp\">Temperatura</option>\n",
    "      <option value=\"co2\">CO₂</option>\n",
    "      <option value=\"presion\">Presión</option>\n",
    "    </select>\n",
    "\n",
    "    <div id=\"log\"></div>\n",
    "\n",
    "    <canvas id=\"sensorChart\" width=\"800\" height=\"400\"></canvas>\n",
    "  </div>\n",
    "\n",
    "  <script src=\"{{ url_for('static', filename='js/main.js') }}\"></script>\n",
    "</body>\n",
    "</html>\n",
    "l>\n"
   ]
  },
  {
   "cell_type": "code",
   "execution_count": 34,
   "id": "856473d7-5374-4437-b487-5cda3cb4d01e",
   "metadata": {},
   "outputs": [
    {
     "name": "stdout",
     "output_type": "stream",
     "text": [
      "Overwriting flask_gateway/static/js/main.js\n"
     ]
    }
   ],
   "source": [
    "%%writefile flask_gateway/static/js/main.js\n",
    "const socket = io();\n",
    "\n",
    "const ctx = document.getElementById(\"sensorChart\").getContext(\"2d\");\n",
    "const logDiv = document.getElementById(\"log\");\n",
    "\n",
    "let currentFilter = \"todos\";\n",
    "\n",
    "document.getElementById(\"sensorFilter\").addEventListener(\"change\", (e) => {\n",
    "  currentFilter = e.target.value;\n",
    "  clearChart();\n",
    "  log(`Filtro cambiado a: ${currentFilter}`);\n",
    "});\n",
    "\n",
    "const chart = new Chart(ctx, {\n",
    "  type: \"line\",\n",
    "  data: {\n",
    "    labels: [],\n",
    "    datasets: [{\n",
    "      label: \"Valor de sensor\",\n",
    "      data: [],\n",
    "      borderColor: \"rgba(75, 192, 192, 1)\",\n",
    "      backgroundColor: \"rgba(75, 192, 192, 0.2)\",\n",
    "      borderWidth: 2,\n",
    "      tension: 0.3\n",
    "    }]\n",
    "  },\n",
    "  options: {\n",
    "    responsive: true,\n",
    "    scales: {\n",
    "      x: {\n",
    "        title: { display: true, text: \"Hora\" }\n",
    "      },\n",
    "      y: {\n",
    "        beginAtZero: false,\n",
    "        title: { display: true, text: \"Valor\" }\n",
    "      }\n",
    "    }\n",
    "  }\n",
    "});\n",
    "\n",
    "function clearChart() {\n",
    "  chart.data.labels = [];\n",
    "  chart.data.datasets[0].data = [];\n",
    "  chart.update();\n",
    "}\n",
    "\n",
    "function log(msg) {\n",
    "  console.log(msg);\n",
    "  const p = document.createElement(\"p\");\n",
    "  p.textContent = msg;\n",
    "  logDiv.appendChild(p);\n",
    "  logDiv.scrollTop = logDiv.scrollHeight;\n",
    "}\n",
    "\n",
    "socket.on(\"connect\", () => {\n",
    "  log(\"Conectado al servidor WebSocket\");\n",
    "});\n",
    "\n",
    "socket.on(\"disconnect\", () => {\n",
    "  log(\"Desconectado del servidor WebSocket\");\n",
    "});\n",
    "\n",
    "socket.on(\"sensor_data\", (data) => {\n",
    "  log(`📡 Recibido: sensor=${data.tipo} valor=${data.valor} hora=${data.timestamp}`);\n",
    "\n",
    "  if (currentFilter === \"todos\" || data.tipo === currentFilter) {\n",
    "    chart.data.labels.push(data.timestamp);\n",
    "    chart.data.datasets[0].data.push(parseFloat(data.valor));\n",
    "\n",
    "    if (chart.data.labels.length > 30) {\n",
    "      chart.data.labels.shift();\n",
    "      chart.data.datasets[0].data.shift();\n",
    "    }\n",
    "\n",
    "    chart.update();\n",
    "  }\n",
    "});\n"
   ]
  },
  {
   "cell_type": "code",
   "execution_count": 35,
   "id": "c2c1399c-c680-4fac-aa97-8de50f68a48f",
   "metadata": {},
   "outputs": [
    {
     "name": "stdout",
     "output_type": "stream",
     "text": [
      "Overwriting flask_gateway/static/css/style.css\n"
     ]
    }
   ],
   "source": [
    "%%writefile flask_gateway/static/css/style.css\n",
    "body {\n",
    "  font-family: \"Segoe UI\", Tahoma, Geneva, Verdana, sans-serif;\n",
    "  background-color: #f4f6f8;\n",
    "  color: #333;\n",
    "  margin: 0;\n",
    "  padding: 20px;\n",
    "}\n",
    "\n",
    ".container {\n",
    "  max-width: 900px;\n",
    "  margin: auto;\n",
    "  padding: 20px;\n",
    "  background: #ffffff;\n",
    "  border-radius: 8px;\n",
    "  box-shadow: 0 0 15px rgba(0,0,0,0.1);\n",
    "}\n",
    "\n",
    "h1 {\n",
    "  text-align: center;\n",
    "  color: #007bff;\n",
    "  margin-bottom: 20px;\n",
    "}\n",
    "\n",
    "label {\n",
    "  font-weight: bold;\n",
    "}\n",
    "\n",
    "select {\n",
    "  padding: 6px;\n",
    "  margin-left: 10px;\n",
    "  margin-bottom: 20px;\n",
    "}\n"
   ]
  },
  {
   "cell_type": "markdown",
   "id": "328f5652-8421-4a4e-accd-69f325df518a",
   "metadata": {},
   "source": [
    "### Consigna del TP \n",
    "**Ejercicios a realizar durante la clase. Incluir los códigos dentro de este mismo Notebook**"
   ]
  },
  {
   "cell_type": "markdown",
   "id": "d7c4e55d-7399-4b38-ad82-66e81ac50302",
   "metadata": {},
   "source": [
    "- Ejecutar para simular CO2 y Presión.\n",
    "- Graficar\n",
    "- Verificar como funciona websocket y explicar.\n",
    "- Verificar como funciona MQTT y explicar.\n",
    "- Explicar simulador de sensor en C.\n",
    "- Mostrar resultados."
   ]
  }
 ],
 "metadata": {
  "kernelspec": {
   "display_name": "Python 3 (ipykernel)",
   "language": "python",
   "name": "python3"
  },
  "language_info": {
   "codemirror_mode": {
    "name": "ipython",
    "version": 3
   },
   "file_extension": ".py",
   "mimetype": "text/x-python",
   "name": "python",
   "nbconvert_exporter": "python",
   "pygments_lexer": "ipython3",
   "version": "3.10.12"
  }
 },
 "nbformat": 4,
 "nbformat_minor": 5
}
